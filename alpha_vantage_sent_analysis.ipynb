{
 "cells": [
  {
   "cell_type": "code",
   "execution_count": 1,
   "id": "initial_id",
   "metadata": {
    "collapsed": true,
    "ExecuteTime": {
     "end_time": "2024-07-29T06:30:47.120097Z",
     "start_time": "2024-07-29T06:30:46.400488Z"
    }
   },
   "outputs": [],
   "source": [
    "import json\n",
    "import os\n",
    "\n",
    "import pandas as pd\n",
    "import requests"
   ]
  },
  {
   "cell_type": "code",
   "outputs": [],
   "source": [
    "# Vantage news API Key\n",
    "with open('./env', mode='r', encoding='utf-8') as f:\n",
    "    api_key = f.readline().split('=')[-1]\n",
    "\n",
    "# 30 days of financial news (FREE tier only allows for 25 requests/day, hence, only 25 days of data is collected).\n",
    "for i in range(30):\n",
    "    time_from = f'202212{'0' + str(i + 1) if i + 1 < 10 else str(i + 1)}T0001'\n",
    "    time_to = f'202212{'0' + str(i + 2) if i + 2 < 10 else str(i + 2)}T0000'\n",
    "\n",
    "    print(f'{time_from} - {time_to}')\n",
    "    # ticker = 'MSFT'\n",
    "    url = f'https://www.alphavantage.co/query?function=NEWS_SENTIMENT&time_from={time_from}&time_to={time_to}&limit=1000&apikey={api_key}'\n",
    "    r = requests.get(url, headers={\n",
    "        'User-Agent': \"Mozilla/5.0 (Macintosh; Intel Mac OS X 10_14_1) AppleWebKit/537.36 (KHTML, like Gecko) Chrome/73.0.3683.75 Safari/537.36\",\n",
    "        'Accept-Language': 'en-US,en;h=0.9'})\n",
    "    data = r.json()\n",
    "\n",
    "    with open(f'./data/data_{time_from}_{time_to}.json', 'w') as fp:\n",
    "        json.dump(data, fp)\n"
   ],
   "metadata": {
    "collapsed": false,
    "ExecuteTime": {
     "end_time": "2024-07-29T06:30:53.093621Z",
     "start_time": "2024-07-29T06:30:53.088642Z"
    }
   },
   "id": "4a70b980e05e152e",
   "execution_count": 2
  },
  {
   "cell_type": "code",
   "outputs": [],
   "source": [
    "def read_json_files(dir: str, fname_filter=None) -> list:\n",
    "    json_fnames = []\n",
    "    for (_, _, fnames) in os.walk(dir):\n",
    "        json_fnames.extend(fnames)\n",
    "        break  # ensure only top level json files are read.\n",
    "\n",
    "    filter_predicate = lambda name: name.startswith(fname_filter) and name.endswith('.json') if fname_filter else lambda \\\n",
    "            name: name.startswith(filter)\n",
    "    json_fnames = list(filter(filter_predicate, json_fnames))\n",
    "\n",
    "    json_data = []\n",
    "    for fname in json_fnames:\n",
    "        with open(f'{dir}/{fname}', 'r') as json_file:\n",
    "            json_data.append(json.load(json_file))\n",
    "    return json_data\n",
    "\n",
    "\n",
    "json_data = read_json_files('./data', 'data')"
   ],
   "metadata": {
    "collapsed": false,
    "ExecuteTime": {
     "end_time": "2024-07-29T06:31:25.355769Z",
     "start_time": "2024-07-29T06:31:25.050586Z"
    }
   },
   "id": "9f75acef91cb73b2",
   "execution_count": 5
  },
  {
   "cell_type": "code",
   "outputs": [
    {
     "name": "stdout",
     "output_type": "stream",
     "text": [
      "items\n",
      "sentiment_score_definition\n",
      "relevance_score_definition\n",
      "feed[0]:\n",
      "\t['title', 'url', 'time_published', 'authors', 'summary', 'banner_image', 'source', 'category_within_source', 'source_domain', 'topics', 'overall_sentiment_score', 'overall_sentiment_label', 'ticker_sentiment']\n"
     ]
    }
   ],
   "source": [
    "keys = json_data[0].keys()\n",
    "for k in list(keys):\n",
    "    value = json_data[0][k]\n",
    "    if type(value) == dict:\n",
    "        print(f'{k}:')\n",
    "        for attr in value.keys():\n",
    "            print(f'\\t{attr}')\n",
    "    elif type(value) == list:\n",
    "        print(f'{k}[0]:')\n",
    "        print(f'\\t{list(value[0].keys())}')\n",
    "    else:\n",
    "        print(f'{k}')\n"
   ],
   "metadata": {
    "collapsed": false,
    "ExecuteTime": {
     "end_time": "2024-07-29T06:31:27.068446Z",
     "start_time": "2024-07-29T06:31:27.061271Z"
    }
   },
   "id": "a43229f1bea45ec4",
   "execution_count": 6
  },
  {
   "cell_type": "code",
   "outputs": [],
   "source": [
    "def parse_vantage_api_data(json_data: list) -> pd.DataFrame:\n",
    "    df_list = []\n",
    "    for json_dict in json_data:\n",
    "        for item in json_dict['feed']:\n",
    "            item_dict = {'title': item['title'], 'time_published': item['time_published'], 'summary': item['summary'],\n",
    "                         'overall_sentiment_label': item['overall_sentiment_label'],\n",
    "                         'ticker_sentiment': item['ticker_sentiment']}\n",
    "            df_list.append(item_dict)\n",
    "    return pd.DataFrame(df_list)\n",
    "\n",
    "\n",
    "data_df = parse_vantage_api_data(json_data)"
   ],
   "metadata": {
    "collapsed": false,
    "ExecuteTime": {
     "end_time": "2024-07-29T06:31:30.507758Z",
     "start_time": "2024-07-29T06:31:30.464159Z"
    }
   },
   "id": "f2beab638264135a",
   "execution_count": 7
  },
  {
   "cell_type": "code",
   "outputs": [
    {
     "data": {
      "text/plain": "                                                   title   time_published  \\\n0        Used Auto Loan Payments Have Topped a Key Level  20221202T000000   \n1      Exclusive: Republicans introduce legislation t...  20221201T235959   \n2           Bitcoin mining revenues fell 20% in November  20221201T235942   \n3      Mercantile Appoints New Members to Bank Board ...  20221201T235900   \n4      Nicholas Truglia served with 18-month prison s...  20221201T235817   \n...                                                  ...              ...   \n20473  Auto Expo to show EV might | The Financial Exp...  20221225T005000   \n20474  Chanda Kochhar, husband in CBI custody till Mo...  20221225T004000   \n20475  Important January 17, 2023 Deadline Reminder: ...  20221225T003400   \n20476  Numerous Strategies Have Failed To Get Adverti...  20221225T001515   \n20477  SHAREHOLDER ALERT: Pomerantz Law Firm Investig...  20221225T000849   \n\n                                                 summary  \\\n0      Car buyers still face shortages and rising pri...   \n1      Republicans introduce legislation to thwart ES...   \n2      Bitcoin mining revenues fell 19.9% in November...   \n3      GRAND RAPIDS, Mich., Dec. 1, 2022 /PRNewswire/...   \n4      Nicholas Truglia, the 25-year-old hacker who l...   \n...                                                  ...   \n20473  Auto Expo to show EV might The Financial Expre...   \n20474  Chanda Kochhar, husband in CBI custody till Mo...   \n20475  RADNOR, Pa., Dec. 24, 2022 ( GLOBE NEWSWIRE ) ...   \n20476  With Elon Musk agreeing to resign as CEO after...   \n20477  NEW YORK, Dec. 24, 2022 ( GLOBE NEWSWIRE ) -- ...   \n\n      overall_sentiment_label  \\\n0                     Neutral   \n1                     Neutral   \n2                     Neutral   \n3                     Neutral   \n4                     Neutral   \n...                       ...   \n20473                 Neutral   \n20474                 Neutral   \n20475                 Neutral   \n20476                 Neutral   \n20477                 Neutral   \n\n                                        ticker_sentiment  \n0                                                     []  \n1                                                     []  \n2      [{'ticker': 'CRYPTO:BTC', 'relevance_score': '...  \n3      [{'ticker': 'META', 'relevance_score': '0.0493...  \n4                                                     []  \n...                                                  ...  \n20473  [{'ticker': 'TTM', 'relevance_score': '0.06292...  \n20474  [{'ticker': 'IBN', 'relevance_score': '0.26610...  \n20475  [{'ticker': 'OLPX', 'relevance_score': '0.5854...  \n20476  [{'ticker': 'TSLA', 'relevance_score': '0.2653...  \n20477  [{'ticker': 'VWE', 'relevance_score': '0.30317...  \n\n[20478 rows x 5 columns]",
      "text/html": "<div>\n<style scoped>\n    .dataframe tbody tr th:only-of-type {\n        vertical-align: middle;\n    }\n\n    .dataframe tbody tr th {\n        vertical-align: top;\n    }\n\n    .dataframe thead th {\n        text-align: right;\n    }\n</style>\n<table border=\"1\" class=\"dataframe\">\n  <thead>\n    <tr style=\"text-align: right;\">\n      <th></th>\n      <th>title</th>\n      <th>time_published</th>\n      <th>summary</th>\n      <th>overall_sentiment_label</th>\n      <th>ticker_sentiment</th>\n    </tr>\n  </thead>\n  <tbody>\n    <tr>\n      <th>0</th>\n      <td>Used Auto Loan Payments Have Topped a Key Level</td>\n      <td>20221202T000000</td>\n      <td>Car buyers still face shortages and rising pri...</td>\n      <td>Neutral</td>\n      <td>[]</td>\n    </tr>\n    <tr>\n      <th>1</th>\n      <td>Exclusive: Republicans introduce legislation t...</td>\n      <td>20221201T235959</td>\n      <td>Republicans introduce legislation to thwart ES...</td>\n      <td>Neutral</td>\n      <td>[]</td>\n    </tr>\n    <tr>\n      <th>2</th>\n      <td>Bitcoin mining revenues fell 20% in November</td>\n      <td>20221201T235942</td>\n      <td>Bitcoin mining revenues fell 19.9% in November...</td>\n      <td>Neutral</td>\n      <td>[{'ticker': 'CRYPTO:BTC', 'relevance_score': '...</td>\n    </tr>\n    <tr>\n      <th>3</th>\n      <td>Mercantile Appoints New Members to Bank Board ...</td>\n      <td>20221201T235900</td>\n      <td>GRAND RAPIDS, Mich., Dec. 1, 2022 /PRNewswire/...</td>\n      <td>Neutral</td>\n      <td>[{'ticker': 'META', 'relevance_score': '0.0493...</td>\n    </tr>\n    <tr>\n      <th>4</th>\n      <td>Nicholas Truglia served with 18-month prison s...</td>\n      <td>20221201T235817</td>\n      <td>Nicholas Truglia, the 25-year-old hacker who l...</td>\n      <td>Neutral</td>\n      <td>[]</td>\n    </tr>\n    <tr>\n      <th>...</th>\n      <td>...</td>\n      <td>...</td>\n      <td>...</td>\n      <td>...</td>\n      <td>...</td>\n    </tr>\n    <tr>\n      <th>20473</th>\n      <td>Auto Expo to show EV might | The Financial Exp...</td>\n      <td>20221225T005000</td>\n      <td>Auto Expo to show EV might The Financial Expre...</td>\n      <td>Neutral</td>\n      <td>[{'ticker': 'TTM', 'relevance_score': '0.06292...</td>\n    </tr>\n    <tr>\n      <th>20474</th>\n      <td>Chanda Kochhar, husband in CBI custody till Mo...</td>\n      <td>20221225T004000</td>\n      <td>Chanda Kochhar, husband in CBI custody till Mo...</td>\n      <td>Neutral</td>\n      <td>[{'ticker': 'IBN', 'relevance_score': '0.26610...</td>\n    </tr>\n    <tr>\n      <th>20475</th>\n      <td>Important January 17, 2023 Deadline Reminder: ...</td>\n      <td>20221225T003400</td>\n      <td>RADNOR, Pa., Dec. 24, 2022 ( GLOBE NEWSWIRE ) ...</td>\n      <td>Neutral</td>\n      <td>[{'ticker': 'OLPX', 'relevance_score': '0.5854...</td>\n    </tr>\n    <tr>\n      <th>20476</th>\n      <td>Numerous Strategies Have Failed To Get Adverti...</td>\n      <td>20221225T001515</td>\n      <td>With Elon Musk agreeing to resign as CEO after...</td>\n      <td>Neutral</td>\n      <td>[{'ticker': 'TSLA', 'relevance_score': '0.2653...</td>\n    </tr>\n    <tr>\n      <th>20477</th>\n      <td>SHAREHOLDER ALERT: Pomerantz Law Firm Investig...</td>\n      <td>20221225T000849</td>\n      <td>NEW YORK, Dec. 24, 2022 ( GLOBE NEWSWIRE ) -- ...</td>\n      <td>Neutral</td>\n      <td>[{'ticker': 'VWE', 'relevance_score': '0.30317...</td>\n    </tr>\n  </tbody>\n</table>\n<p>20478 rows × 5 columns</p>\n</div>"
     },
     "execution_count": 8,
     "metadata": {},
     "output_type": "execute_result"
    }
   ],
   "source": [
    "data_df"
   ],
   "metadata": {
    "collapsed": false,
    "ExecuteTime": {
     "end_time": "2024-07-29T06:31:32.985079Z",
     "start_time": "2024-07-29T06:31:32.965759Z"
    }
   },
   "id": "b46d0888686dd73a",
   "execution_count": 8
  }
 ],
 "metadata": {
  "kernelspec": {
   "display_name": "Python 3",
   "language": "python",
   "name": "python3"
  },
  "language_info": {
   "codemirror_mode": {
    "name": "ipython",
    "version": 2
   },
   "file_extension": ".py",
   "mimetype": "text/x-python",
   "name": "python",
   "nbconvert_exporter": "python",
   "pygments_lexer": "ipython2",
   "version": "2.7.6"
  }
 },
 "nbformat": 4,
 "nbformat_minor": 5
}
