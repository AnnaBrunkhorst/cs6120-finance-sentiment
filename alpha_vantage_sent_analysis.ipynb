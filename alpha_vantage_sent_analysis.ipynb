{
 "cells": [
  {
   "cell_type": "code",
   "execution_count": null,
   "id": "initial_id",
   "metadata": {
    "collapsed": true,
    "is_executing": true,
    "ExecuteTime": {
     "start_time": "2024-08-11T18:43:11.374850Z"
    }
   },
   "outputs": [],
   "source": [
    "import json\n",
    "import os\n",
    "import re\n",
    "\n",
    "import matplotlib.pyplot as plt\n",
    "import numpy as np\n",
    "import pandas as pd\n",
    "import requests\n",
    "import spacy as sp\n",
    "import torch\n",
    "import torch.nn as nn\n",
    "from sklearn.model_selection import train_test_split\n",
    "from sklearn.metrics import accuracy_score, f1_score\n",
    "from spacy.tokens import Doc\n",
    "from sklearn.utils import resample\n",
    "from datetime import datetime, timedelta\n",
    "\n",
    "%matplotlib inline"
   ]
  },
  {
   "cell_type": "code",
   "outputs": [
    {
     "data": {
      "text/plain": "[('20240801T0001', '20240802T0000'),\n ('20240802T0001', '20240803T0000'),\n ('20240803T0001', '20240804T0000'),\n ('20240804T0001', '20240805T0000'),\n ('20240805T0001', '20240806T0000'),\n ('20240806T0001', '20240807T0000'),\n ('20240807T0001', '20240808T0000'),\n ('20240808T0001', '20240809T0000'),\n ('20240809T0001', '20240810T0000')]"
     },
     "execution_count": 2,
     "metadata": {},
     "output_type": "execute_result"
    }
   ],
   "source": [
    "DATETIME_FORMAT = '%Y%m%dT%H%M'\n",
    "\n",
    "def generate_timestamps(start_date, end_date, interval_days=1):\n",
    "    start_datetime = datetime.strptime(start_date, DATETIME_FORMAT) + timedelta(minutes=1)\n",
    "    end_datetime = datetime.strptime(start_date, DATETIME_FORMAT) + timedelta(days=1)\n",
    "    timestamps = [] # a list of start and end timestamps (a tuple for each day)\n",
    "\n",
    "    while end_datetime <= datetime.strptime(end_date, DATETIME_FORMAT):\n",
    "        timestamps.append((start_datetime.strftime(DATETIME_FORMAT), end_datetime.strftime(DATETIME_FORMAT)))\n",
    "        start_datetime += timedelta(days=1)\n",
    "        end_datetime += timedelta(days=1)\n",
    "    return timestamps\n",
    "\n",
    "# Example usage\n",
    "start_date = '20240801T0000'\n",
    "end_date = '20240810T0000'\n",
    "timestamps = generate_timestamps(start_date, end_date)\n",
    "timestamps"
   ],
   "metadata": {
    "collapsed": false,
    "ExecuteTime": {
     "end_time": "2024-08-11T17:26:11.591133Z",
     "start_time": "2024-08-11T17:26:11.586141Z"
    }
   },
   "id": "8189e98e769ae810",
   "execution_count": 2
  },
  {
   "cell_type": "code",
   "outputs": [
    {
     "name": "stdout",
     "output_type": "stream",
     "text": [
      "20240801T0001 - 20240802T0000\n",
      "20240802T0001 - 20240803T0000\n",
      "20240803T0001 - 20240804T0000\n",
      "20240804T0001 - 20240805T0000\n",
      "20240805T0001 - 20240806T0000\n",
      "20240806T0001 - 20240807T0000\n",
      "20240807T0001 - 20240808T0000\n",
      "20240808T0001 - 20240809T0000\n",
      "20240809T0001 - 20240810T0000\n"
     ]
    }
   ],
   "source": [
    "# Vantage news API Key\n",
    "with open('./env', mode='r', encoding='utf-8') as f:\n",
    "    api_key = f.readline().split('=')[-1]\n",
    "\n",
    "i = 0\n",
    "\n",
    "# 30 days of financial news (FREE tier only allows 25 requests/day, hence, only 25 days of data is collected).\n",
    "for t in timestamps:\n",
    "    time_from, time_to = t[0], t[1]\n",
    "\n",
    "    # ticker = 'MSFT'\n",
    "    url = f'https://www.alphavantage.co/query?function=NEWS_SENTIMENT&time_from={time_from}&time_to={time_to}&limit=1000&apikey={api_key}'\n",
    "    r = requests.get(url, headers={\n",
    "        'User-Agent': \"Mozilla/5.0 (Macintosh; Intel Mac OS X 10_14_1) AppleWebKit/537.36 (KHTML, like Gecko) Chrome/73.0.3683.75 Safari/537.36\",\n",
    "        'Accept-Language': 'en-US,en;h=0.9'})\n",
    "    if r.status_code == 200:\n",
    "        print(f'{time_from} - {time_to}')\n",
    "        data = r.json()\n",
    "    else:\n",
    "        break\n",
    "    # UNCOMMENT TO SAVE JSON, intended for one time download only.\n",
    "    # with open(f'./data_2024/data_{time_from}_{time_to}.json', 'w') as fp:\n",
    "    #     json.dump(data, fp)\n"
   ],
   "metadata": {
    "collapsed": false,
    "ExecuteTime": {
     "end_time": "2024-08-11T16:55:46.143801Z",
     "start_time": "2024-08-11T16:55:29.831030Z"
    }
   },
   "id": "4a70b980e05e152e",
   "execution_count": 36
  },
  {
   "cell_type": "code",
   "outputs": [],
   "source": [
    "def read_json_files(dir: str, fname_filter=None) -> list:\n",
    "    json_fnames = []\n",
    "    for (_, _, fnames) in os.walk(dir):\n",
    "        json_fnames.extend(fnames)\n",
    "        break  # ensure only top level json files are read.\n",
    "\n",
    "    filter_predicate = lambda name: name.startswith(fname_filter) and name.endswith('.json') if fname_filter else lambda \\\n",
    "            name: name.startswith(filter)\n",
    "    json_fnames = list(filter(filter_predicate, json_fnames))\n",
    "\n",
    "    json_data = []\n",
    "    for fname in json_fnames:\n",
    "        with open(f'{dir}/{fname}', 'r') as json_file:\n",
    "            json_data.append(json.load(json_file))\n",
    "    return json_data\n",
    "\n",
    "\n",
    "json_data = read_json_files('./data_2024', 'data')"
   ],
   "metadata": {
    "collapsed": false,
    "ExecuteTime": {
     "end_time": "2024-08-11T17:34:51.521076Z",
     "start_time": "2024-08-11T17:34:50.965190Z"
    }
   },
   "id": "9f75acef91cb73b2",
   "execution_count": 62
  },
  {
   "cell_type": "markdown",
   "source": [
    "Print the top-level and second-level structure of a json element."
   ],
   "metadata": {
    "collapsed": false
   },
   "id": "c3626ee12b4b3f40"
  },
  {
   "cell_type": "code",
   "outputs": [
    {
     "name": "stdout",
     "output_type": "stream",
     "text": [
      "items\n",
      "sentiment_score_definition\n",
      "relevance_score_definition\n",
      "feed[0]:\n",
      "\t['title', 'url', 'time_published', 'authors', 'summary', 'banner_image', 'source', 'category_within_source', 'source_domain', 'topics', 'overall_sentiment_score', 'overall_sentiment_label', 'ticker_sentiment']\n"
     ]
    }
   ],
   "source": [
    "keys = json_data[0].keys()\n",
    "for k in list(keys):\n",
    "    value = json_data[0][k]\n",
    "    if type(value) == dict:\n",
    "        print(f'{k}:')\n",
    "        for attr in value.keys():\n",
    "            print(f'\\t{attr}')\n",
    "    elif type(value) == list:\n",
    "        print(f'{k}[0]:')\n",
    "        print(f'\\t{list(value[0].keys())}')\n",
    "    else:\n",
    "        print(f'{k}')\n"
   ],
   "metadata": {
    "collapsed": false,
    "ExecuteTime": {
     "end_time": "2024-08-11T17:34:52.887926Z",
     "start_time": "2024-08-11T17:34:52.884482Z"
    }
   },
   "id": "a43229f1bea45ec4",
   "execution_count": 63
  },
  {
   "cell_type": "code",
   "outputs": [],
   "source": [
    "def parse_vantage_api_data(json_data: list) -> pd.DataFrame:\n",
    "    df_list = []\n",
    "    for json_dict in json_data:\n",
    "        for item in json_dict['feed']:\n",
    "            item_dict = {'title': item['title'], 'time_published': item['time_published'], 'summary': item['summary'],\n",
    "                         'overall_sentiment_label': item['overall_sentiment_label'],\n",
    "                         'overall_sentiment_score': item['overall_sentiment_score'],\n",
    "                         'ticker_sentiment': item['ticker_sentiment']}\n",
    "            df_list.append(item_dict)\n",
    "    return pd.DataFrame(df_list)\n",
    "\n",
    "\n",
    "data_df = parse_vantage_api_data(json_data)"
   ],
   "metadata": {
    "collapsed": false,
    "ExecuteTime": {
     "end_time": "2024-08-11T17:34:53.815118Z",
     "start_time": "2024-08-11T17:34:53.760507Z"
    }
   },
   "id": "f2beab638264135a",
   "execution_count": 64
  },
  {
   "cell_type": "code",
   "outputs": [
    {
     "data": {
      "text/plain": "                                               title   time_published  \\\n0  Aleph Group Acquires Entravision's Digital Adv...  20240702T000000   \n1  Nvidia Is a Top AI Stock, but Don't Ignore The...  20240702T000000   \n2  Celebrate Milestone: Fast Forex VPS Introduces...  20240702T000000   \n3  WTW announces leadership change in Australia a...  20240702T000000   \n4  Bitfarms mined 21% more Bitcoin in June amid R...  20240701T234906   \n\n                                             summary overall_sentiment_label  \\\n0  Aleph Group Acquires Entravision's Digital Adv...        Somewhat-Bullish   \n1  Investors shouldn't turn a blind eye to the ho...        Somewhat-Bullish   \n2  SINGAPORE, July 2, 2024 /PRNewswire/ -- Fast F...                 Bullish   \n3  James Baum is appointed as Head of Australia a...                 Bullish   \n4  Bitfarms increased its online hashrate to 10.4...                 Neutral   \n\n   overall_sentiment_score                                   ticker_sentiment  \n0                 0.317000  [{'ticker': 'MSFT', 'relevance_score': '0.0683...  \n1                 0.171278  [{'ticker': 'MSFT', 'relevance_score': '0.0459...  \n2                 0.603762                                                 []  \n3                 0.489207  [{'ticker': 'AON', 'relevance_score': '0.17585...  \n4                -0.038424  [{'ticker': 'BITF', 'relevance_score': '0.9191...  ",
      "text/html": "<div>\n<style scoped>\n    .dataframe tbody tr th:only-of-type {\n        vertical-align: middle;\n    }\n\n    .dataframe tbody tr th {\n        vertical-align: top;\n    }\n\n    .dataframe thead th {\n        text-align: right;\n    }\n</style>\n<table border=\"1\" class=\"dataframe\">\n  <thead>\n    <tr style=\"text-align: right;\">\n      <th></th>\n      <th>title</th>\n      <th>time_published</th>\n      <th>summary</th>\n      <th>overall_sentiment_label</th>\n      <th>overall_sentiment_score</th>\n      <th>ticker_sentiment</th>\n    </tr>\n  </thead>\n  <tbody>\n    <tr>\n      <th>0</th>\n      <td>Aleph Group Acquires Entravision's Digital Adv...</td>\n      <td>20240702T000000</td>\n      <td>Aleph Group Acquires Entravision's Digital Adv...</td>\n      <td>Somewhat-Bullish</td>\n      <td>0.317000</td>\n      <td>[{'ticker': 'MSFT', 'relevance_score': '0.0683...</td>\n    </tr>\n    <tr>\n      <th>1</th>\n      <td>Nvidia Is a Top AI Stock, but Don't Ignore The...</td>\n      <td>20240702T000000</td>\n      <td>Investors shouldn't turn a blind eye to the ho...</td>\n      <td>Somewhat-Bullish</td>\n      <td>0.171278</td>\n      <td>[{'ticker': 'MSFT', 'relevance_score': '0.0459...</td>\n    </tr>\n    <tr>\n      <th>2</th>\n      <td>Celebrate Milestone: Fast Forex VPS Introduces...</td>\n      <td>20240702T000000</td>\n      <td>SINGAPORE, July 2, 2024 /PRNewswire/ -- Fast F...</td>\n      <td>Bullish</td>\n      <td>0.603762</td>\n      <td>[]</td>\n    </tr>\n    <tr>\n      <th>3</th>\n      <td>WTW announces leadership change in Australia a...</td>\n      <td>20240702T000000</td>\n      <td>James Baum is appointed as Head of Australia a...</td>\n      <td>Bullish</td>\n      <td>0.489207</td>\n      <td>[{'ticker': 'AON', 'relevance_score': '0.17585...</td>\n    </tr>\n    <tr>\n      <th>4</th>\n      <td>Bitfarms mined 21% more Bitcoin in June amid R...</td>\n      <td>20240701T234906</td>\n      <td>Bitfarms increased its online hashrate to 10.4...</td>\n      <td>Neutral</td>\n      <td>-0.038424</td>\n      <td>[{'ticker': 'BITF', 'relevance_score': '0.9191...</td>\n    </tr>\n  </tbody>\n</table>\n</div>"
     },
     "execution_count": 65,
     "metadata": {},
     "output_type": "execute_result"
    }
   ],
   "source": [
    "data_df.head()"
   ],
   "metadata": {
    "collapsed": false,
    "ExecuteTime": {
     "end_time": "2024-08-11T17:34:54.947293Z",
     "start_time": "2024-08-11T17:34:54.940211Z"
    }
   },
   "id": "b46d0888686dd73a",
   "execution_count": 65
  },
  {
   "cell_type": "code",
   "outputs": [],
   "source": [
    "data_df[\"news\"] = data_df[\"title\"].str.cat(data_df[\"summary\"])"
   ],
   "metadata": {
    "collapsed": false,
    "ExecuteTime": {
     "end_time": "2024-08-11T17:34:55.572994Z",
     "start_time": "2024-08-11T17:34:55.561494Z"
    }
   },
   "id": "6cf5eefa28b3d844",
   "execution_count": 66
  },
  {
   "cell_type": "code",
   "outputs": [
    {
     "name": "stdout",
     "output_type": "stream",
     "text": [
      "Bearish & Somewhat-Bearish: 624\n",
      "Neutral: 12641\n",
      "Bullish & Somewhat-Bullish: 21130\n",
      "\n",
      "After resampling:\n",
      "====================================================\n",
      "Bearish & Somewhat-Bearish: 624\n",
      "Neutral: 1000\n",
      "Bullish & Somewhat-Bullish: 1000\n"
     ]
    }
   ],
   "source": [
    "# fix class imbalance\n",
    "BEARISH = 'Bearish'\n",
    "SOMEWHAT_BEARISH = 'Somewhat-Bearish'\n",
    "NEUTRAL = 'Neutral'\n",
    "SOMEWHAT_BULLISH = 'Somewhat-Bullish'\n",
    "BULLISH = 'Bullish'\n",
    "\n",
    "bearish_df = data_df[\n",
    "    (data_df['overall_sentiment_label'] == BEARISH) | (data_df['overall_sentiment_label'] == SOMEWHAT_BEARISH)]\n",
    "\n",
    "neutral_df = data_df[data_df['overall_sentiment_label'] == NEUTRAL]\n",
    "\n",
    "bullish_df = data_df[\n",
    "    (data_df['overall_sentiment_label'] == BULLISH) | (data_df['overall_sentiment_label'] == SOMEWHAT_BULLISH)]\n",
    "\n",
    "print(f'{BEARISH} & {SOMEWHAT_BEARISH}: {len(bearish_df)}')\n",
    "print(f'{NEUTRAL}: {len(neutral_df)}')\n",
    "print(f'{BULLISH} & {SOMEWHAT_BULLISH}: {len(bullish_df)}')\n",
    "\n",
    "neutral_df = resample(neutral_df, replace=False, n_samples=1000, random_state=42)\n",
    "bullish_df = resample(bullish_df, replace=False, n_samples=1000, random_state=42)\n",
    "\n",
    "print(\"\\nAfter resampling:\")\n",
    "print(\"====================================================\")\n",
    "print(f'{BEARISH} & {SOMEWHAT_BEARISH}: {len(bearish_df)}')\n",
    "print(f'{NEUTRAL}: {len(neutral_df)}')\n",
    "print(f'{BULLISH} & {SOMEWHAT_BULLISH}: {len(bullish_df)}')\n",
    "\n",
    "balanced_df = pd.concat([bearish_df, bearish_df, neutral_df, bullish_df])\n",
    "balanced_df = balanced_df.sample(frac=1).reset_index(drop=True)"
   ],
   "metadata": {
    "collapsed": false,
    "ExecuteTime": {
     "end_time": "2024-08-11T17:35:04.625085Z",
     "start_time": "2024-08-11T17:35:04.592016Z"
    }
   },
   "id": "17b35fefff841f2b",
   "execution_count": 68
  },
  {
   "cell_type": "code",
   "outputs": [
    {
     "name": "stdout",
     "output_type": "stream",
     "text": [
      "(3248, 7)\n"
     ]
    }
   ],
   "source": [
    "print(balanced_df.shape)"
   ],
   "metadata": {
    "collapsed": false,
    "ExecuteTime": {
     "end_time": "2024-08-11T17:35:07.500603Z",
     "start_time": "2024-08-11T17:35:07.497281Z"
    }
   },
   "id": "9270b5e66bf5fc2",
   "execution_count": 69
  },
  {
   "cell_type": "markdown",
   "source": [
    "Parse, tokenize, and lemmatize"
   ],
   "metadata": {
    "collapsed": false
   },
   "id": "d5577541d98a6fa6"
  },
  {
   "cell_type": "code",
   "outputs": [],
   "source": [
    "MAX_WORDS = 64\n",
    "MIN_WORDS = 4\n",
    "\n",
    "nlp = sp.load('en_core_web_sm', disable=['ner', 'parser'])  # NER not required for this task\n",
    "\n",
    "\n",
    "def cleaning(doc: Doc) -> str:\n",
    "    # Lemmatize and remove stopwords\n",
    "    # txt = [token.lemma_ for token in doc if not token.is_stop]\n",
    "    # OPT-2: Lemmatize but keep stopwords\n",
    "    txt = [token.lemma_ for token in doc]\n",
    "    # Filter news with fewer words\n",
    "\n",
    "    return ' '.join(txt)\n",
    "\n",
    "\n",
    "brief_cleaning = (re.sub(\"[^A-Za-z']+\", ' ', str(row)).lower() for row in balanced_df['news'])"
   ],
   "metadata": {
    "collapsed": false,
    "ExecuteTime": {
     "end_time": "2024-08-11T17:35:10.678182Z",
     "start_time": "2024-08-11T17:35:10.440136Z"
    }
   },
   "id": "56b4347adc3d6911",
   "execution_count": 70
  },
  {
   "cell_type": "code",
   "outputs": [],
   "source": [
    "cleaned_txt = [cleaning(doc) for doc in nlp.pipe(brief_cleaning, batch_size=2500, n_process=-1)]"
   ],
   "metadata": {
    "collapsed": false,
    "ExecuteTime": {
     "end_time": "2024-08-11T17:36:13.921779Z",
     "start_time": "2024-08-11T17:35:11.473208Z"
    }
   },
   "id": "70b5cb4fc7d3ec0",
   "execution_count": 71
  },
  {
   "cell_type": "code",
   "outputs": [
    {
     "data": {
      "text/plain": "(3248, 3)"
     },
     "execution_count": 72,
     "metadata": {},
     "output_type": "execute_result"
    }
   ],
   "source": [
    "df_cleaned = pd.DataFrame(\n",
    "    {'cleaned_text': cleaned_txt, 'overall_sentiment_label': balanced_df['overall_sentiment_label'],\n",
    "     'overall_sentiment_score': balanced_df['overall_sentiment_score']})\n",
    "df_cleaned.shape"
   ],
   "metadata": {
    "collapsed": false,
    "ExecuteTime": {
     "end_time": "2024-08-11T17:36:13.926332Z",
     "start_time": "2024-08-11T17:36:13.922787Z"
    }
   },
   "id": "2034764dd41b0e6",
   "execution_count": 72
  },
  {
   "cell_type": "code",
   "outputs": [
    {
     "data": {
      "text/plain": "                                        cleaned_text overall_sentiment_label  \\\n0  pdd vs mmm which stock be the well value optio...                 Bullish   \n1  why be uber share high today uber technologies...                 Bullish   \n2  quantumscape stock be down on recession fear b...                 Bearish   \n3  hurricane beryl be a warning this storm season...        Somewhat-Bearish   \n4  why rivian stock be slump todaya recession wou...                 Bearish   \n\n   overall_sentiment_score  \n0                 0.468114  \n1                 0.391184  \n2                -0.355271  \n3                -0.190613  \n4                -0.373020  ",
      "text/html": "<div>\n<style scoped>\n    .dataframe tbody tr th:only-of-type {\n        vertical-align: middle;\n    }\n\n    .dataframe tbody tr th {\n        vertical-align: top;\n    }\n\n    .dataframe thead th {\n        text-align: right;\n    }\n</style>\n<table border=\"1\" class=\"dataframe\">\n  <thead>\n    <tr style=\"text-align: right;\">\n      <th></th>\n      <th>cleaned_text</th>\n      <th>overall_sentiment_label</th>\n      <th>overall_sentiment_score</th>\n    </tr>\n  </thead>\n  <tbody>\n    <tr>\n      <th>0</th>\n      <td>pdd vs mmm which stock be the well value optio...</td>\n      <td>Bullish</td>\n      <td>0.468114</td>\n    </tr>\n    <tr>\n      <th>1</th>\n      <td>why be uber share high today uber technologies...</td>\n      <td>Bullish</td>\n      <td>0.391184</td>\n    </tr>\n    <tr>\n      <th>2</th>\n      <td>quantumscape stock be down on recession fear b...</td>\n      <td>Bearish</td>\n      <td>-0.355271</td>\n    </tr>\n    <tr>\n      <th>3</th>\n      <td>hurricane beryl be a warning this storm season...</td>\n      <td>Somewhat-Bearish</td>\n      <td>-0.190613</td>\n    </tr>\n    <tr>\n      <th>4</th>\n      <td>why rivian stock be slump todaya recession wou...</td>\n      <td>Bearish</td>\n      <td>-0.373020</td>\n    </tr>\n  </tbody>\n</table>\n</div>"
     },
     "execution_count": 73,
     "metadata": {},
     "output_type": "execute_result"
    }
   ],
   "source": [
    "df_cleaned.head()"
   ],
   "metadata": {
    "collapsed": false,
    "ExecuteTime": {
     "end_time": "2024-08-11T17:36:13.935281Z",
     "start_time": "2024-08-11T17:36:13.926332Z"
    }
   },
   "id": "fa87b3ef22403234",
   "execution_count": 73
  },
  {
   "cell_type": "code",
   "outputs": [
    {
     "data": {
      "text/plain": "<Figure size 640x480 with 1 Axes>",
      "image/png": "[encoded data removed]"
     },
     "metadata": {},
     "output_type": "display_data"
    }
   ],
   "source": [
    "# Length distribution of each summary\n",
    "\n",
    "text_len_dist = np.asarray([0 if sen is None else len(sen.split()) for sen in df_cleaned['cleaned_text']])\n",
    "\n",
    "_ = plt.hist(text_len_dist)"
   ],
   "metadata": {
    "collapsed": false,
    "ExecuteTime": {
     "end_time": "2024-08-11T17:36:14.001717Z",
     "start_time": "2024-08-11T17:36:13.936290Z"
    }
   },
   "id": "69c331352f9a527d",
   "execution_count": 74
  },
  {
   "cell_type": "code",
   "outputs": [
    {
     "name": "stdout",
     "output_type": "stream",
     "text": [
      "Mean: 40.48029556650246\n",
      "Median: 39.0\n",
      "Max: 88\n"
     ]
    }
   ],
   "source": [
    "print(f\"Mean: {np.mean(text_len_dist)}\")\n",
    "print(f\"Median: {np.median(text_len_dist)}\")\n",
    "print(f\"Max: {np.max(text_len_dist)}\")"
   ],
   "metadata": {
    "collapsed": false,
    "ExecuteTime": {
     "end_time": "2024-08-11T17:36:14.005604Z",
     "start_time": "2024-08-11T17:36:14.002809Z"
    }
   },
   "id": "917b46aaad9ddf1e",
   "execution_count": 75
  },
  {
   "cell_type": "code",
   "outputs": [
    {
     "data": {
      "text/plain": "array(['Bullish', 'Bearish', 'Somewhat-Bearish', 'Neutral',\n       'Somewhat-Bullish'], dtype=object)"
     },
     "execution_count": 76,
     "metadata": {},
     "output_type": "execute_result"
    }
   ],
   "source": [
    "df_cleaned['overall_sentiment_label'].unique()"
   ],
   "metadata": {
    "collapsed": false,
    "ExecuteTime": {
     "end_time": "2024-08-11T17:36:14.013298Z",
     "start_time": "2024-08-11T17:36:14.005604Z"
    }
   },
   "id": "1e0aaa8e32898b7f",
   "execution_count": 76
  },
  {
   "cell_type": "code",
   "outputs": [],
   "source": [
    "label_map = {\n",
    "    'Bearish': 0,\n",
    "    'Somewhat-Bearish': 1,\n",
    "    'Neutral': 2,\n",
    "    'Somewhat-Bullish': 3,\n",
    "    'Bullish': 4,\n",
    "}\n",
    "\n",
    "for key in list(label_map.keys()):\n",
    "    df_cleaned.loc[df_cleaned['overall_sentiment_label'] == key, 'overall_sentiment_label'] = label_map[key]\n",
    "\n",
    "df_cleaned['overall_sentiment_label'] = df_cleaned['overall_sentiment_label']\n",
    "df_cleaned.dropna(inplace=True)\n",
    "df_cleaned.reset_index(drop=True, inplace=True)"
   ],
   "metadata": {
    "collapsed": false,
    "ExecuteTime": {
     "end_time": "2024-08-11T17:36:14.022410Z",
     "start_time": "2024-08-11T17:36:14.013298Z"
    }
   },
   "id": "14e1848924ec7884",
   "execution_count": 77
  },
  {
   "cell_type": "code",
   "outputs": [
    {
     "data": {
      "text/plain": "                                        cleaned_text overall_sentiment_label  \\\n0  pdd vs mmm which stock be the well value optio...                       4   \n1  why be uber share high today uber technologies...                       4   \n2  quantumscape stock be down on recession fear b...                       0   \n3  hurricane beryl be a warning this storm season...                       1   \n4  why rivian stock be slump todaya recession wou...                       0   \n\n   overall_sentiment_score  \n0                 0.468114  \n1                 0.391184  \n2                -0.355271  \n3                -0.190613  \n4                -0.373020  ",
      "text/html": "<div>\n<style scoped>\n    .dataframe tbody tr th:only-of-type {\n        vertical-align: middle;\n    }\n\n    .dataframe tbody tr th {\n        vertical-align: top;\n    }\n\n    .dataframe thead th {\n        text-align: right;\n    }\n</style>\n<table border=\"1\" class=\"dataframe\">\n  <thead>\n    <tr style=\"text-align: right;\">\n      <th></th>\n      <th>cleaned_text</th>\n      <th>overall_sentiment_label</th>\n      <th>overall_sentiment_score</th>\n    </tr>\n  </thead>\n  <tbody>\n    <tr>\n      <th>0</th>\n      <td>pdd vs mmm which stock be the well value optio...</td>\n      <td>4</td>\n      <td>0.468114</td>\n    </tr>\n    <tr>\n      <th>1</th>\n      <td>why be uber share high today uber technologies...</td>\n      <td>4</td>\n      <td>0.391184</td>\n    </tr>\n    <tr>\n      <th>2</th>\n      <td>quantumscape stock be down on recession fear b...</td>\n      <td>0</td>\n      <td>-0.355271</td>\n    </tr>\n    <tr>\n      <th>3</th>\n      <td>hurricane beryl be a warning this storm season...</td>\n      <td>1</td>\n      <td>-0.190613</td>\n    </tr>\n    <tr>\n      <th>4</th>\n      <td>why rivian stock be slump todaya recession wou...</td>\n      <td>0</td>\n      <td>-0.373020</td>\n    </tr>\n  </tbody>\n</table>\n</div>"
     },
     "execution_count": 78,
     "metadata": {},
     "output_type": "execute_result"
    }
   ],
   "source": [
    "df_cleaned.head()"
   ],
   "metadata": {
    "collapsed": false,
    "ExecuteTime": {
     "end_time": "2024-08-11T17:36:14.028331Z",
     "start_time": "2024-08-11T17:36:14.023515Z"
    }
   },
   "id": "f425574eed64448e",
   "execution_count": 78
  },
  {
   "cell_type": "code",
   "outputs": [],
   "source": [
    "# Preprocess News dataset\n",
    "def doc_level_preprocess(doc):\n",
    "    tokens = set(doc.split(\" \")[:MAX_WORDS])\n",
    "    if '' in tokens:\n",
    "        tokens.remove('')\n",
    "    return tokens\n",
    "\n",
    "\n",
    "# Categorical\n",
    "df_train = [(x, df_cleaned['overall_sentiment_label'][i]) for i, x in\n",
    "            enumerate(map(doc_level_preprocess, df_cleaned['cleaned_text']))\n",
    "            if len(x) >= MIN_WORDS]\n",
    "\n",
    "# Regression\n",
    "# df_train = [(x, df_cleaned['overall_sentiment_score'][i]) for i, x in\n",
    "#             enumerate(map(doc_level_preprocess, df_cleaned['cleaned_text']))\n",
    "#             if len(x) >= MIN_WORDS]"
   ],
   "metadata": {
    "collapsed": false,
    "ExecuteTime": {
     "end_time": "2024-08-11T17:36:14.080022Z",
     "start_time": "2024-08-11T17:36:14.028331Z"
    }
   },
   "id": "fb09b6270669a746",
   "execution_count": 79
  },
  {
   "cell_type": "markdown",
   "source": [
    "Loading Glove vectors"
   ],
   "metadata": {
    "collapsed": false
   },
   "id": "36097d9e6ccb5332"
  },
  {
   "cell_type": "code",
   "outputs": [],
   "source": [
    "def read_glove_vectors(path):\n",
    "    glo_dict = {}\n",
    "    with open(path, mode='r', encoding='utf8') as file:\n",
    "        for line in file.readlines():\n",
    "            line = line.split(\" \")\n",
    "            glo_dict[line[0]] = np.asarray(line[1:], dtype=np.float32)\n",
    "    return glo_dict\n",
    "\n",
    "\n",
    "GLOVE_PATH = \"./data/glove.6B.100d.txt\"\n",
    "glo_dict = read_glove_vectors(GLOVE_PATH)"
   ],
   "metadata": {
    "collapsed": false,
    "ExecuteTime": {
     "end_time": "2024-08-11T17:36:19.882525Z",
     "start_time": "2024-08-11T17:36:14.081040Z"
    }
   },
   "id": "e6919359890e0a48",
   "execution_count": 80
  },
  {
   "cell_type": "code",
   "outputs": [],
   "source": [
    "# Finding common words\n",
    "\n",
    "vant_vocab_set = set()\n",
    "\n",
    "for news in df_train:\n",
    "    vant_vocab_set.update(news[0])  # news[0] is news, news[1] is label\n",
    "glove_set = set(glo_dict.keys())\n",
    "glove_set &= vant_vocab_set\n"
   ],
   "metadata": {
    "collapsed": false,
    "ExecuteTime": {
     "end_time": "2024-08-11T17:36:39.976095Z",
     "start_time": "2024-08-11T17:36:39.937267Z"
    }
   },
   "id": "ff61536823df12c0",
   "execution_count": 81
  },
  {
   "cell_type": "code",
   "outputs": [
    {
     "data": {
      "text/plain": "(8184, 100)"
     },
     "execution_count": 82,
     "metadata": {},
     "output_type": "execute_result"
    }
   ],
   "source": [
    "TRAINABLE_EMB_LAYER = True\n",
    "glove_token_arr = np.array(sorted(list(glove_set)))\n",
    "\n",
    "# single numpy array before building a torch Tensor\n",
    "glove_vec_arr = np.asarray([glo_dict[token] for token in glove_token_arr], dtype=np.float32)\n",
    "glove_emb_layer = nn.Embedding.from_pretrained(torch.Tensor(glove_vec_arr))\n",
    "glove_emb_layer.weight.requires_grad = TRAINABLE_EMB_LAYER\n",
    "# only relevant glove embeddings are in memory.\n",
    "glove_vec_arr.shape"
   ],
   "metadata": {
    "collapsed": false,
    "ExecuteTime": {
     "end_time": "2024-08-11T17:36:41.538865Z",
     "start_time": "2024-08-11T17:36:41.522148Z"
    }
   },
   "id": "bea538651e71cf29",
   "execution_count": 82
  },
  {
   "cell_type": "code",
   "outputs": [
    {
     "name": "stdout",
     "output_type": "stream",
     "text": [
      "CUDA: True\n",
      "DEVICE: cuda:0\n"
     ]
    }
   ],
   "source": [
    "import torch\n",
    "\n",
    "print(f'CUDA: {torch.cuda.is_available()}')\n",
    "device = torch.device(\"cuda:0\" if torch.cuda.is_available() else \"cpu\")\n",
    "print(f'DEVICE: {device}')"
   ],
   "metadata": {
    "collapsed": false,
    "ExecuteTime": {
     "end_time": "2024-08-11T17:36:44.629363Z",
     "start_time": "2024-08-11T17:36:44.625618Z"
    }
   },
   "id": "6182ac69fd0458fe",
   "execution_count": 83
  },
  {
   "cell_type": "code",
   "outputs": [],
   "source": [
    "# build an index array for fetching the word vectors\n",
    "def doc2ind(doc, max_dim=100):\n",
    "    token_idx = np.minimum(np.searchsorted(glove_token_arr, doc), len(glove_token_arr) - 1)\n",
    "    valid_tokens = glove_token_arr[token_idx] == doc\n",
    "    # pre-padding the vector then filling it with valid indices\n",
    "    indices = np.zeros(max_dim, dtype=np.int32)\n",
    "    indices[:sum(valid_tokens)] = token_idx[valid_tokens]\n",
    "    return indices\n",
    "\n",
    "\n",
    "# vant_word_embeddings indices\n",
    "X = torch.LongTensor([doc2ind(list(doc[0]), max_dim=MAX_WORDS) for doc in df_train])\n",
    "# labels\n",
    "y = torch.Tensor(np.array([doc[1] for doc in df_train], dtype=np.int32))"
   ],
   "metadata": {
    "collapsed": false,
    "ExecuteTime": {
     "end_time": "2024-08-11T17:36:48.451640Z",
     "start_time": "2024-08-11T17:36:48.361243Z"
    }
   },
   "id": "48cc0e6b16f6067d",
   "execution_count": 84
  },
  {
   "cell_type": "code",
   "outputs": [
    {
     "name": "stdout",
     "output_type": "stream",
     "text": [
      "X: torch.Size([3248, 64])\n",
      "y: torch.Size([3248])\n"
     ]
    }
   ],
   "source": [
    "print(f'X: {X.shape}')\n",
    "print(f'y: {y.shape}')"
   ],
   "metadata": {
    "collapsed": false,
    "ExecuteTime": {
     "end_time": "2024-08-11T17:36:51.351541Z",
     "start_time": "2024-08-11T17:36:51.348458Z"
    }
   },
   "id": "89b306466e180e5",
   "execution_count": 85
  },
  {
   "cell_type": "code",
   "outputs": [
    {
     "data": {
      "text/plain": "<Figure size 640x480 with 1 Axes>",
      "image/png": "[encoded data removed]"
     },
     "metadata": {},
     "output_type": "display_data"
    }
   ],
   "source": [
    "_ = plt.hist(y)"
   ],
   "metadata": {
    "collapsed": false,
    "ExecuteTime": {
     "end_time": "2024-08-11T17:36:52.607735Z",
     "start_time": "2024-08-11T17:36:52.532297Z"
    }
   },
   "id": "f344662819222cde",
   "execution_count": 86
  },
  {
   "cell_type": "code",
   "outputs": [],
   "source": [
    "# X_train and X_test are indices and not the actual glove word embeddings.\n",
    "\n",
    "X_train, X_test, y_train, y_test = train_test_split(\n",
    "    X, y, test_size=0.33, random_state=54)\n",
    "\n",
    "# To GPU\n",
    "X_train = torch.Tensor(X_train).to(device)\n",
    "X_test = torch.Tensor(X_test).to(device)\n",
    "\n",
    "y_train = torch.Tensor(y_train).to(device)\n",
    "y_test = torch.Tensor(y_test).to(device)\n",
    "\n",
    "# Finally Embedding layer to the GPU\n",
    "glove_emb_layer = glove_emb_layer.to(device)\n",
    "\n",
    "_, cts = np.unique(torch.Tensor.cpu(y_train), return_counts=True)\n",
    "class_weights = 1.0 / cts\n",
    "class_weights /= class_weights.sum()\n",
    "class_weights = torch.Tensor(class_weights).to(device)"
   ],
   "metadata": {
    "collapsed": false,
    "ExecuteTime": {
     "end_time": "2024-08-11T17:32:15.045742Z",
     "start_time": "2024-08-11T17:32:15.026651Z"
    }
   },
   "id": "b7f79e25e2477e43",
   "execution_count": 49
  },
  {
   "cell_type": "code",
   "outputs": [
    {
     "data": {
      "text/plain": "tensor([0.6129, 0.0569, 0.0398, 0.0477, 0.2427], device='cuda:0')"
     },
     "execution_count": 50,
     "metadata": {},
     "output_type": "execute_result"
    }
   ],
   "source": [
    "class_weights"
   ],
   "metadata": {
    "collapsed": false,
    "ExecuteTime": {
     "end_time": "2024-08-11T17:32:18.798593Z",
     "start_time": "2024-08-11T17:32:18.792740Z"
    }
   },
   "id": "aff04b8d6dbe1b26",
   "execution_count": 50
  },
  {
   "cell_type": "code",
   "outputs": [
    {
     "data": {
      "text/plain": "<Figure size 640x480 with 1 Axes>",
      "image/png": "[encoded data removed]"
     },
     "metadata": {},
     "output_type": "display_data"
    }
   ],
   "source": [
    "_ = plt.hist(torch.Tensor.cpu(y_train))"
   ],
   "metadata": {
    "collapsed": false,
    "ExecuteTime": {
     "end_time": "2024-08-11T17:32:20.172754Z",
     "start_time": "2024-08-11T17:32:20.035595Z"
    }
   },
   "id": "d2d543a99d17b570",
   "execution_count": 51
  },
  {
   "cell_type": "code",
   "outputs": [],
   "source": [
    "BATCH_SIZE = 8192\n",
    "NUM_LABELS = len(np.unique(y))\n",
    "\n",
    "\n",
    "# NUM_LABELS = 1 # regression model\n",
    "\n",
    "\n",
    "def setup_model(num_classes=NUM_LABELS, emb_layer=glove_emb_layer):\n",
    "    return nn.Sequential(\n",
    "        emb_layer,\n",
    "        nn.Flatten(),\n",
    "        nn.Linear(MAX_WORDS * 100, 2048),\n",
    "        nn.Dropout(0.05),\n",
    "        nn.LeakyReLU(),\n",
    "        nn.Linear(2048, 512),\n",
    "        nn.Dropout(0.05),\n",
    "        nn.LeakyReLU(),\n",
    "        nn.Linear(512, 64),\n",
    "        nn.LeakyReLU(),\n",
    "        nn.Linear(64, num_classes),\n",
    "        nn.Softmax(dim=1)\n",
    "    )"
   ],
   "metadata": {
    "collapsed": false,
    "ExecuteTime": {
     "end_time": "2024-08-11T17:32:21.468164Z",
     "start_time": "2024-08-11T17:32:21.463943Z"
    }
   },
   "id": "55b7a2b9fe46b2f4",
   "execution_count": 52
  },
  {
   "cell_type": "code",
   "outputs": [],
   "source": [
    "def train_model(model, X_train, X_test, y_train, y_test, n_epochs=50, lr=0.0001):\n",
    "    loss_fn = nn.CrossEntropyLoss(weight=class_weights)\n",
    "    optimizer = torch.optim.Adam(model.parameters(), lr=lr)\n",
    "    batch_per_epoch = len(X_train) // BATCH_SIZE\n",
    "\n",
    "    tr_loss_hist = np.zeros((n_epochs,), dtype=np.float32)\n",
    "    ts_loss_hist = np.zeros((n_epochs,), dtype=np.float32)\n",
    "    ts_acc_hist = np.zeros((n_epochs), dtype=np.float32)\n",
    "\n",
    "    model.train(mode=True)\n",
    "    for epoch in range(n_epochs):\n",
    "        print(f'*** EPOCH {epoch} ***')\n",
    "        tr_loss = 0.\n",
    "\n",
    "        for i in range(batch_per_epoch):\n",
    "            st = i * BATCH_SIZE\n",
    "            X_batch = X_train[st:st + BATCH_SIZE]\n",
    "            y_batch = y_train[st:st + BATCH_SIZE]\n",
    "            # predict / forward pass\n",
    "            y_pred = model(X_batch)\n",
    "            loss = loss_fn(y_pred, y_batch.to(torch.uint8))\n",
    "            tr_loss += loss\n",
    "            # tune / backward pass\n",
    "            optimizer.zero_grad()\n",
    "            loss.backward()\n",
    "            # update weights\n",
    "            optimizer.step()\n",
    "\n",
    "        tr_loss /= batch_per_epoch\n",
    "        # test\n",
    "        with torch.no_grad():\n",
    "            y_pred = model(X_test)\n",
    "        acc = float((y_pred.argmax(axis=1) == y_test).to(torch.float64).mean())\n",
    "        test_loss = loss_fn(y_pred, y_test.to(torch.uint8))\n",
    "        print(\"Train Loss {:.2f}\".format(tr_loss))\n",
    "        print(\"Test Loss {:.2f}\".format(test_loss))\n",
    "        print(\"Test Accuracy {:.2f} \\n\".format(acc))\n",
    "        tr_loss_hist[epoch] = tr_loss\n",
    "        ts_loss_hist[epoch] = test_loss\n",
    "        ts_acc_hist[epoch] = acc\n",
    "    return tr_loss_hist, ts_loss_hist, ts_acc_hist"
   ],
   "metadata": {
    "collapsed": false,
    "ExecuteTime": {
     "end_time": "2024-08-11T17:32:23.125958Z",
     "start_time": "2024-08-11T17:32:23.120857Z"
    }
   },
   "id": "736afd7510d0f87",
   "execution_count": 53
  },
  {
   "cell_type": "code",
   "outputs": [
    {
     "name": "stdout",
     "output_type": "stream",
     "text": [
      "Sequential(\n",
      "  (0): Embedding(22823, 100)\n",
      "  (1): Flatten(start_dim=1, end_dim=-1)\n",
      "  (2): Linear(in_features=6400, out_features=2048, bias=True)\n",
      "  (3): Dropout(p=0.05, inplace=False)\n",
      "  (4): LeakyReLU(negative_slope=0.01)\n",
      "  (5): Linear(in_features=2048, out_features=512, bias=True)\n",
      "  (6): Dropout(p=0.05, inplace=False)\n",
      "  (7): LeakyReLU(negative_slope=0.01)\n",
      "  (8): Linear(in_features=512, out_features=64, bias=True)\n",
      "  (9): LeakyReLU(negative_slope=0.01)\n",
      "  (10): Linear(in_features=64, out_features=5, bias=True)\n",
      "  (11): Softmax(dim=1)\n",
      ")\n"
     ]
    }
   ],
   "source": [
    "model = setup_model(num_classes=NUM_LABELS)\n",
    "model = model.to(device)\n",
    "print(model)"
   ],
   "metadata": {
    "collapsed": false,
    "ExecuteTime": {
     "end_time": "2024-08-11T17:32:23.899371Z",
     "start_time": "2024-08-11T17:32:23.813836Z"
    }
   },
   "id": "aa5c971c2034f117",
   "execution_count": 54
  },
  {
   "cell_type": "code",
   "outputs": [
    {
     "name": "stdout",
     "output_type": "stream",
     "text": [
      "*** EPOCH 0 ***\n",
      "Train Loss 1.61\n",
      "Test Loss 1.61\n",
      "Test Accuracy 0.12 \n",
      "\n",
      "*** EPOCH 1 ***\n",
      "Train Loss 1.61\n",
      "Test Loss 1.60\n",
      "Test Accuracy 0.19 \n",
      "\n",
      "*** EPOCH 2 ***\n",
      "Train Loss 1.60\n",
      "Test Loss 1.60\n",
      "Test Accuracy 0.20 \n",
      "\n",
      "*** EPOCH 3 ***\n",
      "Train Loss 1.60\n",
      "Test Loss 1.60\n",
      "Test Accuracy 0.21 \n",
      "\n",
      "*** EPOCH 4 ***\n",
      "Train Loss 1.59\n",
      "Test Loss 1.59\n",
      "Test Accuracy 0.23 \n",
      "\n",
      "*** EPOCH 5 ***\n",
      "Train Loss 1.58\n",
      "Test Loss 1.58\n",
      "Test Accuracy 0.20 \n",
      "\n",
      "*** EPOCH 6 ***\n",
      "Train Loss 1.57\n",
      "Test Loss 1.57\n",
      "Test Accuracy 0.20 \n",
      "\n",
      "*** EPOCH 7 ***\n",
      "Train Loss 1.56\n",
      "Test Loss 1.56\n",
      "Test Accuracy 0.21 \n",
      "\n",
      "*** EPOCH 8 ***\n",
      "Train Loss 1.54\n",
      "Test Loss 1.55\n",
      "Test Accuracy 0.21 \n",
      "\n",
      "*** EPOCH 9 ***\n",
      "Train Loss 1.53\n",
      "Test Loss 1.53\n",
      "Test Accuracy 0.21 \n",
      "\n",
      "*** EPOCH 10 ***\n",
      "Train Loss 1.51\n",
      "Test Loss 1.52\n",
      "Test Accuracy 0.23 \n",
      "\n",
      "*** EPOCH 11 ***\n",
      "Train Loss 1.49\n",
      "Test Loss 1.50\n",
      "Test Accuracy 0.23 \n",
      "\n",
      "*** EPOCH 12 ***\n",
      "Train Loss 1.47\n",
      "Test Loss 1.49\n",
      "Test Accuracy 0.25 \n",
      "\n",
      "*** EPOCH 13 ***\n",
      "Train Loss 1.46\n",
      "Test Loss 1.48\n",
      "Test Accuracy 0.26 \n",
      "\n",
      "*** EPOCH 14 ***\n",
      "Train Loss 1.44\n",
      "Test Loss 1.47\n",
      "Test Accuracy 0.29 \n",
      "\n",
      "*** EPOCH 15 ***\n",
      "Train Loss 1.43\n",
      "Test Loss 1.45\n",
      "Test Accuracy 0.29 \n",
      "\n",
      "*** EPOCH 16 ***\n",
      "Train Loss 1.41\n",
      "Test Loss 1.44\n",
      "Test Accuracy 0.32 \n",
      "\n",
      "*** EPOCH 17 ***\n",
      "Train Loss 1.40\n",
      "Test Loss 1.43\n",
      "Test Accuracy 0.35 \n",
      "\n",
      "*** EPOCH 18 ***\n",
      "Train Loss 1.38\n",
      "Test Loss 1.42\n",
      "Test Accuracy 0.34 \n",
      "\n",
      "*** EPOCH 19 ***\n",
      "Train Loss 1.37\n",
      "Test Loss 1.41\n",
      "Test Accuracy 0.40 \n",
      "\n",
      "*** EPOCH 20 ***\n",
      "Train Loss 1.35\n",
      "Test Loss 1.41\n",
      "Test Accuracy 0.40 \n",
      "\n",
      "*** EPOCH 21 ***\n",
      "Train Loss 1.34\n",
      "Test Loss 1.40\n",
      "Test Accuracy 0.40 \n",
      "\n",
      "*** EPOCH 22 ***\n",
      "Train Loss 1.33\n",
      "Test Loss 1.39\n",
      "Test Accuracy 0.44 \n",
      "\n",
      "*** EPOCH 23 ***\n",
      "Train Loss 1.32\n",
      "Test Loss 1.39\n",
      "Test Accuracy 0.45 \n",
      "\n",
      "*** EPOCH 24 ***\n",
      "Train Loss 1.31\n",
      "Test Loss 1.38\n",
      "Test Accuracy 0.45 \n",
      "\n",
      "*** EPOCH 25 ***\n",
      "Train Loss 1.30\n",
      "Test Loss 1.37\n",
      "Test Accuracy 0.45 \n",
      "\n",
      "*** EPOCH 26 ***\n",
      "Train Loss 1.29\n",
      "Test Loss 1.37\n",
      "Test Accuracy 0.48 \n",
      "\n",
      "*** EPOCH 27 ***\n",
      "Train Loss 1.28\n",
      "Test Loss 1.36\n",
      "Test Accuracy 0.50 \n",
      "\n",
      "*** EPOCH 28 ***\n",
      "Train Loss 1.27\n",
      "Test Loss 1.35\n",
      "Test Accuracy 0.49 \n",
      "\n",
      "*** EPOCH 29 ***\n",
      "Train Loss 1.26\n",
      "Test Loss 1.35\n",
      "Test Accuracy 0.50 \n",
      "\n",
      "*** EPOCH 30 ***\n",
      "Train Loss 1.25\n",
      "Test Loss 1.35\n",
      "Test Accuracy 0.51 \n",
      "\n",
      "*** EPOCH 31 ***\n",
      "Train Loss 1.25\n",
      "Test Loss 1.34\n",
      "Test Accuracy 0.52 \n",
      "\n",
      "*** EPOCH 32 ***\n",
      "Train Loss 1.24\n",
      "Test Loss 1.34\n",
      "Test Accuracy 0.51 \n",
      "\n",
      "*** EPOCH 33 ***\n",
      "Train Loss 1.23\n",
      "Test Loss 1.33\n",
      "Test Accuracy 0.51 \n",
      "\n",
      "*** EPOCH 34 ***\n",
      "Train Loss 1.22\n",
      "Test Loss 1.33\n",
      "Test Accuracy 0.53 \n",
      "\n",
      "*** EPOCH 35 ***\n",
      "Train Loss 1.22\n",
      "Test Loss 1.33\n",
      "Test Accuracy 0.54 \n",
      "\n",
      "*** EPOCH 36 ***\n",
      "Train Loss 1.21\n",
      "Test Loss 1.33\n",
      "Test Accuracy 0.55 \n",
      "\n",
      "*** EPOCH 37 ***\n",
      "Train Loss 1.21\n",
      "Test Loss 1.32\n",
      "Test Accuracy 0.56 \n",
      "\n",
      "*** EPOCH 38 ***\n",
      "Train Loss 1.20\n",
      "Test Loss 1.32\n",
      "Test Accuracy 0.54 \n",
      "\n",
      "*** EPOCH 39 ***\n",
      "Train Loss 1.19\n",
      "Test Loss 1.32\n",
      "Test Accuracy 0.53 \n",
      "\n",
      "*** EPOCH 40 ***\n",
      "Train Loss 1.19\n",
      "Test Loss 1.32\n",
      "Test Accuracy 0.57 \n",
      "\n",
      "*** EPOCH 41 ***\n",
      "Train Loss 1.18\n",
      "Test Loss 1.31\n",
      "Test Accuracy 0.55 \n",
      "\n",
      "*** EPOCH 42 ***\n",
      "Train Loss 1.18\n",
      "Test Loss 1.31\n",
      "Test Accuracy 0.55 \n",
      "\n",
      "*** EPOCH 43 ***\n",
      "Train Loss 1.18\n",
      "Test Loss 1.31\n",
      "Test Accuracy 0.56 \n",
      "\n",
      "*** EPOCH 44 ***\n",
      "Train Loss 1.17\n",
      "Test Loss 1.31\n",
      "Test Accuracy 0.57 \n",
      "\n",
      "*** EPOCH 45 ***\n",
      "Train Loss 1.17\n",
      "Test Loss 1.31\n",
      "Test Accuracy 0.58 \n",
      "\n",
      "*** EPOCH 46 ***\n",
      "Train Loss 1.16\n",
      "Test Loss 1.30\n",
      "Test Accuracy 0.56 \n",
      "\n",
      "*** EPOCH 47 ***\n",
      "Train Loss 1.16\n",
      "Test Loss 1.30\n",
      "Test Accuracy 0.59 \n",
      "\n",
      "*** EPOCH 48 ***\n",
      "Train Loss 1.15\n",
      "Test Loss 1.31\n",
      "Test Accuracy 0.59 \n",
      "\n",
      "*** EPOCH 49 ***\n",
      "Train Loss 1.15\n",
      "Test Loss 1.30\n",
      "Test Accuracy 0.59 \n",
      "\n",
      "*** EPOCH 50 ***\n",
      "Train Loss 1.15\n",
      "Test Loss 1.30\n",
      "Test Accuracy 0.59 \n",
      "\n",
      "*** EPOCH 51 ***\n",
      "Train Loss 1.14\n",
      "Test Loss 1.30\n",
      "Test Accuracy 0.58 \n",
      "\n",
      "*** EPOCH 52 ***\n",
      "Train Loss 1.14\n",
      "Test Loss 1.30\n",
      "Test Accuracy 0.60 \n",
      "\n",
      "*** EPOCH 53 ***\n",
      "Train Loss 1.14\n",
      "Test Loss 1.30\n",
      "Test Accuracy 0.60 \n",
      "\n",
      "*** EPOCH 54 ***\n",
      "Train Loss 1.13\n",
      "Test Loss 1.30\n",
      "Test Accuracy 0.61 \n",
      "\n",
      "*** EPOCH 55 ***\n",
      "Train Loss 1.13\n",
      "Test Loss 1.30\n",
      "Test Accuracy 0.60 \n",
      "\n",
      "*** EPOCH 56 ***\n",
      "Train Loss 1.13\n",
      "Test Loss 1.29\n",
      "Test Accuracy 0.59 \n",
      "\n",
      "*** EPOCH 57 ***\n",
      "Train Loss 1.12\n",
      "Test Loss 1.29\n",
      "Test Accuracy 0.59 \n",
      "\n",
      "*** EPOCH 58 ***\n",
      "Train Loss 1.12\n",
      "Test Loss 1.29\n",
      "Test Accuracy 0.60 \n",
      "\n",
      "*** EPOCH 59 ***\n",
      "Train Loss 1.12\n",
      "Test Loss 1.30\n",
      "Test Accuracy 0.61 \n",
      "\n",
      "*** EPOCH 60 ***\n",
      "Train Loss 1.12\n",
      "Test Loss 1.30\n",
      "Test Accuracy 0.62 \n",
      "\n",
      "*** EPOCH 61 ***\n",
      "Train Loss 1.12\n",
      "Test Loss 1.30\n",
      "Test Accuracy 0.61 \n",
      "\n",
      "*** EPOCH 62 ***\n",
      "Train Loss 1.11\n",
      "Test Loss 1.29\n",
      "Test Accuracy 0.59 \n",
      "\n",
      "*** EPOCH 63 ***\n",
      "Train Loss 1.11\n",
      "Test Loss 1.29\n",
      "Test Accuracy 0.61 \n",
      "\n",
      "*** EPOCH 64 ***\n",
      "Train Loss 1.10\n",
      "Test Loss 1.30\n",
      "Test Accuracy 0.61 \n",
      "\n",
      "*** EPOCH 65 ***\n",
      "Train Loss 1.10\n",
      "Test Loss 1.29\n",
      "Test Accuracy 0.62 \n",
      "\n",
      "*** EPOCH 66 ***\n",
      "Train Loss 1.10\n",
      "Test Loss 1.29\n",
      "Test Accuracy 0.61 \n",
      "\n",
      "*** EPOCH 67 ***\n",
      "Train Loss 1.10\n",
      "Test Loss 1.29\n",
      "Test Accuracy 0.61 \n",
      "\n",
      "*** EPOCH 68 ***\n",
      "Train Loss 1.09\n",
      "Test Loss 1.29\n",
      "Test Accuracy 0.62 \n",
      "\n",
      "*** EPOCH 69 ***\n",
      "Train Loss 1.09\n",
      "Test Loss 1.29\n",
      "Test Accuracy 0.62 \n",
      "\n",
      "*** EPOCH 70 ***\n",
      "Train Loss 1.09\n",
      "Test Loss 1.29\n",
      "Test Accuracy 0.62 \n",
      "\n",
      "*** EPOCH 71 ***\n",
      "Train Loss 1.09\n",
      "Test Loss 1.29\n",
      "Test Accuracy 0.61 \n",
      "\n",
      "*** EPOCH 72 ***\n",
      "Train Loss 1.09\n",
      "Test Loss 1.29\n",
      "Test Accuracy 0.61 \n",
      "\n",
      "*** EPOCH 73 ***\n",
      "Train Loss 1.08\n",
      "Test Loss 1.29\n",
      "Test Accuracy 0.62 \n",
      "\n",
      "*** EPOCH 74 ***\n",
      "Train Loss 1.08\n",
      "Test Loss 1.29\n",
      "Test Accuracy 0.63 \n",
      "\n",
      "*** EPOCH 75 ***\n",
      "Train Loss 1.08\n",
      "Test Loss 1.29\n",
      "Test Accuracy 0.63 \n",
      "\n",
      "*** EPOCH 76 ***\n",
      "Train Loss 1.08\n",
      "Test Loss 1.29\n",
      "Test Accuracy 0.63 \n",
      "\n",
      "*** EPOCH 77 ***\n",
      "Train Loss 1.07\n",
      "Test Loss 1.28\n",
      "Test Accuracy 0.62 \n",
      "\n",
      "*** EPOCH 78 ***\n",
      "Train Loss 1.07\n",
      "Test Loss 1.28\n",
      "Test Accuracy 0.63 \n",
      "\n",
      "*** EPOCH 79 ***\n",
      "Train Loss 1.07\n",
      "Test Loss 1.28\n",
      "Test Accuracy 0.63 \n",
      "\n",
      "*** EPOCH 80 ***\n",
      "Train Loss 1.07\n",
      "Test Loss 1.29\n",
      "Test Accuracy 0.63 \n",
      "\n",
      "*** EPOCH 81 ***\n",
      "Train Loss 1.07\n",
      "Test Loss 1.29\n",
      "Test Accuracy 0.64 \n",
      "\n",
      "*** EPOCH 82 ***\n",
      "Train Loss 1.07\n",
      "Test Loss 1.29\n",
      "Test Accuracy 0.63 \n",
      "\n",
      "*** EPOCH 83 ***\n",
      "Train Loss 1.06\n",
      "Test Loss 1.29\n",
      "Test Accuracy 0.62 \n",
      "\n",
      "*** EPOCH 84 ***\n",
      "Train Loss 1.07\n",
      "Test Loss 1.30\n",
      "Test Accuracy 0.60 \n",
      "\n",
      "*** EPOCH 85 ***\n",
      "Train Loss 1.08\n",
      "Test Loss 1.29\n",
      "Test Accuracy 0.64 \n",
      "\n",
      "*** EPOCH 86 ***\n",
      "Train Loss 1.06\n",
      "Test Loss 1.28\n",
      "Test Accuracy 0.62 \n",
      "\n",
      "*** EPOCH 87 ***\n",
      "Train Loss 1.06\n",
      "Test Loss 1.28\n",
      "Test Accuracy 0.61 \n",
      "\n",
      "*** EPOCH 88 ***\n",
      "Train Loss 1.06\n",
      "Test Loss 1.30\n",
      "Test Accuracy 0.64 \n",
      "\n",
      "*** EPOCH 89 ***\n",
      "Train Loss 1.06\n",
      "Test Loss 1.28\n",
      "Test Accuracy 0.63 \n",
      "\n",
      "*** EPOCH 90 ***\n",
      "Train Loss 1.06\n",
      "Test Loss 1.28\n",
      "Test Accuracy 0.61 \n",
      "\n",
      "*** EPOCH 91 ***\n",
      "Train Loss 1.06\n",
      "Test Loss 1.30\n",
      "Test Accuracy 0.64 \n",
      "\n",
      "*** EPOCH 92 ***\n",
      "Train Loss 1.05\n",
      "Test Loss 1.27\n",
      "Test Accuracy 0.62 \n",
      "\n",
      "*** EPOCH 93 ***\n",
      "Train Loss 1.05\n",
      "Test Loss 1.29\n",
      "Test Accuracy 0.64 \n",
      "\n",
      "*** EPOCH 94 ***\n",
      "Train Loss 1.05\n",
      "Test Loss 1.28\n",
      "Test Accuracy 0.63 \n",
      "\n",
      "*** EPOCH 95 ***\n",
      "Train Loss 1.05\n",
      "Test Loss 1.29\n",
      "Test Accuracy 0.64 \n",
      "\n",
      "*** EPOCH 96 ***\n",
      "Train Loss 1.05\n",
      "Test Loss 1.28\n",
      "Test Accuracy 0.63 \n",
      "\n",
      "*** EPOCH 97 ***\n",
      "Train Loss 1.05\n",
      "Test Loss 1.29\n",
      "Test Accuracy 0.64 \n",
      "\n",
      "*** EPOCH 98 ***\n",
      "Train Loss 1.04\n",
      "Test Loss 1.28\n",
      "Test Accuracy 0.63 \n",
      "\n",
      "*** EPOCH 99 ***\n",
      "Train Loss 1.04\n",
      "Test Loss 1.29\n",
      "Test Accuracy 0.64 \n",
      "\n",
      "*** EPOCH 100 ***\n",
      "Train Loss 1.04\n",
      "Test Loss 1.27\n",
      "Test Accuracy 0.63 \n",
      "\n",
      "*** EPOCH 101 ***\n",
      "Train Loss 1.04\n",
      "Test Loss 1.29\n",
      "Test Accuracy 0.65 \n",
      "\n",
      "*** EPOCH 102 ***\n",
      "Train Loss 1.04\n",
      "Test Loss 1.27\n",
      "Test Accuracy 0.63 \n",
      "\n",
      "*** EPOCH 103 ***\n",
      "Train Loss 1.04\n",
      "Test Loss 1.29\n",
      "Test Accuracy 0.64 \n",
      "\n",
      "*** EPOCH 104 ***\n",
      "Train Loss 1.04\n",
      "Test Loss 1.28\n",
      "Test Accuracy 0.63 \n",
      "\n",
      "*** EPOCH 105 ***\n",
      "Train Loss 1.04\n",
      "Test Loss 1.28\n",
      "Test Accuracy 0.64 \n",
      "\n",
      "*** EPOCH 106 ***\n",
      "Train Loss 1.03\n",
      "Test Loss 1.27\n",
      "Test Accuracy 0.64 \n",
      "\n",
      "*** EPOCH 107 ***\n",
      "Train Loss 1.03\n",
      "Test Loss 1.28\n",
      "Test Accuracy 0.64 \n",
      "\n",
      "*** EPOCH 108 ***\n",
      "Train Loss 1.03\n",
      "Test Loss 1.27\n",
      "Test Accuracy 0.63 \n",
      "\n",
      "*** EPOCH 109 ***\n",
      "Train Loss 1.04\n",
      "Test Loss 1.29\n",
      "Test Accuracy 0.65 \n",
      "\n",
      "*** EPOCH 110 ***\n",
      "Train Loss 1.03\n",
      "Test Loss 1.27\n",
      "Test Accuracy 0.63 \n",
      "\n",
      "*** EPOCH 111 ***\n",
      "Train Loss 1.04\n",
      "Test Loss 1.29\n",
      "Test Accuracy 0.64 \n",
      "\n",
      "*** EPOCH 112 ***\n",
      "Train Loss 1.03\n",
      "Test Loss 1.27\n",
      "Test Accuracy 0.62 \n",
      "\n",
      "*** EPOCH 113 ***\n",
      "Train Loss 1.04\n",
      "Test Loss 1.29\n",
      "Test Accuracy 0.65 \n",
      "\n",
      "*** EPOCH 114 ***\n",
      "Train Loss 1.04\n",
      "Test Loss 1.27\n",
      "Test Accuracy 0.62 \n",
      "\n",
      "*** EPOCH 115 ***\n",
      "Train Loss 1.04\n",
      "Test Loss 1.28\n",
      "Test Accuracy 0.65 \n",
      "\n",
      "*** EPOCH 116 ***\n",
      "Train Loss 1.05\n",
      "Test Loss 1.27\n",
      "Test Accuracy 0.61 \n",
      "\n",
      "*** EPOCH 117 ***\n",
      "Train Loss 1.06\n",
      "Test Loss 1.27\n",
      "Test Accuracy 0.62 \n",
      "\n",
      "*** EPOCH 118 ***\n",
      "Train Loss 1.04\n",
      "Test Loss 1.30\n",
      "Test Accuracy 0.64 \n",
      "\n",
      "*** EPOCH 119 ***\n",
      "Train Loss 1.04\n",
      "Test Loss 1.27\n",
      "Test Accuracy 0.60 \n",
      "\n",
      "*** EPOCH 120 ***\n",
      "Train Loss 1.05\n",
      "Test Loss 1.29\n",
      "Test Accuracy 0.65 \n",
      "\n",
      "*** EPOCH 121 ***\n",
      "Train Loss 1.04\n",
      "Test Loss 1.27\n",
      "Test Accuracy 0.63 \n",
      "\n",
      "*** EPOCH 122 ***\n",
      "Train Loss 1.04\n",
      "Test Loss 1.27\n",
      "Test Accuracy 0.62 \n",
      "\n",
      "*** EPOCH 123 ***\n",
      "Train Loss 1.03\n",
      "Test Loss 1.30\n",
      "Test Accuracy 0.64 \n",
      "\n",
      "*** EPOCH 124 ***\n",
      "Train Loss 1.04\n",
      "Test Loss 1.27\n",
      "Test Accuracy 0.64 \n",
      "\n",
      "*** EPOCH 125 ***\n",
      "Train Loss 1.03\n",
      "Test Loss 1.27\n",
      "Test Accuracy 0.63 \n",
      "\n",
      "*** EPOCH 126 ***\n",
      "Train Loss 1.02\n",
      "Test Loss 1.29\n",
      "Test Accuracy 0.66 \n",
      "\n",
      "*** EPOCH 127 ***\n",
      "Train Loss 1.02\n",
      "Test Loss 1.27\n",
      "Test Accuracy 0.63 \n",
      "\n",
      "*** EPOCH 128 ***\n",
      "Train Loss 1.02\n",
      "Test Loss 1.27\n",
      "Test Accuracy 0.64 \n",
      "\n",
      "*** EPOCH 129 ***\n",
      "Train Loss 1.02\n",
      "Test Loss 1.29\n",
      "Test Accuracy 0.65 \n",
      "\n",
      "*** EPOCH 130 ***\n",
      "Train Loss 1.02\n",
      "Test Loss 1.27\n",
      "Test Accuracy 0.65 \n",
      "\n",
      "*** EPOCH 131 ***\n",
      "Train Loss 1.02\n",
      "Test Loss 1.27\n",
      "Test Accuracy 0.63 \n",
      "\n",
      "*** EPOCH 132 ***\n",
      "Train Loss 1.02\n",
      "Test Loss 1.29\n",
      "Test Accuracy 0.65 \n",
      "\n",
      "*** EPOCH 133 ***\n",
      "Train Loss 1.02\n",
      "Test Loss 1.28\n",
      "Test Accuracy 0.65 \n",
      "\n",
      "*** EPOCH 134 ***\n",
      "Train Loss 1.01\n",
      "Test Loss 1.27\n",
      "Test Accuracy 0.64 \n",
      "\n",
      "*** EPOCH 135 ***\n",
      "Train Loss 1.01\n",
      "Test Loss 1.28\n",
      "Test Accuracy 0.65 \n",
      "\n",
      "*** EPOCH 136 ***\n",
      "Train Loss 1.01\n",
      "Test Loss 1.28\n",
      "Test Accuracy 0.65 \n",
      "\n",
      "*** EPOCH 137 ***\n",
      "Train Loss 1.01\n",
      "Test Loss 1.27\n",
      "Test Accuracy 0.64 \n",
      "\n",
      "*** EPOCH 138 ***\n",
      "Train Loss 1.01\n",
      "Test Loss 1.27\n",
      "Test Accuracy 0.65 \n",
      "\n",
      "*** EPOCH 139 ***\n",
      "Train Loss 1.01\n",
      "Test Loss 1.28\n",
      "Test Accuracy 0.65 \n",
      "\n",
      "*** EPOCH 140 ***\n",
      "Train Loss 1.01\n",
      "Test Loss 1.28\n",
      "Test Accuracy 0.65 \n",
      "\n",
      "*** EPOCH 141 ***\n",
      "Train Loss 1.01\n",
      "Test Loss 1.27\n",
      "Test Accuracy 0.65 \n",
      "\n",
      "*** EPOCH 142 ***\n",
      "Train Loss 1.01\n",
      "Test Loss 1.28\n",
      "Test Accuracy 0.65 \n",
      "\n",
      "*** EPOCH 143 ***\n",
      "Train Loss 1.01\n",
      "Test Loss 1.28\n",
      "Test Accuracy 0.65 \n",
      "\n",
      "*** EPOCH 144 ***\n",
      "Train Loss 1.01\n",
      "Test Loss 1.27\n",
      "Test Accuracy 0.65 \n",
      "\n",
      "*** EPOCH 145 ***\n",
      "Train Loss 1.01\n",
      "Test Loss 1.28\n",
      "Test Accuracy 0.65 \n",
      "\n",
      "*** EPOCH 146 ***\n",
      "Train Loss 1.01\n",
      "Test Loss 1.28\n",
      "Test Accuracy 0.65 \n",
      "\n",
      "*** EPOCH 147 ***\n",
      "Train Loss 1.01\n",
      "Test Loss 1.28\n",
      "Test Accuracy 0.65 \n",
      "\n",
      "*** EPOCH 148 ***\n",
      "Train Loss 1.00\n",
      "Test Loss 1.28\n",
      "Test Accuracy 0.65 \n",
      "\n",
      "*** EPOCH 149 ***\n",
      "Train Loss 1.00\n",
      "Test Loss 1.28\n",
      "Test Accuracy 0.65 \n",
      "\n",
      "*** EPOCH 150 ***\n",
      "Train Loss 1.00\n",
      "Test Loss 1.28\n",
      "Test Accuracy 0.65 \n",
      "\n",
      "*** EPOCH 151 ***\n",
      "Train Loss 1.00\n",
      "Test Loss 1.28\n",
      "Test Accuracy 0.65 \n",
      "\n",
      "*** EPOCH 152 ***\n",
      "Train Loss 1.00\n",
      "Test Loss 1.28\n",
      "Test Accuracy 0.65 \n",
      "\n",
      "*** EPOCH 153 ***\n",
      "Train Loss 1.00\n",
      "Test Loss 1.28\n",
      "Test Accuracy 0.65 \n",
      "\n",
      "*** EPOCH 154 ***\n",
      "Train Loss 1.00\n",
      "Test Loss 1.28\n",
      "Test Accuracy 0.65 \n",
      "\n",
      "*** EPOCH 155 ***\n",
      "Train Loss 1.00\n",
      "Test Loss 1.28\n",
      "Test Accuracy 0.65 \n",
      "\n",
      "*** EPOCH 156 ***\n",
      "Train Loss 1.00\n",
      "Test Loss 1.28\n",
      "Test Accuracy 0.65 \n",
      "\n",
      "*** EPOCH 157 ***\n",
      "Train Loss 1.00\n",
      "Test Loss 1.28\n",
      "Test Accuracy 0.65 \n",
      "\n",
      "*** EPOCH 158 ***\n",
      "Train Loss 1.00\n",
      "Test Loss 1.28\n",
      "Test Accuracy 0.65 \n",
      "\n",
      "*** EPOCH 159 ***\n",
      "Train Loss 1.00\n",
      "Test Loss 1.28\n",
      "Test Accuracy 0.65 \n",
      "\n",
      "*** EPOCH 160 ***\n",
      "Train Loss 1.00\n",
      "Test Loss 1.28\n",
      "Test Accuracy 0.65 \n",
      "\n",
      "*** EPOCH 161 ***\n",
      "Train Loss 1.00\n",
      "Test Loss 1.28\n",
      "Test Accuracy 0.65 \n",
      "\n",
      "*** EPOCH 162 ***\n",
      "Train Loss 1.00\n",
      "Test Loss 1.28\n",
      "Test Accuracy 0.65 \n",
      "\n",
      "*** EPOCH 163 ***\n",
      "Train Loss 1.00\n",
      "Test Loss 1.28\n",
      "Test Accuracy 0.65 \n",
      "\n",
      "*** EPOCH 164 ***\n",
      "Train Loss 1.00\n",
      "Test Loss 1.28\n",
      "Test Accuracy 0.65 \n",
      "\n",
      "*** EPOCH 165 ***\n",
      "Train Loss 1.00\n",
      "Test Loss 1.28\n",
      "Test Accuracy 0.65 \n",
      "\n",
      "*** EPOCH 166 ***\n",
      "Train Loss 1.00\n",
      "Test Loss 1.28\n",
      "Test Accuracy 0.65 \n",
      "\n",
      "*** EPOCH 167 ***\n",
      "Train Loss 1.00\n",
      "Test Loss 1.28\n",
      "Test Accuracy 0.65 \n",
      "\n",
      "*** EPOCH 168 ***\n",
      "Train Loss 1.00\n",
      "Test Loss 1.28\n",
      "Test Accuracy 0.65 \n",
      "\n",
      "*** EPOCH 169 ***\n",
      "Train Loss 1.00\n",
      "Test Loss 1.28\n",
      "Test Accuracy 0.64 \n",
      "\n",
      "*** EPOCH 170 ***\n",
      "Train Loss 1.00\n",
      "Test Loss 1.28\n",
      "Test Accuracy 0.65 \n",
      "\n",
      "*** EPOCH 171 ***\n",
      "Train Loss 1.00\n",
      "Test Loss 1.28\n",
      "Test Accuracy 0.66 \n",
      "\n",
      "*** EPOCH 172 ***\n",
      "Train Loss 1.00\n",
      "Test Loss 1.28\n",
      "Test Accuracy 0.65 \n",
      "\n",
      "*** EPOCH 173 ***\n",
      "Train Loss 0.99\n",
      "Test Loss 1.28\n",
      "Test Accuracy 0.65 \n",
      "\n",
      "*** EPOCH 174 ***\n",
      "Train Loss 0.99\n",
      "Test Loss 1.28\n",
      "Test Accuracy 0.65 \n",
      "\n",
      "*** EPOCH 175 ***\n",
      "Train Loss 0.99\n",
      "Test Loss 1.27\n",
      "Test Accuracy 0.65 \n",
      "\n",
      "*** EPOCH 176 ***\n",
      "Train Loss 0.99\n",
      "Test Loss 1.28\n",
      "Test Accuracy 0.65 \n",
      "\n",
      "*** EPOCH 177 ***\n",
      "Train Loss 0.99\n",
      "Test Loss 1.28\n",
      "Test Accuracy 0.65 \n",
      "\n",
      "*** EPOCH 178 ***\n",
      "Train Loss 0.99\n",
      "Test Loss 1.28\n",
      "Test Accuracy 0.65 \n",
      "\n",
      "*** EPOCH 179 ***\n",
      "Train Loss 0.99\n",
      "Test Loss 1.28\n",
      "Test Accuracy 0.65 \n",
      "\n",
      "*** EPOCH 180 ***\n",
      "Train Loss 0.99\n",
      "Test Loss 1.28\n",
      "Test Accuracy 0.65 \n",
      "\n",
      "*** EPOCH 181 ***\n",
      "Train Loss 0.99\n",
      "Test Loss 1.28\n",
      "Test Accuracy 0.65 \n",
      "\n",
      "*** EPOCH 182 ***\n",
      "Train Loss 0.99\n",
      "Test Loss 1.28\n",
      "Test Accuracy 0.65 \n",
      "\n",
      "*** EPOCH 183 ***\n",
      "Train Loss 0.99\n",
      "Test Loss 1.28\n",
      "Test Accuracy 0.65 \n",
      "\n",
      "*** EPOCH 184 ***\n",
      "Train Loss 0.99\n",
      "Test Loss 1.28\n",
      "Test Accuracy 0.65 \n",
      "\n",
      "*** EPOCH 185 ***\n",
      "Train Loss 0.99\n",
      "Test Loss 1.28\n",
      "Test Accuracy 0.65 \n",
      "\n",
      "*** EPOCH 186 ***\n",
      "Train Loss 0.99\n",
      "Test Loss 1.28\n",
      "Test Accuracy 0.65 \n",
      "\n",
      "*** EPOCH 187 ***\n",
      "Train Loss 0.99\n",
      "Test Loss 1.28\n",
      "Test Accuracy 0.65 \n",
      "\n",
      "*** EPOCH 188 ***\n",
      "Train Loss 0.99\n",
      "Test Loss 1.28\n",
      "Test Accuracy 0.65 \n",
      "\n",
      "*** EPOCH 189 ***\n",
      "Train Loss 0.99\n",
      "Test Loss 1.28\n",
      "Test Accuracy 0.65 \n",
      "\n",
      "*** EPOCH 190 ***\n",
      "Train Loss 0.99\n",
      "Test Loss 1.28\n",
      "Test Accuracy 0.65 \n",
      "\n",
      "*** EPOCH 191 ***\n",
      "Train Loss 0.99\n",
      "Test Loss 1.28\n",
      "Test Accuracy 0.65 \n",
      "\n",
      "*** EPOCH 192 ***\n",
      "Train Loss 0.99\n",
      "Test Loss 1.28\n",
      "Test Accuracy 0.65 \n",
      "\n",
      "*** EPOCH 193 ***\n",
      "Train Loss 0.99\n",
      "Test Loss 1.28\n",
      "Test Accuracy 0.65 \n",
      "\n",
      "*** EPOCH 194 ***\n",
      "Train Loss 0.99\n",
      "Test Loss 1.28\n",
      "Test Accuracy 0.65 \n",
      "\n",
      "*** EPOCH 195 ***\n",
      "Train Loss 0.99\n",
      "Test Loss 1.28\n",
      "Test Accuracy 0.65 \n",
      "\n",
      "*** EPOCH 196 ***\n",
      "Train Loss 0.99\n",
      "Test Loss 1.28\n",
      "Test Accuracy 0.65 \n",
      "\n",
      "*** EPOCH 197 ***\n",
      "Train Loss 0.99\n",
      "Test Loss 1.28\n",
      "Test Accuracy 0.65 \n",
      "\n",
      "*** EPOCH 198 ***\n",
      "Train Loss 0.99\n",
      "Test Loss 1.28\n",
      "Test Accuracy 0.65 \n",
      "\n",
      "*** EPOCH 199 ***\n",
      "Train Loss 0.99\n",
      "Test Loss 1.28\n",
      "Test Accuracy 0.65 \n"
     ]
    }
   ],
   "source": [
    "tr_loss_hist, ts_loss_hist, ts_acc_hist = train_model(model, X_train, X_test, y_train, y_test, n_epochs=200)"
   ],
   "metadata": {
    "collapsed": false,
    "ExecuteTime": {
     "end_time": "2024-08-11T17:32:56.893237Z",
     "start_time": "2024-08-11T17:32:24.615722Z"
    }
   },
   "id": "36b620375815f590",
   "execution_count": 55
  },
  {
   "cell_type": "code",
   "outputs": [],
   "source": [
    "MODEL_NAME = \"2048_class_wts_ep_200\"\n",
    "torch.save(model, f\"./models/{MODEL_NAME}\")"
   ],
   "metadata": {
    "collapsed": false,
    "ExecuteTime": {
     "end_time": "2024-08-11T17:33:49.380265Z",
     "start_time": "2024-08-11T17:33:49.285751Z"
    }
   },
   "id": "497085eae2ae81de",
   "execution_count": 56
  },
  {
   "cell_type": "code",
   "outputs": [],
   "source": [
    "training_hist = pd.DataFrame.from_dict({'train_loss': tr_loss_hist, 'test_loss' : ts_loss_hist, 'accuracy': ts_acc_hist})\n",
    "training_hist.to_csv(f'./models/{MODEL_NAME+'_training_history'}.csv')"
   ],
   "metadata": {
    "collapsed": false,
    "ExecuteTime": {
     "end_time": "2024-08-11T17:33:55.701394Z",
     "start_time": "2024-08-11T17:33:55.693257Z"
    }
   },
   "id": "836e0592a87191bf",
   "execution_count": 57
  },
  {
   "cell_type": "code",
   "outputs": [],
   "source": [
    "# dense_emb = glove_emb_layer.weight[X].detach().numpy()\n",
    "# dense_emb = np.reshape(dense_emb, (dense_emb.shape[0], MAX_WORDS * 100))\n",
    "# dense_emb.shape"
   ],
   "metadata": {
    "collapsed": false
   },
   "id": "1eece7541a99b60d"
  },
  {
   "cell_type": "markdown",
   "source": [
    "## Evaluate"
   ],
   "metadata": {
    "collapsed": false
   },
   "id": "8788f6e17670540c"
  },
  {
   "cell_type": "code",
   "outputs": [],
   "source": [
    "MODEL_NAME = \"2048_class_wts_ep_200\"\n",
    "eval_model = torch.load(f\"./models/{MODEL_NAME}\")"
   ],
   "metadata": {
    "collapsed": false,
    "ExecuteTime": {
     "end_time": "2024-08-11T17:37:03.552803Z",
     "start_time": "2024-08-11T17:37:03.481613Z"
    }
   },
   "id": "67e9ed46e64627c7",
   "execution_count": 87
  },
  {
   "cell_type": "code",
   "outputs": [],
   "source": [
    "# To GPU\n",
    "X = torch.Tensor(X).to(device)\n",
    "y = torch.Tensor(y).to(device)\n",
    "\n",
    "# Finally Embedding layer to the GPU\n",
    "glove_emb_layer = glove_emb_layer.to(device)\n",
    "eval_model = eval_model.to(device)"
   ],
   "metadata": {
    "collapsed": false,
    "ExecuteTime": {
     "end_time": "2024-08-11T17:37:04.281085Z",
     "start_time": "2024-08-11T17:37:04.273669Z"
    }
   },
   "id": "4c7fa23b30392cde",
   "execution_count": 88
  },
  {
   "cell_type": "code",
   "outputs": [
    {
     "name": "stdout",
     "output_type": "stream",
     "text": [
      "Accuracy: 0.2749384236453202\n",
      "Macro F1 score: 0.15596017121531539\n"
     ]
    }
   ],
   "source": [
    "with torch.no_grad():\n",
    "    y_pred = torch.Tensor.cpu(eval_model(X))\n",
    "    acc = accuracy_score(torch.Tensor.cpu(y), y_pred.argmax(axis=1))\n",
    "    f1 = f1_score(torch.Tensor.cpu(y), y_pred.argmax(axis=1), average='macro')\n",
    "print(f'Accuracy: {acc}')\n",
    "print(f'Macro F1 score: {f1}')"
   ],
   "metadata": {
    "collapsed": false,
    "ExecuteTime": {
     "end_time": "2024-08-11T17:37:22.514529Z",
     "start_time": "2024-08-11T17:37:22.396884Z"
    }
   },
   "id": "2f2a75f1cd7eca5f",
   "execution_count": 90
  }
 ],
 "metadata": {
  "kernelspec": {
   "display_name": "Python 3",
   "language": "python",
   "name": "python3"
  },
  "language_info": {
   "codemirror_mode": {
    "name": "ipython",
    "version": 2
   },
   "file_extension": ".py",
   "mimetype": "text/x-python",
   "name": "python",
   "nbconvert_exporter": "python",
   "pygments_lexer": "ipython2",
   "version": "2.7.6"
  }
 },
 "nbformat": 4,
 "nbformat_minor": 5
}
