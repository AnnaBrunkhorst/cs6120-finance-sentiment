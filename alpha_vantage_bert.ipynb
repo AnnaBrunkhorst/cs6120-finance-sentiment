{
 "cells": [
  {
   "cell_type": "code",
   "execution_count": 1,
   "id": "initial_id",
   "metadata": {
    "collapsed": true,
    "ExecuteTime": {
     "end_time": "2024-08-08T23:38:51.274781Z",
     "start_time": "2024-08-08T23:38:45.347211Z"
    }
   },
   "outputs": [],
   "source": [
    "import json\n",
    "import os\n",
    "\n",
    "import matplotlib.pyplot as plt\n",
    "import numpy as np\n",
    "import pandas as pd\n",
    "from sklearn.metrics import accuracy_score\n",
    "from transformers import AutoModelForSequenceClassification\n",
    "from transformers import AutoTokenizer\n",
    "from transformers import TrainingArguments, Trainer\n",
    "import evaluate\n",
    "\n",
    "%matplotlib inline"
   ]
  },
  {
   "cell_type": "code",
   "outputs": [],
   "source": [
    "def read_json_files(dir: str, fname_filter=None) -> list:\n",
    "    json_fnames = []\n",
    "    for (_, _, fnames) in os.walk(dir):\n",
    "        json_fnames.extend(fnames)\n",
    "        break  # ensure only top level json files are read.\n",
    "\n",
    "    filter_predicate = lambda name: name.startswith(fname_filter) and name.endswith('.json') if fname_filter else lambda \\\n",
    "            name: name.startswith(filter)\n",
    "    json_fnames = list(filter(filter_predicate, json_fnames))\n",
    "\n",
    "    json_data = []\n",
    "    for fname in json_fnames:\n",
    "        with open(f'{dir}/{fname}', 'r') as json_file:\n",
    "            json_data.append(json.load(json_file))\n",
    "    return json_data\n",
    "\n",
    "\n",
    "json_data = read_json_files('./data', 'data')"
   ],
   "metadata": {
    "collapsed": false,
    "ExecuteTime": {
     "end_time": "2024-08-08T23:38:52.116427Z",
     "start_time": "2024-08-08T23:38:51.276394Z"
    }
   },
   "id": "2c9412bfb1d41633",
   "execution_count": 2
  },
  {
   "cell_type": "code",
   "outputs": [],
   "source": [
    "def parse_vantage_api_data(json_data: list) -> pd.DataFrame:\n",
    "    df_list = []\n",
    "    for json_dict in json_data:\n",
    "        for item in json_dict['feed']:\n",
    "            item_dict = {'title': item['title'], 'time_published': item['time_published'], 'summary': item['summary'],\n",
    "                         'label': item['overall_sentiment_label'],\n",
    "                         'score': item['overall_sentiment_score'],\n",
    "                         'ticker_sentiment': item['ticker_sentiment']}\n",
    "            df_list.append(item_dict)\n",
    "    return pd.DataFrame(df_list)\n",
    "\n",
    "\n",
    "data_df = parse_vantage_api_data(json_data)"
   ],
   "metadata": {
    "collapsed": false,
    "ExecuteTime": {
     "end_time": "2024-08-08T23:38:52.414731Z",
     "start_time": "2024-08-08T23:38:52.116427Z"
    }
   },
   "id": "9552d18ccd679c35",
   "execution_count": 3
  },
  {
   "cell_type": "code",
   "outputs": [
    {
     "data": {
      "text/plain": "                                               title   time_published  \\\n0  E-rupee pilot sees trades worth Rs 275 crore o...  20221102T000000   \n1  Immutep to Participate in Two Upcoming Investo...  20221101T235900   \n2  ROSEN, GLOBAL INVESTOR COUNSEL, Encourages Com...  20221101T235800   \n3  Michael Khan Joins Pinnacle Bank as Executive ...  20221101T235758   \n4  ANET Stock, NBIX, WMB, MPLX, 7 Other Tickers A...  20221101T235646   \n\n                                             summary             label  \\\n0  E-rupee pilot sees trades worth Rs 275 crore o...  Somewhat-Bullish   \n1                                  Media Release ...           Neutral   \n2  NEW YORK, Nov. 01, 2022 ( GLOBE NEWSWIRE ) -- ...           Neutral   \n3  Pinnacle Bank ( OTCQB: PBNK ) , headquartered ...           Bullish   \n4  IBD stock screens are regularly updated to add...           Bullish   \n\n      score                                   ticker_sentiment  \n0  0.201554  [{'ticker': 'FRBA', 'relevance_score': '0.1228...  \n1  0.079027  [{'ticker': 'IMMP', 'relevance_score': '0.6154...  \n2  0.135679  [{'ticker': 'META', 'relevance_score': '0.0613...  \n3  0.479188  [{'ticker': 'CAIB', 'relevance_score': '0.1235...  \n4  0.414276  [{'ticker': 'ANET', 'relevance_score': '0.3782...  ",
      "text/html": "<div>\n<style scoped>\n    .dataframe tbody tr th:only-of-type {\n        vertical-align: middle;\n    }\n\n    .dataframe tbody tr th {\n        vertical-align: top;\n    }\n\n    .dataframe thead th {\n        text-align: right;\n    }\n</style>\n<table border=\"1\" class=\"dataframe\">\n  <thead>\n    <tr style=\"text-align: right;\">\n      <th></th>\n      <th>title</th>\n      <th>time_published</th>\n      <th>summary</th>\n      <th>label</th>\n      <th>score</th>\n      <th>ticker_sentiment</th>\n    </tr>\n  </thead>\n  <tbody>\n    <tr>\n      <th>0</th>\n      <td>E-rupee pilot sees trades worth Rs 275 crore o...</td>\n      <td>20221102T000000</td>\n      <td>E-rupee pilot sees trades worth Rs 275 crore o...</td>\n      <td>Somewhat-Bullish</td>\n      <td>0.201554</td>\n      <td>[{'ticker': 'FRBA', 'relevance_score': '0.1228...</td>\n    </tr>\n    <tr>\n      <th>1</th>\n      <td>Immutep to Participate in Two Upcoming Investo...</td>\n      <td>20221101T235900</td>\n      <td>Media Release ...</td>\n      <td>Neutral</td>\n      <td>0.079027</td>\n      <td>[{'ticker': 'IMMP', 'relevance_score': '0.6154...</td>\n    </tr>\n    <tr>\n      <th>2</th>\n      <td>ROSEN, GLOBAL INVESTOR COUNSEL, Encourages Com...</td>\n      <td>20221101T235800</td>\n      <td>NEW YORK, Nov. 01, 2022 ( GLOBE NEWSWIRE ) -- ...</td>\n      <td>Neutral</td>\n      <td>0.135679</td>\n      <td>[{'ticker': 'META', 'relevance_score': '0.0613...</td>\n    </tr>\n    <tr>\n      <th>3</th>\n      <td>Michael Khan Joins Pinnacle Bank as Executive ...</td>\n      <td>20221101T235758</td>\n      <td>Pinnacle Bank ( OTCQB: PBNK ) , headquartered ...</td>\n      <td>Bullish</td>\n      <td>0.479188</td>\n      <td>[{'ticker': 'CAIB', 'relevance_score': '0.1235...</td>\n    </tr>\n    <tr>\n      <th>4</th>\n      <td>ANET Stock, NBIX, WMB, MPLX, 7 Other Tickers A...</td>\n      <td>20221101T235646</td>\n      <td>IBD stock screens are regularly updated to add...</td>\n      <td>Bullish</td>\n      <td>0.414276</td>\n      <td>[{'ticker': 'ANET', 'relevance_score': '0.3782...</td>\n    </tr>\n  </tbody>\n</table>\n</div>"
     },
     "execution_count": 4,
     "metadata": {},
     "output_type": "execute_result"
    }
   ],
   "source": [
    "data_df.head()"
   ],
   "metadata": {
    "collapsed": false,
    "ExecuteTime": {
     "end_time": "2024-08-08T23:38:52.424638Z",
     "start_time": "2024-08-08T23:38:52.415809Z"
    }
   },
   "id": "e44f0ddff868fcda",
   "execution_count": 4
  },
  {
   "cell_type": "code",
   "outputs": [
    {
     "data": {
      "text/plain": "                                               title   time_published  \\\n0  E-rupee pilot sees trades worth Rs 275 crore o...  20221102T000000   \n1  Immutep to Participate in Two Upcoming Investo...  20221101T235900   \n2  ROSEN, GLOBAL INVESTOR COUNSEL, Encourages Com...  20221101T235800   \n3  Michael Khan Joins Pinnacle Bank as Executive ...  20221101T235758   \n4  ANET Stock, NBIX, WMB, MPLX, 7 Other Tickers A...  20221101T235646   \n\n                                             summary             label  \\\n0  E-rupee pilot sees trades worth Rs 275 crore o...  Somewhat-Bullish   \n1                                  Media Release ...           Neutral   \n2  NEW YORK, Nov. 01, 2022 ( GLOBE NEWSWIRE ) -- ...           Neutral   \n3  Pinnacle Bank ( OTCQB: PBNK ) , headquartered ...           Bullish   \n4  IBD stock screens are regularly updated to add...           Bullish   \n\n      score                                   ticker_sentiment  \\\n0  0.201554  [{'ticker': 'FRBA', 'relevance_score': '0.1228...   \n1  0.079027  [{'ticker': 'IMMP', 'relevance_score': '0.6154...   \n2  0.135679  [{'ticker': 'META', 'relevance_score': '0.0613...   \n3  0.479188  [{'ticker': 'CAIB', 'relevance_score': '0.1235...   \n4  0.414276  [{'ticker': 'ANET', 'relevance_score': '0.3782...   \n\n                                                text  \n0  E-rupee pilot sees trades worth Rs 275 crore o...  \n1  Immutep to Participate in Two Upcoming Investo...  \n2  ROSEN, GLOBAL INVESTOR COUNSEL, Encourages Com...  \n3  Michael Khan Joins Pinnacle Bank as Executive ...  \n4  ANET Stock, NBIX, WMB, MPLX, 7 Other Tickers A...  ",
      "text/html": "<div>\n<style scoped>\n    .dataframe tbody tr th:only-of-type {\n        vertical-align: middle;\n    }\n\n    .dataframe tbody tr th {\n        vertical-align: top;\n    }\n\n    .dataframe thead th {\n        text-align: right;\n    }\n</style>\n<table border=\"1\" class=\"dataframe\">\n  <thead>\n    <tr style=\"text-align: right;\">\n      <th></th>\n      <th>title</th>\n      <th>time_published</th>\n      <th>summary</th>\n      <th>label</th>\n      <th>score</th>\n      <th>ticker_sentiment</th>\n      <th>text</th>\n    </tr>\n  </thead>\n  <tbody>\n    <tr>\n      <th>0</th>\n      <td>E-rupee pilot sees trades worth Rs 275 crore o...</td>\n      <td>20221102T000000</td>\n      <td>E-rupee pilot sees trades worth Rs 275 crore o...</td>\n      <td>Somewhat-Bullish</td>\n      <td>0.201554</td>\n      <td>[{'ticker': 'FRBA', 'relevance_score': '0.1228...</td>\n      <td>E-rupee pilot sees trades worth Rs 275 crore o...</td>\n    </tr>\n    <tr>\n      <th>1</th>\n      <td>Immutep to Participate in Two Upcoming Investo...</td>\n      <td>20221101T235900</td>\n      <td>Media Release ...</td>\n      <td>Neutral</td>\n      <td>0.079027</td>\n      <td>[{'ticker': 'IMMP', 'relevance_score': '0.6154...</td>\n      <td>Immutep to Participate in Two Upcoming Investo...</td>\n    </tr>\n    <tr>\n      <th>2</th>\n      <td>ROSEN, GLOBAL INVESTOR COUNSEL, Encourages Com...</td>\n      <td>20221101T235800</td>\n      <td>NEW YORK, Nov. 01, 2022 ( GLOBE NEWSWIRE ) -- ...</td>\n      <td>Neutral</td>\n      <td>0.135679</td>\n      <td>[{'ticker': 'META', 'relevance_score': '0.0613...</td>\n      <td>ROSEN, GLOBAL INVESTOR COUNSEL, Encourages Com...</td>\n    </tr>\n    <tr>\n      <th>3</th>\n      <td>Michael Khan Joins Pinnacle Bank as Executive ...</td>\n      <td>20221101T235758</td>\n      <td>Pinnacle Bank ( OTCQB: PBNK ) , headquartered ...</td>\n      <td>Bullish</td>\n      <td>0.479188</td>\n      <td>[{'ticker': 'CAIB', 'relevance_score': '0.1235...</td>\n      <td>Michael Khan Joins Pinnacle Bank as Executive ...</td>\n    </tr>\n    <tr>\n      <th>4</th>\n      <td>ANET Stock, NBIX, WMB, MPLX, 7 Other Tickers A...</td>\n      <td>20221101T235646</td>\n      <td>IBD stock screens are regularly updated to add...</td>\n      <td>Bullish</td>\n      <td>0.414276</td>\n      <td>[{'ticker': 'ANET', 'relevance_score': '0.3782...</td>\n      <td>ANET Stock, NBIX, WMB, MPLX, 7 Other Tickers A...</td>\n    </tr>\n  </tbody>\n</table>\n</div>"
     },
     "execution_count": 5,
     "metadata": {},
     "output_type": "execute_result"
    }
   ],
   "source": [
    "data_df[\"text\"] = data_df[\"title\"].str.cat(data_df[\"summary\"])\n",
    "data_df.head()"
   ],
   "metadata": {
    "collapsed": false,
    "ExecuteTime": {
     "end_time": "2024-08-08T23:38:52.473820Z",
     "start_time": "2024-08-08T23:38:52.425805Z"
    }
   },
   "id": "cb5a9cda58577deb",
   "execution_count": 5
  },
  {
   "cell_type": "code",
   "outputs": [],
   "source": [
    "label_map = {\n",
    "    'Bearish': 0,\n",
    "    'Somewhat-Bearish': 1,\n",
    "    'Neutral': 2,\n",
    "    'Somewhat-Bullish': 3,\n",
    "    'Bullish': 4,\n",
    "}\n",
    "\n",
    "for key in list(label_map.keys()):\n",
    "    data_df.loc[data_df['label'] == key, 'label'] = label_map[key]"
   ],
   "metadata": {
    "collapsed": false,
    "ExecuteTime": {
     "end_time": "2024-08-08T23:38:52.512839Z",
     "start_time": "2024-08-08T23:38:52.473820Z"
    }
   },
   "id": "2b3b6ba76f7f7243",
   "execution_count": 6
  },
  {
   "cell_type": "code",
   "outputs": [
    {
     "data": {
      "text/plain": "<Figure size 640x480 with 1 Axes>",
      "image/png": "[encoded data removed]"
     },
     "metadata": {},
     "output_type": "display_data"
    }
   ],
   "source": [
    "# Length distribution of each summary\n",
    "\n",
    "text_len_dist = np.asarray([0 if sen is None else len(sen.split()) for sen in data_df['text']])\n",
    "\n",
    "_ = plt.hist(text_len_dist)"
   ],
   "metadata": {
    "collapsed": false,
    "ExecuteTime": {
     "end_time": "2024-08-08T23:38:54.140041Z",
     "start_time": "2024-08-08T23:38:53.951189Z"
    }
   },
   "id": "692e4cd477c3d42f",
   "execution_count": 7
  },
  {
   "cell_type": "code",
   "outputs": [
    {
     "data": {
      "text/plain": "<Figure size 640x480 with 1 Axes>",
      "image/png": "[encoded data removed]"
     },
     "metadata": {},
     "output_type": "display_data"
    }
   ],
   "source": [
    "_ = plt.hist(data_df['label'])"
   ],
   "metadata": {
    "collapsed": false,
    "ExecuteTime": {
     "end_time": "2024-08-08T23:38:54.721046Z",
     "start_time": "2024-08-08T23:38:54.624792Z"
    }
   },
   "id": "d5ce8f59d29b102b",
   "execution_count": 8
  },
  {
   "cell_type": "code",
   "outputs": [],
   "source": [
    "from datasets import Dataset, concatenate_datasets\n",
    "\n",
    "ds = Dataset.from_pandas(data_df[['text', 'label']])"
   ],
   "metadata": {
    "collapsed": false,
    "ExecuteTime": {
     "end_time": "2024-08-08T23:38:55.571146Z",
     "start_time": "2024-08-08T23:38:55.425574Z"
    }
   },
   "id": "cb98efad63f48cb4",
   "execution_count": 9
  },
  {
   "cell_type": "code",
   "outputs": [
    {
     "data": {
      "text/plain": "Dataset({\n    features: ['text', 'label'],\n    num_rows: 77583\n})"
     },
     "execution_count": 10,
     "metadata": {},
     "output_type": "execute_result"
    }
   ],
   "source": [
    "ds"
   ],
   "metadata": {
    "collapsed": false,
    "ExecuteTime": {
     "end_time": "2024-08-08T23:38:56.029256Z",
     "start_time": "2024-08-08T23:38:56.024697Z"
    }
   },
   "id": "bb54d43f12abf09c",
   "execution_count": 10
  },
  {
   "cell_type": "code",
   "outputs": [
    {
     "data": {
      "text/plain": "Filter:   0%|          | 0/77583 [00:00<?, ? examples/s]",
      "application/vnd.jupyter.widget-view+json": {
       "version_major": 2,
       "version_minor": 0,
       "model_id": "94247545b4454b809a9e2f0497e0e511"
      }
     },
     "metadata": {},
     "output_type": "display_data"
    },
    {
     "data": {
      "text/plain": "Filter:   0%|          | 0/77583 [00:00<?, ? examples/s]",
      "application/vnd.jupyter.widget-view+json": {
       "version_major": 2,
       "version_minor": 0,
       "model_id": "bae54a220cc1415892655a788c85aee9"
      }
     },
     "metadata": {},
     "output_type": "display_data"
    },
    {
     "data": {
      "text/plain": "Filter:   0%|          | 0/77583 [00:00<?, ? examples/s]",
      "application/vnd.jupyter.widget-view+json": {
       "version_major": 2,
       "version_minor": 0,
       "model_id": "3fcf9b9e37b2459aa8e10abb542a1c24"
      }
     },
     "metadata": {},
     "output_type": "display_data"
    },
    {
     "name": "stdout",
     "output_type": "stream",
     "text": [
      "Bearish:3840\n",
      "Neutral:34760\n",
      "Bullish:38983\n"
     ]
    }
   ],
   "source": [
    "# Fix class imbalance\n",
    "ds_neutral = ds.filter(lambda example: example['label'] == 2)\n",
    "ds_bearish = ds.filter(lambda example: example['label'] == 0 or example['label'] == 1)\n",
    "ds_bullish = ds.filter(lambda example: example['label'] == 3 or example['label'] == 4)\n",
    "\n",
    "print(f'Bearish:{ds_bearish.shape[0]}\\nNeutral:{ds_neutral.shape[0]}\\nBullish:{ds_bullish.shape[0]}')"
   ],
   "metadata": {
    "collapsed": false,
    "ExecuteTime": {
     "end_time": "2024-08-08T23:38:57.165411Z",
     "start_time": "2024-08-08T23:38:56.716197Z"
    }
   },
   "id": "b08d68f968a1f2b1",
   "execution_count": 11
  },
  {
   "cell_type": "code",
   "outputs": [],
   "source": [
    "ds_neutral = ds_neutral.shuffle().select(range(5000))\n",
    "ds_bullish = ds_bullish.shuffle().select(range(5000))\n",
    "ds_sub = concatenate_datasets([ds_bearish, ds_neutral, ds_bullish])\n",
    "ds_sub = ds_sub.shuffle()"
   ],
   "metadata": {
    "collapsed": false,
    "ExecuteTime": {
     "end_time": "2024-08-08T23:38:57.626788Z",
     "start_time": "2024-08-08T23:38:57.603666Z"
    }
   },
   "id": "d86bc0522e0c4b88",
   "execution_count": 12
  },
  {
   "cell_type": "code",
   "outputs": [
    {
     "data": {
      "text/plain": "Text(0.5, 1.0, 'Dataset size: 13840')"
     },
     "execution_count": 13,
     "metadata": {},
     "output_type": "execute_result"
    },
    {
     "data": {
      "text/plain": "<Figure size 640x480 with 1 Axes>",
      "image/png": "[encoded data removed]"
     },
     "metadata": {},
     "output_type": "display_data"
    }
   ],
   "source": [
    "_ = plt.hist(ds_sub['label'])\n",
    "plt.title(f'Dataset size: {ds_sub.shape[0]}')"
   ],
   "metadata": {
    "collapsed": false,
    "ExecuteTime": {
     "end_time": "2024-08-08T10:05:04.971799Z",
     "start_time": "2024-08-08T10:05:04.848551Z"
    }
   },
   "id": "4ac3489dceb337d5",
   "execution_count": 13
  },
  {
   "cell_type": "markdown",
   "source": [
    "Loading Bert model"
   ],
   "metadata": {
    "collapsed": false
   },
   "id": "680f823b08d6f01f"
  },
  {
   "cell_type": "code",
   "outputs": [
    {
     "data": {
      "text/plain": "tokenizer_config.json:   0%|          | 0.00/48.0 [00:00<?, ?B/s]",
      "application/vnd.jupyter.widget-view+json": {
       "version_major": 2,
       "version_minor": 0,
       "model_id": "30ccfa4768cb467d86c2b06c06771a4f"
      }
     },
     "metadata": {},
     "output_type": "display_data"
    },
    {
     "name": "stderr",
     "output_type": "stream",
     "text": [
      "E:\\Academics\\NEU\\DS5230 - USML\\Assignments\\venv\\Lib\\site-packages\\huggingface_hub\\file_download.py:157: UserWarning: `huggingface_hub` cache-system uses symlinks by default to efficiently store duplicated files but your machine does not support them in C:\\Users\\magad\\.cache\\huggingface\\hub\\models--google-bert--bert-base-uncased. Caching files will still work but in a degraded version that might require more space on your disk. This warning can be disabled by setting the `HF_HUB_DISABLE_SYMLINKS_WARNING` environment variable. For more details, see https://huggingface.co/docs/huggingface_hub/how-to-cache#limitations.\n",
      "To support symlinks on Windows, you either need to activate Developer Mode or to run Python as an administrator. In order to see activate developer mode, see this article: https://docs.microsoft.com/en-us/windows/apps/get-started/enable-your-device-for-development\n",
      "  warnings.warn(message)\n"
     ]
    },
    {
     "data": {
      "text/plain": "config.json:   0%|          | 0.00/570 [00:00<?, ?B/s]",
      "application/vnd.jupyter.widget-view+json": {
       "version_major": 2,
       "version_minor": 0,
       "model_id": "ee9eb4e97c9c4ef9a0553f63a2c649a9"
      }
     },
     "metadata": {},
     "output_type": "display_data"
    },
    {
     "data": {
      "text/plain": "vocab.txt:   0%|          | 0.00/232k [00:00<?, ?B/s]",
      "application/vnd.jupyter.widget-view+json": {
       "version_major": 2,
       "version_minor": 0,
       "model_id": "3807249babb7444f87bd19b331f99728"
      }
     },
     "metadata": {},
     "output_type": "display_data"
    },
    {
     "data": {
      "text/plain": "tokenizer.json:   0%|          | 0.00/466k [00:00<?, ?B/s]",
      "application/vnd.jupyter.widget-view+json": {
       "version_major": 2,
       "version_minor": 0,
       "model_id": "9aa5d70cc3044a07b12f33682de52954"
      }
     },
     "metadata": {},
     "output_type": "display_data"
    },
    {
     "name": "stderr",
     "output_type": "stream",
     "text": [
      "E:\\Academics\\NEU\\DS5230 - USML\\Assignments\\venv\\Lib\\site-packages\\transformers\\tokenization_utils_base.py:1601: FutureWarning: `clean_up_tokenization_spaces` was not set. It will be set to `True` by default. This behavior will be depracted in transformers v4.45, and will be then set to `False` by default. For more details check this issue: https://github.com/huggingface/transformers/issues/31884\n",
      "  warnings.warn(\n"
     ]
    },
    {
     "data": {
      "text/plain": "Map:   0%|          | 0/77583 [00:00<?, ? examples/s]",
      "application/vnd.jupyter.widget-view+json": {
       "version_major": 2,
       "version_minor": 0,
       "model_id": "02954ceb4967448baf1b089fcedca6ae"
      }
     },
     "metadata": {},
     "output_type": "display_data"
    }
   ],
   "source": [
    "MODEL_NAME = \"google-bert/bert-base-uncased\"\n",
    "tokenizer = AutoTokenizer.from_pretrained(MODEL_NAME)\n",
    "\n",
    "\n",
    "def tokenize(datapoint):\n",
    "    return tokenizer(datapoint['text'], padding='max_length', truncation=True)\n",
    "\n",
    "\n",
    "tokenized_df = ds.map(tokenize, batched=True)"
   ],
   "metadata": {
    "collapsed": false,
    "ExecuteTime": {
     "end_time": "2024-08-08T10:05:53.707630Z",
     "start_time": "2024-08-08T10:05:41.587165Z"
    }
   },
   "id": "af6334be2fda7872",
   "execution_count": 14
  },
  {
   "cell_type": "code",
   "outputs": [
    {
     "data": {
      "text/plain": "Dataset({\n    features: ['text', 'label', 'input_ids', 'token_type_ids', 'attention_mask'],\n    num_rows: 54308\n})"
     },
     "execution_count": 15,
     "metadata": {},
     "output_type": "execute_result"
    }
   ],
   "source": [
    "# train test split\n",
    "ds = tokenized_df.train_test_split(test_size=0.3, train_size=0.7, shuffle=True)\n",
    "\n",
    "ds['train']"
   ],
   "metadata": {
    "collapsed": false,
    "ExecuteTime": {
     "end_time": "2024-08-08T10:06:01.901277Z",
     "start_time": "2024-08-08T10:06:01.886456Z"
    }
   },
   "id": "1e3e313b0626c3ae",
   "execution_count": 15
  },
  {
   "cell_type": "code",
   "outputs": [
    {
     "data": {
      "text/plain": "model.safetensors:   0%|          | 0.00/440M [00:00<?, ?B/s]",
      "application/vnd.jupyter.widget-view+json": {
       "version_major": 2,
       "version_minor": 0,
       "model_id": "1ba0050999a642c49dbfbeec94056a86"
      }
     },
     "metadata": {},
     "output_type": "display_data"
    },
    {
     "name": "stderr",
     "output_type": "stream",
     "text": [
      "A parameter name that contains `beta` will be renamed internally to `bias`. Please use a different name to suppress this warning.\n",
      "A parameter name that contains `gamma` will be renamed internally to `weight`. Please use a different name to suppress this warning.\n",
      "A parameter name that contains `beta` will be renamed internally to `bias`. Please use a different name to suppress this warning.\n",
      "A parameter name that contains `gamma` will be renamed internally to `weight`. Please use a different name to suppress this warning.\n",
      "A parameter name that contains `beta` will be renamed internally to `bias`. Please use a different name to suppress this warning.\n",
      "A parameter name that contains `gamma` will be renamed internally to `weight`. Please use a different name to suppress this warning.\n",
      "A parameter name that contains `beta` will be renamed internally to `bias`. Please use a different name to suppress this warning.\n",
      "A parameter name that contains `gamma` will be renamed internally to `weight`. Please use a different name to suppress this warning.\n",
      "A parameter name that contains `beta` will be renamed internally to `bias`. Please use a different name to suppress this warning.\n",
      "A parameter name that contains `gamma` will be renamed internally to `weight`. Please use a different name to suppress this warning.\n",
      "A parameter name that contains `beta` will be renamed internally to `bias`. Please use a different name to suppress this warning.\n",
      "A parameter name that contains `gamma` will be renamed internally to `weight`. Please use a different name to suppress this warning.\n",
      "A parameter name that contains `beta` will be renamed internally to `bias`. Please use a different name to suppress this warning.\n",
      "A parameter name that contains `gamma` will be renamed internally to `weight`. Please use a different name to suppress this warning.\n",
      "A parameter name that contains `beta` will be renamed internally to `bias`. Please use a different name to suppress this warning.\n",
      "A parameter name that contains `gamma` will be renamed internally to `weight`. Please use a different name to suppress this warning.\n",
      "A parameter name that contains `beta` will be renamed internally to `bias`. Please use a different name to suppress this warning.\n",
      "A parameter name that contains `gamma` will be renamed internally to `weight`. Please use a different name to suppress this warning.\n",
      "A parameter name that contains `beta` will be renamed internally to `bias`. Please use a different name to suppress this warning.\n",
      "A parameter name that contains `gamma` will be renamed internally to `weight`. Please use a different name to suppress this warning.\n",
      "A parameter name that contains `beta` will be renamed internally to `bias`. Please use a different name to suppress this warning.\n",
      "A parameter name that contains `gamma` will be renamed internally to `weight`. Please use a different name to suppress this warning.\n",
      "A parameter name that contains `beta` will be renamed internally to `bias`. Please use a different name to suppress this warning.\n",
      "A parameter name that contains `gamma` will be renamed internally to `weight`. Please use a different name to suppress this warning.\n",
      "A parameter name that contains `beta` will be renamed internally to `bias`. Please use a different name to suppress this warning.\n",
      "A parameter name that contains `gamma` will be renamed internally to `weight`. Please use a different name to suppress this warning.\n",
      "A parameter name that contains `beta` will be renamed internally to `bias`. Please use a different name to suppress this warning.\n",
      "A parameter name that contains `gamma` will be renamed internally to `weight`. Please use a different name to suppress this warning.\n",
      "A parameter name that contains `beta` will be renamed internally to `bias`. Please use a different name to suppress this warning.\n",
      "A parameter name that contains `gamma` will be renamed internally to `weight`. Please use a different name to suppress this warning.\n",
      "A parameter name that contains `beta` will be renamed internally to `bias`. Please use a different name to suppress this warning.\n",
      "A parameter name that contains `gamma` will be renamed internally to `weight`. Please use a different name to suppress this warning.\n",
      "A parameter name that contains `beta` will be renamed internally to `bias`. Please use a different name to suppress this warning.\n",
      "A parameter name that contains `gamma` will be renamed internally to `weight`. Please use a different name to suppress this warning.\n",
      "A parameter name that contains `beta` will be renamed internally to `bias`. Please use a different name to suppress this warning.\n",
      "A parameter name that contains `gamma` will be renamed internally to `weight`. Please use a different name to suppress this warning.\n",
      "A parameter name that contains `beta` will be renamed internally to `bias`. Please use a different name to suppress this warning.\n",
      "A parameter name that contains `gamma` will be renamed internally to `weight`. Please use a different name to suppress this warning.\n",
      "A parameter name that contains `beta` will be renamed internally to `bias`. Please use a different name to suppress this warning.\n",
      "A parameter name that contains `gamma` will be renamed internally to `weight`. Please use a different name to suppress this warning.\n",
      "A parameter name that contains `beta` will be renamed internally to `bias`. Please use a different name to suppress this warning.\n",
      "A parameter name that contains `gamma` will be renamed internally to `weight`. Please use a different name to suppress this warning.\n",
      "A parameter name that contains `beta` will be renamed internally to `bias`. Please use a different name to suppress this warning.\n",
      "A parameter name that contains `gamma` will be renamed internally to `weight`. Please use a different name to suppress this warning.\n",
      "A parameter name that contains `beta` will be renamed internally to `bias`. Please use a different name to suppress this warning.\n",
      "A parameter name that contains `gamma` will be renamed internally to `weight`. Please use a different name to suppress this warning.\n",
      "A parameter name that contains `beta` will be renamed internally to `bias`. Please use a different name to suppress this warning.\n",
      "A parameter name that contains `gamma` will be renamed internally to `weight`. Please use a different name to suppress this warning.\n",
      "A parameter name that contains `beta` will be renamed internally to `bias`. Please use a different name to suppress this warning.\n",
      "A parameter name that contains `gamma` will be renamed internally to `weight`. Please use a different name to suppress this warning.\n",
      "A parameter name that contains `beta` will be renamed internally to `bias`. Please use a different name to suppress this warning.\n",
      "A parameter name that contains `gamma` will be renamed internally to `weight`. Please use a different name to suppress this warning.\n",
      "Some weights of BertForSequenceClassification were not initialized from the model checkpoint at google-bert/bert-base-uncased and are newly initialized: ['classifier.bias', 'classifier.weight']\n",
      "You should probably TRAIN this model on a down-stream task to be able to use it for predictions and inference.\n"
     ]
    }
   ],
   "source": [
    "model = AutoModelForSequenceClassification.from_pretrained(MODEL_NAME, num_labels=5)"
   ],
   "metadata": {
    "collapsed": false,
    "ExecuteTime": {
     "end_time": "2024-08-08T10:06:18.252365Z",
     "start_time": "2024-08-08T10:06:07.039064Z"
    }
   },
   "id": "61772ec68076b80b",
   "execution_count": 16
  },
  {
   "cell_type": "code",
   "outputs": [],
   "source": [
    "training_args = TrainingArguments(\n",
    "    output_dir=\"test_trainer\",\n",
    "    eval_strategy=\"epoch\",\n",
    "    per_device_train_batch_size=16,\n",
    "    per_device_eval_batch_size=16,\n",
    "    num_train_epochs=5)\n",
    "\n",
    "metric = evaluate.load(\"accuracy\")"
   ],
   "metadata": {
    "collapsed": false,
    "ExecuteTime": {
     "end_time": "2024-08-08T10:06:49.506185Z",
     "start_time": "2024-08-08T10:06:47.519449Z"
    }
   },
   "id": "fe74b29d7f5778bb",
   "execution_count": 17
  },
  {
   "cell_type": "code",
   "outputs": [],
   "source": [
    "def compute_metrics(eval_pred):\n",
    "    logits, labels = eval_pred\n",
    "    y_pred = np.argmax(logits, axis=-1)\n",
    "    return metric.compute(predictions=y_pred, references=labels)"
   ],
   "metadata": {
    "collapsed": false,
    "ExecuteTime": {
     "end_time": "2024-08-08T10:06:51.440981Z",
     "start_time": "2024-08-08T10:06:51.437707Z"
    }
   },
   "id": "e121fa480ba10a41",
   "execution_count": 18
  },
  {
   "cell_type": "code",
   "outputs": [
    {
     "name": "stderr",
     "output_type": "stream",
     "text": [
      "E:\\Academics\\NEU\\DS5230 - USML\\Assignments\\venv\\Lib\\site-packages\\transformers\\models\\bert\\modeling_bert.py:439: UserWarning: 1Torch was not compiled with flash attention. (Triggered internally at ..\\aten\\src\\ATen\\native\\transformers\\cuda\\sdp_utils.cpp:455.)\n",
      "  attn_output = torch.nn.functional.scaled_dot_product_attention(\n"
     ]
    },
    {
     "data": {
      "text/plain": "<IPython.core.display.HTML object>",
      "text/html": "\n    <div>\n      \n      <progress value='16975' max='16975' style='width:300px; height:20px; vertical-align: middle;'></progress>\n      [16975/16975 3:08:53, Epoch 5/5]\n    </div>\n    <table border=\"1\" class=\"dataframe\">\n  <thead>\n <tr style=\"text-align: left;\">\n      <th>Epoch</th>\n      <th>Training Loss</th>\n      <th>Validation Loss</th>\n      <th>Accuracy</th>\n    </tr>\n  </thead>\n  <tbody>\n    <tr>\n      <td>1</td>\n      <td>0.739100</td>\n      <td>0.715901</td>\n      <td>0.698561</td>\n    </tr>\n    <tr>\n      <td>2</td>\n      <td>0.585000</td>\n      <td>0.726377</td>\n      <td>0.708872</td>\n    </tr>\n    <tr>\n      <td>3</td>\n      <td>0.379700</td>\n      <td>0.950688</td>\n      <td>0.706423</td>\n    </tr>\n    <tr>\n      <td>4</td>\n      <td>0.229800</td>\n      <td>1.408931</td>\n      <td>0.695381</td>\n    </tr>\n    <tr>\n      <td>5</td>\n      <td>0.139700</td>\n      <td>1.700401</td>\n      <td>0.701697</td>\n    </tr>\n  </tbody>\n</table><p>"
     },
     "metadata": {},
     "output_type": "display_data"
    },
    {
     "data": {
      "text/plain": "TrainOutput(global_step=16975, training_loss=0.42593114636608004, metrics={'train_runtime': 11333.8368, 'train_samples_per_second': 23.958, 'train_steps_per_second': 1.498, 'total_flos': 7.144710040467456e+16, 'train_loss': 0.42593114636608004, 'epoch': 5.0})"
     },
     "execution_count": 19,
     "metadata": {},
     "output_type": "execute_result"
    }
   ],
   "source": [
    "trainer = Trainer(\n",
    "    model=model,\n",
    "    args=training_args,\n",
    "    train_dataset=ds['train'],\n",
    "    eval_dataset=ds['test'],\n",
    "    compute_metrics=compute_metrics,\n",
    ")\n",
    "\n",
    "trainer.train()"
   ],
   "metadata": {
    "collapsed": false,
    "ExecuteTime": {
     "end_time": "2024-08-08T13:15:53.880319Z",
     "start_time": "2024-08-08T10:06:58.682801Z"
    }
   },
   "id": "cb6451d46ad54bbb",
   "execution_count": 19
  }
 ],
 "metadata": {
  "kernelspec": {
   "display_name": "Python 3",
   "language": "python",
   "name": "python3"
  },
  "language_info": {
   "codemirror_mode": {
    "name": "ipython",
    "version": 2
   },
   "file_extension": ".py",
   "mimetype": "text/x-python",
   "name": "python",
   "nbconvert_exporter": "python",
   "pygments_lexer": "ipython2",
   "version": "2.7.6"
  }
 },
 "nbformat": 4,
 "nbformat_minor": 5
}
