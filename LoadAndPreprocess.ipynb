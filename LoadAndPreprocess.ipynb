{
 "cells": [
  {
   "cell_type": "markdown",
   "id": "52b0089c-a634-435d-a266-01fbe8b0dfcb",
   "metadata": {},
   "source": [
    "## Financial Sentiment Analysis\n",
    "\n",
    "##### CS6120 - Natural Language Processing\n",
    "\n",
    "##### Anna Brunkhorst, Nader Lobandi, Ashish Magadum"
   ]
  },
  {
   "cell_type": "markdown",
   "id": "82b3b36f-b31e-40de-ad9d-278b9f66fffb",
   "metadata": {},
   "source": [
    "#### Importing Necessary Libraries"
   ]
  },
  {
   "cell_type": "code",
   "execution_count": 1,
   "id": "afd484e0-ffc4-44da-81e6-f9c2211890d1",
   "metadata": {},
   "outputs": [
    {
     "name": "stdout",
     "output_type": "stream",
     "text": [
      "Requirement already satisfied: datasets in c:\\users\\abrun\\appdata\\local\\programs\\python\\python312\\lib\\site-packages (2.20.0)\n",
      "Requirement already satisfied: filelock in c:\\users\\abrun\\appdata\\local\\programs\\python\\python312\\lib\\site-packages (from datasets) (3.15.4)\n",
      "Requirement already satisfied: numpy>=1.17 in c:\\users\\abrun\\appdata\\local\\programs\\python\\python312\\lib\\site-packages (from datasets) (1.26.4)\n",
      "Requirement already satisfied: pyarrow>=15.0.0 in c:\\users\\abrun\\appdata\\local\\programs\\python\\python312\\lib\\site-packages (from datasets) (16.1.0)\n",
      "Requirement already satisfied: pyarrow-hotfix in c:\\users\\abrun\\appdata\\local\\programs\\python\\python312\\lib\\site-packages (from datasets) (0.6)\n",
      "Requirement already satisfied: dill<0.3.9,>=0.3.0 in c:\\users\\abrun\\appdata\\local\\programs\\python\\python312\\lib\\site-packages (from datasets) (0.3.8)\n",
      "Requirement already satisfied: pandas in c:\\users\\abrun\\appdata\\local\\programs\\python\\python312\\lib\\site-packages (from datasets) (2.2.2)\n",
      "Requirement already satisfied: requests>=2.32.2 in c:\\users\\abrun\\appdata\\local\\programs\\python\\python312\\lib\\site-packages (from datasets) (2.32.3)\n",
      "Requirement already satisfied: tqdm>=4.66.3 in c:\\users\\abrun\\appdata\\roaming\\python\\python312\\site-packages (from datasets) (4.66.4)\n",
      "Requirement already satisfied: xxhash in c:\\users\\abrun\\appdata\\local\\programs\\python\\python312\\lib\\site-packages (from datasets) (3.4.1)\n",
      "Requirement already satisfied: multiprocess in c:\\users\\abrun\\appdata\\local\\programs\\python\\python312\\lib\\site-packages (from datasets) (0.70.16)\n",
      "Requirement already satisfied: fsspec<=2024.5.0,>=2023.1.0 in c:\\users\\abrun\\appdata\\local\\programs\\python\\python312\\lib\\site-packages (from fsspec[http]<=2024.5.0,>=2023.1.0->datasets) (2024.5.0)\n",
      "Requirement already satisfied: aiohttp in c:\\users\\abrun\\appdata\\local\\programs\\python\\python312\\lib\\site-packages (from datasets) (3.9.5)\n",
      "Requirement already satisfied: huggingface-hub>=0.21.2 in c:\\users\\abrun\\appdata\\local\\programs\\python\\python312\\lib\\site-packages (from datasets) (0.23.4)\n",
      "Requirement already satisfied: packaging in c:\\users\\abrun\\appdata\\local\\programs\\python\\python312\\lib\\site-packages (from datasets) (24.0)\n",
      "Requirement already satisfied: pyyaml>=5.1 in c:\\users\\abrun\\appdata\\local\\programs\\python\\python312\\lib\\site-packages (from datasets) (6.0.1)\n",
      "Requirement already satisfied: aiosignal>=1.1.2 in c:\\users\\abrun\\appdata\\local\\programs\\python\\python312\\lib\\site-packages (from aiohttp->datasets) (1.3.1)\n",
      "Requirement already satisfied: attrs>=17.3.0 in c:\\users\\abrun\\appdata\\local\\programs\\python\\python312\\lib\\site-packages (from aiohttp->datasets) (23.2.0)\n",
      "Requirement already satisfied: frozenlist>=1.1.1 in c:\\users\\abrun\\appdata\\local\\programs\\python\\python312\\lib\\site-packages (from aiohttp->datasets) (1.4.1)\n",
      "Requirement already satisfied: multidict<7.0,>=4.5 in c:\\users\\abrun\\appdata\\local\\programs\\python\\python312\\lib\\site-packages (from aiohttp->datasets) (6.0.5)\n",
      "Requirement already satisfied: yarl<2.0,>=1.0 in c:\\users\\abrun\\appdata\\local\\programs\\python\\python312\\lib\\site-packages (from aiohttp->datasets) (1.9.4)\n",
      "Requirement already satisfied: typing-extensions>=3.7.4.3 in c:\\users\\abrun\\appdata\\local\\programs\\python\\python312\\lib\\site-packages (from huggingface-hub>=0.21.2->datasets) (4.11.0)\n",
      "Requirement already satisfied: charset-normalizer<4,>=2 in c:\\users\\abrun\\appdata\\local\\programs\\python\\python312\\lib\\site-packages (from requests>=2.32.2->datasets) (3.3.2)\n",
      "Requirement already satisfied: idna<4,>=2.5 in c:\\users\\abrun\\appdata\\local\\programs\\python\\python312\\lib\\site-packages (from requests>=2.32.2->datasets) (3.7)\n",
      "Requirement already satisfied: urllib3<3,>=1.21.1 in c:\\users\\abrun\\appdata\\local\\programs\\python\\python312\\lib\\site-packages (from requests>=2.32.2->datasets) (2.2.1)\n",
      "Requirement already satisfied: certifi>=2017.4.17 in c:\\users\\abrun\\appdata\\local\\programs\\python\\python312\\lib\\site-packages (from requests>=2.32.2->datasets) (2024.2.2)\n",
      "Requirement already satisfied: colorama in c:\\users\\abrun\\appdata\\local\\programs\\python\\python312\\lib\\site-packages (from tqdm>=4.66.3->datasets) (0.4.6)\n",
      "Requirement already satisfied: python-dateutil>=2.8.2 in c:\\users\\abrun\\appdata\\local\\programs\\python\\python312\\lib\\site-packages (from pandas->datasets) (2.9.0.post0)\n",
      "Requirement already satisfied: pytz>=2020.1 in c:\\users\\abrun\\appdata\\local\\programs\\python\\python312\\lib\\site-packages (from pandas->datasets) (2024.1)\n",
      "Requirement already satisfied: tzdata>=2022.7 in c:\\users\\abrun\\appdata\\local\\programs\\python\\python312\\lib\\site-packages (from pandas->datasets) (2024.1)\n",
      "Requirement already satisfied: six>=1.5 in c:\\users\\abrun\\appdata\\local\\programs\\python\\python312\\lib\\site-packages (from python-dateutil>=2.8.2->pandas->datasets) (1.16.0)\n"
     ]
    },
    {
     "name": "stderr",
     "output_type": "stream",
     "text": [
      "\n",
      "[notice] A new release of pip is available: 24.0 -> 24.1.2\n",
      "[notice] To update, run: python.exe -m pip install --upgrade pip\n",
      "C:\\Users\\abrun\\AppData\\Roaming\\Python\\Python312\\site-packages\\tqdm\\auto.py:21: TqdmWarning: IProgress not found. Please update jupyter and ipywidgets. See https://ipywidgets.readthedocs.io/en/stable/user_install.html\n",
      "  from .autonotebook import tqdm as notebook_tqdm\n",
      "[nltk_data] Downloading package punkt to\n",
      "[nltk_data]     C:\\Users\\abrun\\AppData\\Roaming\\nltk_data...\n",
      "[nltk_data]   Package punkt is already up-to-date!\n",
      "[nltk_data] Downloading package stopwords to\n",
      "[nltk_data]     C:\\Users\\abrun\\AppData\\Roaming\\nltk_data...\n",
      "[nltk_data]   Package stopwords is already up-to-date!\n",
      "[nltk_data] Downloading package wordnet to\n",
      "[nltk_data]     C:\\Users\\abrun\\AppData\\Roaming\\nltk_data...\n",
      "[nltk_data]   Package wordnet is already up-to-date!\n"
     ]
    },
    {
     "data": {
      "text/plain": [
       "True"
      ]
     },
     "execution_count": 1,
     "metadata": {},
     "output_type": "execute_result"
    }
   ],
   "source": [
    "# Importing necessary libraries\n",
    "!pip install datasets\n",
    "from datasets import load_dataset\n",
    "import pandas as pd\n",
    "import numpy as np\n",
    "from nltk.corpus import stopwords\n",
    "from nltk.tokenize import word_tokenize\n",
    "from nltk.stem import WordNetLemmatizer\n",
    "import string\n",
    "\n",
    "# Download NLTK resources\n",
    "import nltk\n",
    "nltk.download('punkt')\n",
    "nltk.download('stopwords')\n",
    "nltk.download('wordnet')"
   ]
  },
  {
   "cell_type": "markdown",
   "id": "68ff156b-c563-4b2e-838e-1a3ef5b84e4b",
   "metadata": {},
   "source": [
    "#### Load Datasets"
   ]
  },
  {
   "cell_type": "code",
   "execution_count": 2,
   "id": "c75e80b4-7dac-4834-97a4-7e47e1743da4",
   "metadata": {},
   "outputs": [
    {
     "data": {
      "text/html": [
       "<div>\n",
       "<style scoped>\n",
       "    .dataframe tbody tr th:only-of-type {\n",
       "        vertical-align: middle;\n",
       "    }\n",
       "\n",
       "    .dataframe tbody tr th {\n",
       "        vertical-align: top;\n",
       "    }\n",
       "\n",
       "    .dataframe thead th {\n",
       "        text-align: right;\n",
       "    }\n",
       "</style>\n",
       "<table border=\"1\" class=\"dataframe\">\n",
       "  <thead>\n",
       "    <tr style=\"text-align: right;\">\n",
       "      <th></th>\n",
       "      <th>label</th>\n",
       "      <th>text</th>\n",
       "    </tr>\n",
       "  </thead>\n",
       "  <tbody>\n",
       "    <tr>\n",
       "      <th>0</th>\n",
       "      <td>0</td>\n",
       "      <td>Chinese-owned companies are aggressively expan...</td>\n",
       "    </tr>\n",
       "    <tr>\n",
       "      <th>1</th>\n",
       "      <td>0</td>\n",
       "      <td>Chinese cobalt producers have seemed unfazed b...</td>\n",
       "    </tr>\n",
       "    <tr>\n",
       "      <th>2</th>\n",
       "      <td>0</td>\n",
       "      <td>China's CMOC Group, which boosted its cobalt o...</td>\n",
       "    </tr>\n",
       "    <tr>\n",
       "      <th>3</th>\n",
       "      <td>0</td>\n",
       "      <td>CMOC is due to lift its market share of the gl...</td>\n",
       "    </tr>\n",
       "    <tr>\n",
       "      <th>4</th>\n",
       "      <td>1</td>\n",
       "      <td>Its Kisanfu mine in Democratic Republic of Con...</td>\n",
       "    </tr>\n",
       "  </tbody>\n",
       "</table>\n",
       "</div>"
      ],
      "text/plain": [
       "   label                                               text\n",
       "0      0  Chinese-owned companies are aggressively expan...\n",
       "1      0  Chinese cobalt producers have seemed unfazed b...\n",
       "2      0  China's CMOC Group, which boosted its cobalt o...\n",
       "3      0  CMOC is due to lift its market share of the gl...\n",
       "4      1  Its Kisanfu mine in Democratic Republic of Con..."
      ]
     },
     "execution_count": 2,
     "metadata": {},
     "output_type": "execute_result"
    }
   ],
   "source": [
    "# Load Yahoo-Finance-News-Sentences dataset from Huggingface\n",
    "ugursa_ds = load_dataset(\"ugursa/Yahoo-Finance-News-Sentences\")\n",
    "\n",
    "# Convert to Pandas DF for easier manipulation\n",
    "ugursa_df = pd.DataFrame(ugursa_ds['train'])\n",
    "\n",
    "# Check some data\n",
    "ugursa_df.head()"
   ]
  },
  {
   "cell_type": "markdown",
   "id": "24d97ec2-17c4-42c8-8891-a29a53f04689",
   "metadata": {},
   "source": [
    "#### Preprocess Data"
   ]
  },
  {
   "cell_type": "code",
   "execution_count": 3,
   "id": "bf93245f-d7cd-428a-b83b-26205eb30d97",
   "metadata": {},
   "outputs": [
    {
     "data": {
      "text/html": [
       "<div>\n",
       "<style scoped>\n",
       "    .dataframe tbody tr th:only-of-type {\n",
       "        vertical-align: middle;\n",
       "    }\n",
       "\n",
       "    .dataframe tbody tr th {\n",
       "        vertical-align: top;\n",
       "    }\n",
       "\n",
       "    .dataframe thead th {\n",
       "        text-align: right;\n",
       "    }\n",
       "</style>\n",
       "<table border=\"1\" class=\"dataframe\">\n",
       "  <thead>\n",
       "    <tr style=\"text-align: right;\">\n",
       "      <th></th>\n",
       "      <th>label</th>\n",
       "      <th>text</th>\n",
       "    </tr>\n",
       "  </thead>\n",
       "  <tbody>\n",
       "    <tr>\n",
       "      <th>0</th>\n",
       "      <td>0</td>\n",
       "      <td>chineseowned company aggressively expanding co...</td>\n",
       "    </tr>\n",
       "    <tr>\n",
       "      <th>1</th>\n",
       "      <td>0</td>\n",
       "      <td>chinese cobalt producer seemed unfazed oversup...</td>\n",
       "    </tr>\n",
       "    <tr>\n",
       "      <th>2</th>\n",
       "      <td>0</td>\n",
       "      <td>china cmoc group boosted cobalt output 144 fir...</td>\n",
       "    </tr>\n",
       "    <tr>\n",
       "      <th>3</th>\n",
       "      <td>0</td>\n",
       "      <td>cmoc due lift market share global mined cobalt...</td>\n",
       "    </tr>\n",
       "    <tr>\n",
       "      <th>4</th>\n",
       "      <td>1</td>\n",
       "      <td>kisanfu mine democratic republic congo drc par...</td>\n",
       "    </tr>\n",
       "  </tbody>\n",
       "</table>\n",
       "</div>"
      ],
      "text/plain": [
       "   label                                               text\n",
       "0      0  chineseowned company aggressively expanding co...\n",
       "1      0  chinese cobalt producer seemed unfazed oversup...\n",
       "2      0  china cmoc group boosted cobalt output 144 fir...\n",
       "3      0  cmoc due lift market share global mined cobalt...\n",
       "4      1  kisanfu mine democratic republic congo drc par..."
      ]
     },
     "execution_count": 3,
     "metadata": {},
     "output_type": "execute_result"
    }
   ],
   "source": [
    "# Function to preprocess text\n",
    "def preprocess_text(text):\n",
    "    # Convert text to lowercase\n",
    "    text = text.lower()\n",
    "    # Remove punctuation\n",
    "    text = text.translate(str.maketrans('', '', string.punctuation))\n",
    "    # Tokenize text\n",
    "    tokens = word_tokenize(text)\n",
    "    # Remove stopwords\n",
    "    tokens = [word for word in tokens if not word in stopwords.words('english')]\n",
    "    # Lemmatization\n",
    "    lemmatizer = WordNetLemmatizer()\n",
    "    tokens = [lemmatizer.lemmatize(word) for word in tokens]\n",
    "    return \" \".join(tokens)\n",
    "\n",
    "# Clone DF for preprocessing\n",
    "ugursa_df_pre = ugursa_df.copy()\n",
    "\n",
    "# Apply preprocessing to each text entry\n",
    "ugursa_df_pre['text'] = ugursa_df['text'].apply(preprocess_text)\n",
    "\n",
    "# Check some data\n",
    "ugursa_df_pre.head()"
   ]
  },
  {
   "cell_type": "markdown",
   "id": "cdae916a-204e-4a2d-92dc-cf2c2fe9b900",
   "metadata": {},
   "source": [
    "#### Vectorize Data with Pre-Trained Word2Vec Model\n",
    "\n",
    "Import necessary library"
   ]
  },
  {
   "cell_type": "code",
   "execution_count": 4,
   "id": "bc9df630-7af6-4b74-b84e-a50e26014315",
   "metadata": {},
   "outputs": [
    {
     "name": "stderr",
     "output_type": "stream",
     "text": [
      "\n",
      "[notice] A new release of pip is available: 24.0 -> 24.1.2\n",
      "[notice] To update, run: python.exe -m pip install --upgrade pip\n"
     ]
    },
    {
     "name": "stdout",
     "output_type": "stream",
     "text": [
      "Requirement already satisfied: gensim in c:\\users\\abrun\\appdata\\local\\programs\\python\\python312\\lib\\site-packages (4.3.2)\n",
      "Requirement already satisfied: numpy>=1.18.5 in c:\\users\\abrun\\appdata\\local\\programs\\python\\python312\\lib\\site-packages (from gensim) (1.26.4)\n",
      "Requirement already satisfied: scipy>=1.7.0 in c:\\users\\abrun\\appdata\\local\\programs\\python\\python312\\lib\\site-packages (from gensim) (1.12.0)\n",
      "Requirement already satisfied: smart-open>=1.8.1 in c:\\users\\abrun\\appdata\\local\\programs\\python\\python312\\lib\\site-packages (from gensim) (6.4.0)\n"
     ]
    }
   ],
   "source": [
    "!pip install gensim\n",
    "from gensim.models import Word2Vec\n",
    "from gensim.models import KeyedVectors"
   ]
  },
  {
   "cell_type": "markdown",
   "id": "e65dbff3-7d36-4066-8376-85e3fb8a4a2f",
   "metadata": {},
   "source": [
    "Convert data into lists of words compatible with Word2Vec"
   ]
  },
  {
   "cell_type": "code",
   "execution_count": 5,
   "id": "b8e05236-0fbb-40b7-bc43-f3e25cc5acee",
   "metadata": {},
   "outputs": [],
   "source": [
    "ugursa_df_pre['tokenized_text'] = ugursa_df_pre['text'].apply(lambda x: x.split())"
   ]
  },
  {
   "cell_type": "markdown",
   "id": "1c81feaa-be9d-4bf7-9290-3536f7647555",
   "metadata": {},
   "source": [
    "Load pre-trained model (must be downloaded in this folder to load)"
   ]
  },
  {
   "cell_type": "code",
   "execution_count": 7,
   "id": "39604d02-eb1d-4936-b742-31b2d0e2fbe7",
   "metadata": {},
   "outputs": [],
   "source": [
    "word_vectors = KeyedVectors.load_word2vec_format('GoogleNews-vectors-negative300.bin.gz', binary=True)"
   ]
  },
  {
   "cell_type": "markdown",
   "id": "d740c6d5-5de5-4f35-94de-589e3d139e80",
   "metadata": {},
   "source": [
    "Function to vectorize a sentence"
   ]
  },
  {
   "cell_type": "code",
   "execution_count": 8,
   "id": "d626d9a9-0e30-4d27-9704-f40fee0c6b3d",
   "metadata": {},
   "outputs": [],
   "source": [
    "def vectorize_sentence(tokens, model=word_vectors, vector_size=300):\n",
    "    word_vecs = [model[word] for word in tokens if word in model]\n",
    "    if len(word_vecs) == 0:\n",
    "        return np.zeros(vector_size)\n",
    "    else:\n",
    "        return np.mean(word_vecs, axis=0)"
   ]
  },
  {
   "cell_type": "markdown",
   "id": "77841e2b-8a2b-4b40-a125-15cb2ceedd3d",
   "metadata": {},
   "source": [
    "Apply vectorization to each entry"
   ]
  },
  {
   "cell_type": "code",
   "execution_count": 9,
   "id": "1000e6dc-4e17-4356-93d3-26531547682b",
   "metadata": {},
   "outputs": [],
   "source": [
    "ugursa_df_pre['wordvec'] = ugursa_df_pre['tokenized_text'].apply(vectorize_sentence)"
   ]
  },
  {
   "cell_type": "markdown",
   "id": "1d0d42f8-3792-4931-bb61-8c1666fcab6c",
   "metadata": {},
   "source": [
    "Print head again to check data"
   ]
  },
  {
   "cell_type": "code",
   "execution_count": 10,
   "id": "9c4e81c1-1613-4838-a44f-fa5cab94abff",
   "metadata": {},
   "outputs": [
    {
     "data": {
      "text/html": [
       "<div>\n",
       "<style scoped>\n",
       "    .dataframe tbody tr th:only-of-type {\n",
       "        vertical-align: middle;\n",
       "    }\n",
       "\n",
       "    .dataframe tbody tr th {\n",
       "        vertical-align: top;\n",
       "    }\n",
       "\n",
       "    .dataframe thead th {\n",
       "        text-align: right;\n",
       "    }\n",
       "</style>\n",
       "<table border=\"1\" class=\"dataframe\">\n",
       "  <thead>\n",
       "    <tr style=\"text-align: right;\">\n",
       "      <th></th>\n",
       "      <th>label</th>\n",
       "      <th>text</th>\n",
       "      <th>tokenized_text</th>\n",
       "      <th>wordvec</th>\n",
       "    </tr>\n",
       "  </thead>\n",
       "  <tbody>\n",
       "    <tr>\n",
       "      <th>0</th>\n",
       "      <td>0</td>\n",
       "      <td>chineseowned company aggressively expanding co...</td>\n",
       "      <td>[chineseowned, company, aggressively, expandin...</td>\n",
       "      <td>[-0.024353027, 0.045820758, 0.016967773, 0.040...</td>\n",
       "    </tr>\n",
       "    <tr>\n",
       "      <th>1</th>\n",
       "      <td>0</td>\n",
       "      <td>chinese cobalt producer seemed unfazed oversup...</td>\n",
       "      <td>[chinese, cobalt, producer, seemed, unfazed, o...</td>\n",
       "      <td>[-0.054423742, 0.0140860425, -0.028483799, 0.0...</td>\n",
       "    </tr>\n",
       "    <tr>\n",
       "      <th>2</th>\n",
       "      <td>0</td>\n",
       "      <td>china cmoc group boosted cobalt output 144 fir...</td>\n",
       "      <td>[china, cmoc, group, boosted, cobalt, output, ...</td>\n",
       "      <td>[-0.072459504, 0.04049862, 0.0203642, 0.070950...</td>\n",
       "    </tr>\n",
       "    <tr>\n",
       "      <th>3</th>\n",
       "      <td>0</td>\n",
       "      <td>cmoc due lift market share global mined cobalt...</td>\n",
       "      <td>[cmoc, due, lift, market, share, global, mined...</td>\n",
       "      <td>[-0.020656586, -0.015205383, 0.00045776367, 0....</td>\n",
       "    </tr>\n",
       "    <tr>\n",
       "      <th>4</th>\n",
       "      <td>1</td>\n",
       "      <td>kisanfu mine democratic republic congo drc par...</td>\n",
       "      <td>[kisanfu, mine, democratic, republic, congo, d...</td>\n",
       "      <td>[-0.057576496, -0.025512695, 0.17758179, 0.144...</td>\n",
       "    </tr>\n",
       "  </tbody>\n",
       "</table>\n",
       "</div>"
      ],
      "text/plain": [
       "   label                                               text  \\\n",
       "0      0  chineseowned company aggressively expanding co...   \n",
       "1      0  chinese cobalt producer seemed unfazed oversup...   \n",
       "2      0  china cmoc group boosted cobalt output 144 fir...   \n",
       "3      0  cmoc due lift market share global mined cobalt...   \n",
       "4      1  kisanfu mine democratic republic congo drc par...   \n",
       "\n",
       "                                      tokenized_text  \\\n",
       "0  [chineseowned, company, aggressively, expandin...   \n",
       "1  [chinese, cobalt, producer, seemed, unfazed, o...   \n",
       "2  [china, cmoc, group, boosted, cobalt, output, ...   \n",
       "3  [cmoc, due, lift, market, share, global, mined...   \n",
       "4  [kisanfu, mine, democratic, republic, congo, d...   \n",
       "\n",
       "                                             wordvec  \n",
       "0  [-0.024353027, 0.045820758, 0.016967773, 0.040...  \n",
       "1  [-0.054423742, 0.0140860425, -0.028483799, 0.0...  \n",
       "2  [-0.072459504, 0.04049862, 0.0203642, 0.070950...  \n",
       "3  [-0.020656586, -0.015205383, 0.00045776367, 0....  \n",
       "4  [-0.057576496, -0.025512695, 0.17758179, 0.144...  "
      ]
     },
     "execution_count": 10,
     "metadata": {},
     "output_type": "execute_result"
    }
   ],
   "source": [
    "ugursa_df_pre.head()"
   ]
  },
  {
   "cell_type": "code",
   "execution_count": null,
   "id": "399aaf60-fe99-44ea-9d19-361be8057f34",
   "metadata": {},
   "outputs": [],
   "source": []
  }
 ],
 "metadata": {
  "kernelspec": {
   "display_name": "Python 3 (ipykernel)",
   "language": "python",
   "name": "python3"
  },
  "language_info": {
   "codemirror_mode": {
    "name": "ipython",
    "version": 3
   },
   "file_extension": ".py",
   "mimetype": "text/x-python",
   "name": "python",
   "nbconvert_exporter": "python",
   "pygments_lexer": "ipython3",
   "version": "3.12.1"
  }
 },
 "nbformat": 4,
 "nbformat_minor": 5
}
