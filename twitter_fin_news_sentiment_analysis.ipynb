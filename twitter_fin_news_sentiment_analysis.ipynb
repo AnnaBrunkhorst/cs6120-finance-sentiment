{
 "cells": [
  {
   "cell_type": "code",
   "execution_count": 60,
   "id": "initial_id",
   "metadata": {
    "collapsed": true,
    "ExecuteTime": {
     "end_time": "2024-07-08T09:23:31.744409Z",
     "start_time": "2024-07-08T09:23:30.924066Z"
    }
   },
   "outputs": [],
   "source": [
    "import re\n",
    "import requests\n",
    "import pandas as pd\n",
    "from selenium import webdriver\n",
    "from bs4 import BeautifulSoup\n",
    "\n",
    "splits = {'train': 'sent_train.csv', 'validation': 'sent_valid.csv'}\n",
    "df = pd.read_csv(\"hf://datasets/zeroshot/twitter-financial-news-sentiment/\" + splits[\"train\"])"
   ]
  },
  {
   "cell_type": "code",
   "outputs": [
    {
     "data": {
      "text/plain": "                                                   text  label\n0     $BYND - JPMorgan reels in expectations on Beyo...      0\n1     $CCL $RCL - Nomura points to bookings weakness...      0\n2     $CX - Cemex cut at Credit Suisse, J.P. Morgan ...      0\n3     $ESS: BTIG Research cuts to Neutral https://t....      0\n4     $FNKO - Funko slides after Piper Jaffray PT cu...      0\n...                                                 ...    ...\n9538  The Week's Gainers and Losers on the Stoxx Eur...      2\n9539  Tupperware Brands among consumer gainers; Unil...      2\n9540  vTv Therapeutics leads healthcare gainers; Myo...      2\n9541    WORK, XPO, PYX and AMKR among after hour movers      2\n9542             YNDX, I, QD and OESX among tech movers      2\n\n[9543 rows x 2 columns]",
      "text/html": "<div>\n<style scoped>\n    .dataframe tbody tr th:only-of-type {\n        vertical-align: middle;\n    }\n\n    .dataframe tbody tr th {\n        vertical-align: top;\n    }\n\n    .dataframe thead th {\n        text-align: right;\n    }\n</style>\n<table border=\"1\" class=\"dataframe\">\n  <thead>\n    <tr style=\"text-align: right;\">\n      <th></th>\n      <th>text</th>\n      <th>label</th>\n    </tr>\n  </thead>\n  <tbody>\n    <tr>\n      <th>0</th>\n      <td>$BYND - JPMorgan reels in expectations on Beyo...</td>\n      <td>0</td>\n    </tr>\n    <tr>\n      <th>1</th>\n      <td>$CCL $RCL - Nomura points to bookings weakness...</td>\n      <td>0</td>\n    </tr>\n    <tr>\n      <th>2</th>\n      <td>$CX - Cemex cut at Credit Suisse, J.P. Morgan ...</td>\n      <td>0</td>\n    </tr>\n    <tr>\n      <th>3</th>\n      <td>$ESS: BTIG Research cuts to Neutral https://t....</td>\n      <td>0</td>\n    </tr>\n    <tr>\n      <th>4</th>\n      <td>$FNKO - Funko slides after Piper Jaffray PT cu...</td>\n      <td>0</td>\n    </tr>\n    <tr>\n      <th>...</th>\n      <td>...</td>\n      <td>...</td>\n    </tr>\n    <tr>\n      <th>9538</th>\n      <td>The Week's Gainers and Losers on the Stoxx Eur...</td>\n      <td>2</td>\n    </tr>\n    <tr>\n      <th>9539</th>\n      <td>Tupperware Brands among consumer gainers; Unil...</td>\n      <td>2</td>\n    </tr>\n    <tr>\n      <th>9540</th>\n      <td>vTv Therapeutics leads healthcare gainers; Myo...</td>\n      <td>2</td>\n    </tr>\n    <tr>\n      <th>9541</th>\n      <td>WORK, XPO, PYX and AMKR among after hour movers</td>\n      <td>2</td>\n    </tr>\n    <tr>\n      <th>9542</th>\n      <td>YNDX, I, QD and OESX among tech movers</td>\n      <td>2</td>\n    </tr>\n  </tbody>\n</table>\n<p>9543 rows × 2 columns</p>\n</div>"
     },
     "execution_count": 55,
     "metadata": {},
     "output_type": "execute_result"
    }
   ],
   "source": [
    "df"
   ],
   "metadata": {
    "collapsed": false,
    "ExecuteTime": {
     "end_time": "2024-07-08T09:13:29.602317Z",
     "start_time": "2024-07-08T09:13:29.591765Z"
    }
   },
   "id": "322bcddd792f1330",
   "execution_count": 55
  },
  {
   "cell_type": "code",
   "outputs": [],
   "source": [
    "TICKER_PATTERN = re.compile(r'\\$[A-Z]+')\n",
    "URL_PATTERN = re.compile(r'(https:\\/\\/[^\\s]+)')\n",
    "\n",
    "def row_parser(row: str) -> dict:\n",
    "    tickers = re.findall(TICKER_PATTERN, row)\n",
    "    url = re.findall(URL_PATTERN, row)\n",
    "    return {'url': '' if len(url) == 0 else url[0], 'tickers': tickers}\n",
    "\n",
    "parsed_list = []\n",
    "for row in df.text:\n",
    "    parsed_list.append(row_parser(row))\n",
    "parsed_df = pd.DataFrame(parsed_list)"
   ],
   "metadata": {
    "collapsed": false,
    "ExecuteTime": {
     "end_time": "2024-07-08T09:17:58.461235Z",
     "start_time": "2024-07-08T09:17:58.304360Z"
    }
   },
   "id": "f1f1988997fc784e",
   "execution_count": 56
  },
  {
   "cell_type": "code",
   "outputs": [
    {
     "data": {
      "text/plain": "                                                   text  label  \\\n0     $BYND - JPMorgan reels in expectations on Beyo...      0   \n1     $CCL $RCL - Nomura points to bookings weakness...      0   \n2     $CX - Cemex cut at Credit Suisse, J.P. Morgan ...      0   \n3     $ESS: BTIG Research cuts to Neutral https://t....      0   \n4     $FNKO - Funko slides after Piper Jaffray PT cu...      0   \n...                                                 ...    ...   \n9538  The Week's Gainers and Losers on the Stoxx Eur...      2   \n9539  Tupperware Brands among consumer gainers; Unil...      2   \n9540  vTv Therapeutics leads healthcare gainers; Myo...      2   \n9541    WORK, XPO, PYX and AMKR among after hour movers      2   \n9542             YNDX, I, QD and OESX among tech movers      2   \n\n                          url       tickers  \n0     https://t.co/bd0xbFGjkT       [$BYND]  \n1     https://t.co/yGjpT2ReD3  [$CCL, $RCL]  \n2     https://t.co/KN1g4AWFIb         [$CX]  \n3     https://t.co/MCyfTsXc2N        [$ESS]  \n4     https://t.co/z37IJmCQzB       [$FNKO]  \n...                       ...           ...  \n9538  https://t.co/iK5MO4NhQq            []  \n9539                                     []  \n9540                                     []  \n9541                                     []  \n9542                                     []  \n\n[9543 rows x 4 columns]",
      "text/html": "<div>\n<style scoped>\n    .dataframe tbody tr th:only-of-type {\n        vertical-align: middle;\n    }\n\n    .dataframe tbody tr th {\n        vertical-align: top;\n    }\n\n    .dataframe thead th {\n        text-align: right;\n    }\n</style>\n<table border=\"1\" class=\"dataframe\">\n  <thead>\n    <tr style=\"text-align: right;\">\n      <th></th>\n      <th>text</th>\n      <th>label</th>\n      <th>url</th>\n      <th>tickers</th>\n    </tr>\n  </thead>\n  <tbody>\n    <tr>\n      <th>0</th>\n      <td>$BYND - JPMorgan reels in expectations on Beyo...</td>\n      <td>0</td>\n      <td>https://t.co/bd0xbFGjkT</td>\n      <td>[$BYND]</td>\n    </tr>\n    <tr>\n      <th>1</th>\n      <td>$CCL $RCL - Nomura points to bookings weakness...</td>\n      <td>0</td>\n      <td>https://t.co/yGjpT2ReD3</td>\n      <td>[$CCL, $RCL]</td>\n    </tr>\n    <tr>\n      <th>2</th>\n      <td>$CX - Cemex cut at Credit Suisse, J.P. Morgan ...</td>\n      <td>0</td>\n      <td>https://t.co/KN1g4AWFIb</td>\n      <td>[$CX]</td>\n    </tr>\n    <tr>\n      <th>3</th>\n      <td>$ESS: BTIG Research cuts to Neutral https://t....</td>\n      <td>0</td>\n      <td>https://t.co/MCyfTsXc2N</td>\n      <td>[$ESS]</td>\n    </tr>\n    <tr>\n      <th>4</th>\n      <td>$FNKO - Funko slides after Piper Jaffray PT cu...</td>\n      <td>0</td>\n      <td>https://t.co/z37IJmCQzB</td>\n      <td>[$FNKO]</td>\n    </tr>\n    <tr>\n      <th>...</th>\n      <td>...</td>\n      <td>...</td>\n      <td>...</td>\n      <td>...</td>\n    </tr>\n    <tr>\n      <th>9538</th>\n      <td>The Week's Gainers and Losers on the Stoxx Eur...</td>\n      <td>2</td>\n      <td>https://t.co/iK5MO4NhQq</td>\n      <td>[]</td>\n    </tr>\n    <tr>\n      <th>9539</th>\n      <td>Tupperware Brands among consumer gainers; Unil...</td>\n      <td>2</td>\n      <td></td>\n      <td>[]</td>\n    </tr>\n    <tr>\n      <th>9540</th>\n      <td>vTv Therapeutics leads healthcare gainers; Myo...</td>\n      <td>2</td>\n      <td></td>\n      <td>[]</td>\n    </tr>\n    <tr>\n      <th>9541</th>\n      <td>WORK, XPO, PYX and AMKR among after hour movers</td>\n      <td>2</td>\n      <td></td>\n      <td>[]</td>\n    </tr>\n    <tr>\n      <th>9542</th>\n      <td>YNDX, I, QD and OESX among tech movers</td>\n      <td>2</td>\n      <td></td>\n      <td>[]</td>\n    </tr>\n  </tbody>\n</table>\n<p>9543 rows × 4 columns</p>\n</div>"
     },
     "execution_count": 61,
     "metadata": {},
     "output_type": "execute_result"
    }
   ],
   "source": [
    "df = df.join(parsed_df)\n",
    "df"
   ],
   "metadata": {
    "collapsed": false,
    "ExecuteTime": {
     "end_time": "2024-07-08T09:23:35.655033Z",
     "start_time": "2024-07-08T09:23:35.640160Z"
    }
   },
   "id": "7c1e971a45c25881",
   "execution_count": 61
  },
  {
   "cell_type": "code",
   "outputs": [],
   "source": [
    "headers = {\n",
    "    'Host' : 'e-com.secure.force.com',\n",
    "    'Connection' : 'keep-alive',\n",
    "    'Upgrade-Insecure-Requests' : '1',\n",
    "    'User-Agent' : 'Mozilla/5.0 (Windows NT 6.1; WOW64)',\n",
    "    'Accept' : 'text/html,application/xhtml+xml,application/xml;q=0.9,image/webp,*/*;q=0.8',\n",
    "    'Accept-Encoding' : 'gzip, deflate, sdch',\n",
    "    'Accept-Language' : 'en-US,en;q=0.8'\n",
    "}"
   ],
   "metadata": {
    "collapsed": false,
    "ExecuteTime": {
     "end_time": "2024-07-08T05:59:29.673406Z",
     "start_time": "2024-07-08T05:59:29.668348Z"
    }
   },
   "id": "c663a8baae2709e1",
   "execution_count": 12
  },
  {
   "cell_type": "code",
   "outputs": [],
   "source": [
    "driver = webdriver.Chrome()\n",
    "body_text_list = []\n",
    "for url in df['url']:\n",
    "    if len(url):\n",
    "        driver.get(url)\n",
    "        soup = BeautifulSoup(driver.page_source)\n",
    "        body_text_list.append({\"article\": soup.text})\n",
    "    else:\n",
    "        body_text_list.append({\"article\": \"\"})   \n",
    "driver.close()"
   ],
   "metadata": {
    "collapsed": false
   },
   "id": "8af7113dc77a6f46",
   "execution_count": null
  }
 ],
 "metadata": {
  "kernelspec": {
   "display_name": "Python 3",
   "language": "python",
   "name": "python3"
  },
  "language_info": {
   "codemirror_mode": {
    "name": "ipython",
    "version": 2
   },
   "file_extension": ".py",
   "mimetype": "text/x-python",
   "name": "python",
   "nbconvert_exporter": "python",
   "pygments_lexer": "ipython2",
   "version": "2.7.6"
  }
 },
 "nbformat": 4,
 "nbformat_minor": 5
}
