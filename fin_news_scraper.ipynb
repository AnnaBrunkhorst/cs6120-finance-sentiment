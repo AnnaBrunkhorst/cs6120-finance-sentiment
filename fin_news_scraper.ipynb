{
 "cells": [
  {
   "cell_type": "code",
   "execution_count": 1,
   "id": "initial_id",
   "metadata": {
    "collapsed": true,
    "ExecuteTime": {
     "end_time": "2024-07-23T22:12:39.830526Z",
     "start_time": "2024-07-23T22:12:35.890126Z"
    }
   },
   "outputs": [],
   "source": [
    "import re\n",
    "import pandas as pd\n",
    "from selenium import webdriver\n",
    "from selenium.webdriver.chrome.options import Options\n",
    "from bs4 import BeautifulSoup\n",
    "\n",
    "splits = {'train': 'sent_train.csv', 'validation': 'sent_valid.csv'}\n",
    "df = pd.read_csv(\"hf://datasets/zeroshot/twitter-financial-news-sentiment/\" + splits[\"train\"])"
   ]
  },
  {
   "cell_type": "code",
   "outputs": [
    {
     "data": {
      "text/plain": "                                                   text  label\n0     $BYND - JPMorgan reels in expectations on Beyo...      0\n1     $CCL $RCL - Nomura points to bookings weakness...      0\n2     $CX - Cemex cut at Credit Suisse, J.P. Morgan ...      0\n3     $ESS: BTIG Research cuts to Neutral https://t....      0\n4     $FNKO - Funko slides after Piper Jaffray PT cu...      0\n...                                                 ...    ...\n9538  The Week's Gainers and Losers on the Stoxx Eur...      2\n9539  Tupperware Brands among consumer gainers; Unil...      2\n9540  vTv Therapeutics leads healthcare gainers; Myo...      2\n9541    WORK, XPO, PYX and AMKR among after hour movers      2\n9542             YNDX, I, QD and OESX among tech movers      2\n\n[9543 rows x 2 columns]",
      "text/html": "<div>\n<style scoped>\n    .dataframe tbody tr th:only-of-type {\n        vertical-align: middle;\n    }\n\n    .dataframe tbody tr th {\n        vertical-align: top;\n    }\n\n    .dataframe thead th {\n        text-align: right;\n    }\n</style>\n<table border=\"1\" class=\"dataframe\">\n  <thead>\n    <tr style=\"text-align: right;\">\n      <th></th>\n      <th>text</th>\n      <th>label</th>\n    </tr>\n  </thead>\n  <tbody>\n    <tr>\n      <th>0</th>\n      <td>$BYND - JPMorgan reels in expectations on Beyo...</td>\n      <td>0</td>\n    </tr>\n    <tr>\n      <th>1</th>\n      <td>$CCL $RCL - Nomura points to bookings weakness...</td>\n      <td>0</td>\n    </tr>\n    <tr>\n      <th>2</th>\n      <td>$CX - Cemex cut at Credit Suisse, J.P. Morgan ...</td>\n      <td>0</td>\n    </tr>\n    <tr>\n      <th>3</th>\n      <td>$ESS: BTIG Research cuts to Neutral https://t....</td>\n      <td>0</td>\n    </tr>\n    <tr>\n      <th>4</th>\n      <td>$FNKO - Funko slides after Piper Jaffray PT cu...</td>\n      <td>0</td>\n    </tr>\n    <tr>\n      <th>...</th>\n      <td>...</td>\n      <td>...</td>\n    </tr>\n    <tr>\n      <th>9538</th>\n      <td>The Week's Gainers and Losers on the Stoxx Eur...</td>\n      <td>2</td>\n    </tr>\n    <tr>\n      <th>9539</th>\n      <td>Tupperware Brands among consumer gainers; Unil...</td>\n      <td>2</td>\n    </tr>\n    <tr>\n      <th>9540</th>\n      <td>vTv Therapeutics leads healthcare gainers; Myo...</td>\n      <td>2</td>\n    </tr>\n    <tr>\n      <th>9541</th>\n      <td>WORK, XPO, PYX and AMKR among after hour movers</td>\n      <td>2</td>\n    </tr>\n    <tr>\n      <th>9542</th>\n      <td>YNDX, I, QD and OESX among tech movers</td>\n      <td>2</td>\n    </tr>\n  </tbody>\n</table>\n<p>9543 rows × 2 columns</p>\n</div>"
     },
     "execution_count": 2,
     "metadata": {},
     "output_type": "execute_result"
    }
   ],
   "source": [
    "df"
   ],
   "metadata": {
    "collapsed": false,
    "ExecuteTime": {
     "end_time": "2024-07-23T22:12:39.848942Z",
     "start_time": "2024-07-23T22:12:39.833781Z"
    }
   },
   "id": "322bcddd792f1330",
   "execution_count": 2
  },
  {
   "cell_type": "code",
   "outputs": [],
   "source": [
    "TICKER_PATTERN = re.compile(r'\\$[A-Z]+')\n",
    "URL_PATTERN = re.compile(r'(https:\\/\\/[^\\s]+)')\n",
    "\n",
    "\n",
    "def row_parser(row: str) -> dict:\n",
    "    tickers = re.findall(TICKER_PATTERN, row)\n",
    "    url = re.findall(URL_PATTERN, row)\n",
    "    return {'url': '' if len(url) == 0 else url[0], 'tickers': tickers}\n",
    "\n",
    "\n",
    "parsed_list = []\n",
    "for row in df.text:\n",
    "    parsed_list.append(row_parser(row))\n",
    "parsed_df = pd.DataFrame(parsed_list)"
   ],
   "metadata": {
    "collapsed": false,
    "ExecuteTime": {
     "end_time": "2024-07-23T22:13:20.241842Z",
     "start_time": "2024-07-23T22:13:20.194131Z"
    }
   },
   "id": "f1f1988997fc784e",
   "execution_count": 3
  },
  {
   "cell_type": "code",
   "outputs": [
    {
     "data": {
      "text/plain": "                                                   text  label  \\\n0     $BYND - JPMorgan reels in expectations on Beyo...      0   \n1     $CCL $RCL - Nomura points to bookings weakness...      0   \n2     $CX - Cemex cut at Credit Suisse, J.P. Morgan ...      0   \n3     $ESS: BTIG Research cuts to Neutral https://t....      0   \n4     $FNKO - Funko slides after Piper Jaffray PT cu...      0   \n...                                                 ...    ...   \n9538  The Week's Gainers and Losers on the Stoxx Eur...      2   \n9539  Tupperware Brands among consumer gainers; Unil...      2   \n9540  vTv Therapeutics leads healthcare gainers; Myo...      2   \n9541    WORK, XPO, PYX and AMKR among after hour movers      2   \n9542             YNDX, I, QD and OESX among tech movers      2   \n\n                          url       tickers  \n0     https://t.co/bd0xbFGjkT       [$BYND]  \n1     https://t.co/yGjpT2ReD3  [$CCL, $RCL]  \n2     https://t.co/KN1g4AWFIb         [$CX]  \n3     https://t.co/MCyfTsXc2N        [$ESS]  \n4     https://t.co/z37IJmCQzB       [$FNKO]  \n...                       ...           ...  \n9538  https://t.co/iK5MO4NhQq            []  \n9539                                     []  \n9540                                     []  \n9541                                     []  \n9542                                     []  \n\n[9543 rows x 4 columns]",
      "text/html": "<div>\n<style scoped>\n    .dataframe tbody tr th:only-of-type {\n        vertical-align: middle;\n    }\n\n    .dataframe tbody tr th {\n        vertical-align: top;\n    }\n\n    .dataframe thead th {\n        text-align: right;\n    }\n</style>\n<table border=\"1\" class=\"dataframe\">\n  <thead>\n    <tr style=\"text-align: right;\">\n      <th></th>\n      <th>text</th>\n      <th>label</th>\n      <th>url</th>\n      <th>tickers</th>\n    </tr>\n  </thead>\n  <tbody>\n    <tr>\n      <th>0</th>\n      <td>$BYND - JPMorgan reels in expectations on Beyo...</td>\n      <td>0</td>\n      <td>https://t.co/bd0xbFGjkT</td>\n      <td>[$BYND]</td>\n    </tr>\n    <tr>\n      <th>1</th>\n      <td>$CCL $RCL - Nomura points to bookings weakness...</td>\n      <td>0</td>\n      <td>https://t.co/yGjpT2ReD3</td>\n      <td>[$CCL, $RCL]</td>\n    </tr>\n    <tr>\n      <th>2</th>\n      <td>$CX - Cemex cut at Credit Suisse, J.P. Morgan ...</td>\n      <td>0</td>\n      <td>https://t.co/KN1g4AWFIb</td>\n      <td>[$CX]</td>\n    </tr>\n    <tr>\n      <th>3</th>\n      <td>$ESS: BTIG Research cuts to Neutral https://t....</td>\n      <td>0</td>\n      <td>https://t.co/MCyfTsXc2N</td>\n      <td>[$ESS]</td>\n    </tr>\n    <tr>\n      <th>4</th>\n      <td>$FNKO - Funko slides after Piper Jaffray PT cu...</td>\n      <td>0</td>\n      <td>https://t.co/z37IJmCQzB</td>\n      <td>[$FNKO]</td>\n    </tr>\n    <tr>\n      <th>...</th>\n      <td>...</td>\n      <td>...</td>\n      <td>...</td>\n      <td>...</td>\n    </tr>\n    <tr>\n      <th>9538</th>\n      <td>The Week's Gainers and Losers on the Stoxx Eur...</td>\n      <td>2</td>\n      <td>https://t.co/iK5MO4NhQq</td>\n      <td>[]</td>\n    </tr>\n    <tr>\n      <th>9539</th>\n      <td>Tupperware Brands among consumer gainers; Unil...</td>\n      <td>2</td>\n      <td></td>\n      <td>[]</td>\n    </tr>\n    <tr>\n      <th>9540</th>\n      <td>vTv Therapeutics leads healthcare gainers; Myo...</td>\n      <td>2</td>\n      <td></td>\n      <td>[]</td>\n    </tr>\n    <tr>\n      <th>9541</th>\n      <td>WORK, XPO, PYX and AMKR among after hour movers</td>\n      <td>2</td>\n      <td></td>\n      <td>[]</td>\n    </tr>\n    <tr>\n      <th>9542</th>\n      <td>YNDX, I, QD and OESX among tech movers</td>\n      <td>2</td>\n      <td></td>\n      <td>[]</td>\n    </tr>\n  </tbody>\n</table>\n<p>9543 rows × 4 columns</p>\n</div>"
     },
     "execution_count": 4,
     "metadata": {},
     "output_type": "execute_result"
    }
   ],
   "source": [
    "df = df.join(parsed_df)\n",
    "df"
   ],
   "metadata": {
    "collapsed": false,
    "ExecuteTime": {
     "end_time": "2024-07-23T22:13:21.983163Z",
     "start_time": "2024-07-23T22:13:21.968434Z"
    }
   },
   "id": "7c1e971a45c25881",
   "execution_count": 4
  },
  {
   "cell_type": "code",
   "outputs": [],
   "source": [
    "df.to_csv(\"./export/news_data_urls.csv\")"
   ],
   "metadata": {
    "collapsed": false,
    "ExecuteTime": {
     "end_time": "2024-07-16T23:39:32.605299Z",
     "start_time": "2024-07-16T23:39:32.550263Z"
    }
   },
   "id": "5c96e1eb9e1df490",
   "execution_count": 5
  },
  {
   "cell_type": "code",
   "outputs": [],
   "source": [
    "def init_chrome_driver():\n",
    "    options = Options()\n",
    "    options.add_argument('--headless=new')\n",
    "    driver = webdriver.Chrome(options=options)\n",
    "    return driver\n",
    "\n",
    "\n",
    "try:\n",
    "    driver = init_chrome_driver()\n",
    "except:\n",
    "    print(\"Error Initializing driver\")\n",
    "    pass\n",
    "\n",
    "body_text_list = []"
   ],
   "metadata": {
    "collapsed": false,
    "ExecuteTime": {
     "end_time": "2024-07-18T07:33:43.871729Z",
     "start_time": "2024-07-18T07:33:40.483557Z"
    }
   },
   "id": "9b96070dc0050bed",
   "execution_count": 22
  },
  {
   "cell_type": "code",
   "outputs": [],
   "source": [
    "headers = {\n",
    "    'User-Agent': \"Mozilla/5.0 (Macintosh; Intel Mac OS X 10_14_1) AppleWebKit/537.36 (KHTML, like Gecko) Chrome/73.0.3683.75 Safari/537.36\",\n",
    "    'Accept-Language': 'en-US,en;h=0.9'}\n",
    "\n",
    "# first 500\n",
    "url_1000 = df['url'][:1000]\n",
    "l = len(url_1000)\n",
    "print(f'Total urls to process: {l}')\n",
    "for i in range(l):\n",
    "    url = url_1000[i]\n",
    "    if len(url):\n",
    "        # try:\n",
    "        driver.get(url)\n",
    "        soup = BeautifulSoup(driver.page_source)\n",
    "        body_text_list.append({\"article\": soup.text})\n",
    "        # except:\n",
    "        #     print(\"Error\")\n",
    "        #     pass\n",
    "    else:\n",
    "        body_text_list.append({\"article\": \"\"})\n",
    "\n",
    "    if i % 50 == 0:\n",
    "        print(f'{i}/{l}')\n",
    "\n",
    "    if i % 500 == 0:\n",
    "        driver.close()\n",
    "        try:\n",
    "            driver = init_chrome_driver()\n",
    "        except:\n",
    "            print(\"Driver reinit failed\")\n",
    "driver.close()\n",
    "print(\"Done!\")"
   ],
   "metadata": {
    "collapsed": false
   },
   "id": "8af7113dc77a6f46",
   "execution_count": null
  }
 ],
 "metadata": {
  "kernelspec": {
   "display_name": "Python 3",
   "language": "python",
   "name": "python3"
  },
  "language_info": {
   "codemirror_mode": {
    "name": "ipython",
    "version": 2
   },
   "file_extension": ".py",
   "mimetype": "text/x-python",
   "name": "python",
   "nbconvert_exporter": "python",
   "pygments_lexer": "ipython2",
   "version": "2.7.6"
  }
 },
 "nbformat": 4,
 "nbformat_minor": 5
}
