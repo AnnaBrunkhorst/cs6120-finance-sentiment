{
 "cells": [
  {
   "cell_type": "markdown",
   "id": "d5f30f5b-0b5a-48bc-996f-1279d41cf352",
   "metadata": {},
   "source": [
    ":)"
   ]
  },
  {
   "cell_type": "code",
   "execution_count": 1,
   "id": "a9de0878-e22a-4c37-b1d4-7ac9da01a1fa",
   "metadata": {},
   "outputs": [
    {
     "name": "stderr",
     "output_type": "stream",
     "text": [
      "C:\\Users\\abrun\\AppData\\Local\\Programs\\Python\\Python312\\Lib\\site-packages\\threadpoolctl.py:1214: RuntimeWarning: \n",
      "Found Intel OpenMP ('libiomp') and LLVM OpenMP ('libomp') loaded at\n",
      "the same time. Both libraries are known to be incompatible and this\n",
      "can cause random crashes or deadlocks on Linux when loaded in the\n",
      "same Python program.\n",
      "Using threadpoolctl may cause crashes or deadlocks. For more\n",
      "information and possible workarounds, please see\n",
      "    https://github.com/joblib/threadpoolctl/blob/master/multiple_openmp.md\n",
      "\n",
      "  warnings.warn(msg, RuntimeWarning)\n"
     ]
    }
   ],
   "source": [
    "import json\n",
    "import os\n",
    "import pandas as pd\n",
    "import numpy as np\n",
    "import re\n",
    "import spacy\n",
    "from sklearn.utils import resample\n",
    "import matplotlib.pyplot as plt\n",
    "\n",
    "# Function to read JSON files\n",
    "def read_json_files(dir: str, fname_filter=None):\n",
    "    json_fnames = []\n",
    "    for (_, _, fnames) in os.walk(dir):\n",
    "        json_fnames.extend(fnames)\n",
    "        break  # ensure only top level json files are read.\n",
    "\n",
    "    filter_predicate = lambda name: name.startswith(fname_filter) and name.endswith('.json') if fname_filter else lambda name: name.startswith(filter)\n",
    "    json_fnames = list(filter(filter_predicate, json_fnames))\n",
    "\n",
    "    json_data = []\n",
    "    for fname in json_fnames:\n",
    "        with open(f'{dir}/{fname}', 'r') as json_file:\n",
    "            json_data.append(json.load(json_file))\n",
    "    return json_data\n",
    "\n",
    "# Load and parse the data\n",
    "json_data = read_json_files('./data', 'data')\n",
    "def parse_vantage_api_data(json_data):\n",
    "    df_list = []\n",
    "    for json_dict in json_data:\n",
    "        for item in json_dict['feed']:\n",
    "            item_dict = {'title': item['title'], 'time_published': item['time_published'], 'summary': item['summary'],\n",
    "                         'overall_sentiment_label': item['overall_sentiment_label']}\n",
    "            df_list.append(item_dict)\n",
    "    return pd.DataFrame(df_list)\n",
    "\n",
    "data_df = parse_vantage_api_data(json_data)\n",
    "data_df[\"news\"] = data_df[\"title\"].str.cat(data_df[\"summary\"], sep=' ')\n",
    "\n",
    "# Preprocess the data for sentiment classification\n",
    "nlp = spacy.load('en_core_web_sm', disable=['ner', 'parser'])  # Load SpaCy for text processing\n",
    "\n",
    "def cleaning(doc):\n",
    "    txt = [token.lemma_ for token in doc if not token.is_stop and token.is_alpha]\n",
    "    return ' '.join(txt)\n",
    "\n",
    "brief_cleaning = (re.sub(\"[^A-Za-z']+\", ' ', str(row)).lower() for row in data_df['news'])\n",
    "cleaned_txt = [cleaning(doc) for doc in nlp.pipe(brief_cleaning, batch_size=2500, n_process=-1)]\n",
    "\n",
    "data_df['cleaned_text'] = cleaned_txt\n",
    "data_df['label'] = data_df['overall_sentiment_label'].map({\n",
    "    'Bearish': 0,\n",
    "    'Somewhat-Bearish': 1,\n",
    "    'Neutral': 2,\n",
    "    'Somewhat-Bullish': 3,\n",
    "    'Bullish': 4,\n",
    "})\n",
    "data_df.dropna(subset=['cleaned_text', 'label'], inplace=True)\n",
    "\n",
    "# Save cleaned data to CSV\n",
    "data_df[['cleaned_text', 'label']].to_csv('./data/cleaned_data_for_modeling.csv', index=False)\n"
   ]
  },
  {
   "cell_type": "code",
   "execution_count": 2,
   "id": "c13541a2-46d0-46ad-882a-99024ae9b21e",
   "metadata": {},
   "outputs": [
    {
     "name": "stdout",
     "output_type": "stream",
     "text": [
      "              precision    recall  f1-score   support\n",
      "\n",
      "           0       1.00      0.01      0.03        69\n",
      "           1       0.47      0.09      0.16       696\n",
      "           2       0.63      0.69      0.66      6899\n",
      "           3       0.60      0.67      0.63      6572\n",
      "           4       0.57      0.18      0.27      1281\n",
      "\n",
      "    accuracy                           0.61     15517\n",
      "   macro avg       0.65      0.33      0.35     15517\n",
      "weighted avg       0.61      0.61      0.59     15517\n",
      "\n"
     ]
    }
   ],
   "source": [
    "%run alpha_vantage_log_reg.py"
   ]
  },
  {
   "cell_type": "code",
   "execution_count": null,
   "id": "edfc04ef-462c-4db4-886d-42f6530fc72e",
   "metadata": {},
   "outputs": [],
   "source": []
  }
 ],
 "metadata": {
  "kernelspec": {
   "display_name": "Python 3 (ipykernel)",
   "language": "python",
   "name": "python3"
  },
  "language_info": {
   "codemirror_mode": {
    "name": "ipython",
    "version": 3
   },
   "file_extension": ".py",
   "mimetype": "text/x-python",
   "name": "python",
   "nbconvert_exporter": "python",
   "pygments_lexer": "ipython3",
   "version": "3.12.1"
  }
 },
 "nbformat": 4,
 "nbformat_minor": 5
}
