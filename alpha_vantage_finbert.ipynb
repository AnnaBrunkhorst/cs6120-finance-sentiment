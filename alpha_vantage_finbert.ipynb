{
 "cells": [
  {
   "cell_type": "code",
   "execution_count": 1,
   "id": "initial_id",
   "metadata": {
    "collapsed": true,
    "ExecuteTime": {
     "end_time": "2024-08-09T17:34:16.159852Z",
     "start_time": "2024-08-09T17:34:04.235215Z"
    }
   },
   "outputs": [],
   "source": [
    "import json\n",
    "import os\n",
    "\n",
    "import matplotlib.pyplot as plt\n",
    "import numpy as np\n",
    "import pandas as pd\n",
    "from sklearn.metrics import accuracy_score\n",
    "from transformers import AutoModelForSequenceClassification\n",
    "from transformers import AutoTokenizer\n",
    "from transformers import TrainingArguments, Trainer\n",
    "import evaluate\n",
    "\n",
    "%matplotlib inline"
   ]
  },
  {
   "cell_type": "code",
   "outputs": [],
   "source": [
    "def read_json_files(dir: str, fname_filter=None) -> list:\n",
    "    json_fnames = []\n",
    "    for (_, _, fnames) in os.walk(dir):\n",
    "        json_fnames.extend(fnames)\n",
    "        break  # ensure only top level json files are read.\n",
    "\n",
    "    filter_predicate = lambda name: name.startswith(fname_filter) and name.endswith('.json') if fname_filter else lambda \\\n",
    "            name: name.startswith(filter)\n",
    "    json_fnames = list(filter(filter_predicate, json_fnames))\n",
    "\n",
    "    json_data = []\n",
    "    for fname in json_fnames:\n",
    "        with open(f'{dir}/{fname}', 'r') as json_file:\n",
    "            json_data.append(json.load(json_file))\n",
    "    return json_data\n",
    "\n",
    "\n",
    "json_data = read_json_files('./data', 'data')"
   ],
   "metadata": {
    "collapsed": false,
    "ExecuteTime": {
     "end_time": "2024-08-09T17:34:17.153203Z",
     "start_time": "2024-08-09T17:34:16.160859Z"
    }
   },
   "id": "2c9412bfb1d41633",
   "execution_count": 2
  },
  {
   "cell_type": "code",
   "outputs": [],
   "source": [
    "def parse_vantage_api_data(json_data: list) -> pd.DataFrame:\n",
    "    df_list = []\n",
    "    for json_dict in json_data:\n",
    "        for item in json_dict['feed']:\n",
    "            item_dict = {'title': item['title'], 'time_published': item['time_published'], 'summary': item['summary'],\n",
    "                         'label': item['overall_sentiment_label'],\n",
    "                         'score': item['overall_sentiment_score'],\n",
    "                         'ticker_sentiment': item['ticker_sentiment']}\n",
    "            df_list.append(item_dict)\n",
    "    return pd.DataFrame(df_list)\n",
    "\n",
    "\n",
    "data_df = parse_vantage_api_data(json_data)"
   ],
   "metadata": {
    "collapsed": false,
    "ExecuteTime": {
     "end_time": "2024-08-09T17:34:17.467020Z",
     "start_time": "2024-08-09T17:34:17.154197Z"
    }
   },
   "id": "9552d18ccd679c35",
   "execution_count": 3
  },
  {
   "cell_type": "code",
   "outputs": [
    {
     "data": {
      "text/plain": "                                               title   time_published  \\\n0  E-rupee pilot sees trades worth Rs 275 crore o...  20221102T000000   \n1  Immutep to Participate in Two Upcoming Investo...  20221101T235900   \n2  ROSEN, GLOBAL INVESTOR COUNSEL, Encourages Com...  20221101T235800   \n3  Michael Khan Joins Pinnacle Bank as Executive ...  20221101T235758   \n4  ANET Stock, NBIX, WMB, MPLX, 7 Other Tickers A...  20221101T235646   \n\n                                             summary             label  \\\n0  E-rupee pilot sees trades worth Rs 275 crore o...  Somewhat-Bullish   \n1                                  Media Release ...           Neutral   \n2  NEW YORK, Nov. 01, 2022 ( GLOBE NEWSWIRE ) -- ...           Neutral   \n3  Pinnacle Bank ( OTCQB: PBNK ) , headquartered ...           Bullish   \n4  IBD stock screens are regularly updated to add...           Bullish   \n\n      score                                   ticker_sentiment  \n0  0.201554  [{'ticker': 'FRBA', 'relevance_score': '0.1228...  \n1  0.079027  [{'ticker': 'IMMP', 'relevance_score': '0.6154...  \n2  0.135679  [{'ticker': 'META', 'relevance_score': '0.0613...  \n3  0.479188  [{'ticker': 'CAIB', 'relevance_score': '0.1235...  \n4  0.414276  [{'ticker': 'ANET', 'relevance_score': '0.3782...  ",
      "text/html": "<div>\n<style scoped>\n    .dataframe tbody tr th:only-of-type {\n        vertical-align: middle;\n    }\n\n    .dataframe tbody tr th {\n        vertical-align: top;\n    }\n\n    .dataframe thead th {\n        text-align: right;\n    }\n</style>\n<table border=\"1\" class=\"dataframe\">\n  <thead>\n    <tr style=\"text-align: right;\">\n      <th></th>\n      <th>title</th>\n      <th>time_published</th>\n      <th>summary</th>\n      <th>label</th>\n      <th>score</th>\n      <th>ticker_sentiment</th>\n    </tr>\n  </thead>\n  <tbody>\n    <tr>\n      <th>0</th>\n      <td>E-rupee pilot sees trades worth Rs 275 crore o...</td>\n      <td>20221102T000000</td>\n      <td>E-rupee pilot sees trades worth Rs 275 crore o...</td>\n      <td>Somewhat-Bullish</td>\n      <td>0.201554</td>\n      <td>[{'ticker': 'FRBA', 'relevance_score': '0.1228...</td>\n    </tr>\n    <tr>\n      <th>1</th>\n      <td>Immutep to Participate in Two Upcoming Investo...</td>\n      <td>20221101T235900</td>\n      <td>Media Release ...</td>\n      <td>Neutral</td>\n      <td>0.079027</td>\n      <td>[{'ticker': 'IMMP', 'relevance_score': '0.6154...</td>\n    </tr>\n    <tr>\n      <th>2</th>\n      <td>ROSEN, GLOBAL INVESTOR COUNSEL, Encourages Com...</td>\n      <td>20221101T235800</td>\n      <td>NEW YORK, Nov. 01, 2022 ( GLOBE NEWSWIRE ) -- ...</td>\n      <td>Neutral</td>\n      <td>0.135679</td>\n      <td>[{'ticker': 'META', 'relevance_score': '0.0613...</td>\n    </tr>\n    <tr>\n      <th>3</th>\n      <td>Michael Khan Joins Pinnacle Bank as Executive ...</td>\n      <td>20221101T235758</td>\n      <td>Pinnacle Bank ( OTCQB: PBNK ) , headquartered ...</td>\n      <td>Bullish</td>\n      <td>0.479188</td>\n      <td>[{'ticker': 'CAIB', 'relevance_score': '0.1235...</td>\n    </tr>\n    <tr>\n      <th>4</th>\n      <td>ANET Stock, NBIX, WMB, MPLX, 7 Other Tickers A...</td>\n      <td>20221101T235646</td>\n      <td>IBD stock screens are regularly updated to add...</td>\n      <td>Bullish</td>\n      <td>0.414276</td>\n      <td>[{'ticker': 'ANET', 'relevance_score': '0.3782...</td>\n    </tr>\n  </tbody>\n</table>\n</div>"
     },
     "execution_count": 4,
     "metadata": {},
     "output_type": "execute_result"
    }
   ],
   "source": [
    "data_df.head()"
   ],
   "metadata": {
    "collapsed": false,
    "ExecuteTime": {
     "end_time": "2024-08-09T17:34:17.479663Z",
     "start_time": "2024-08-09T17:34:17.468022Z"
    }
   },
   "id": "e44f0ddff868fcda",
   "execution_count": 4
  },
  {
   "cell_type": "code",
   "outputs": [
    {
     "data": {
      "text/plain": "                                               title   time_published  \\\n0  E-rupee pilot sees trades worth Rs 275 crore o...  20221102T000000   \n1  Immutep to Participate in Two Upcoming Investo...  20221101T235900   \n2  ROSEN, GLOBAL INVESTOR COUNSEL, Encourages Com...  20221101T235800   \n3  Michael Khan Joins Pinnacle Bank as Executive ...  20221101T235758   \n4  ANET Stock, NBIX, WMB, MPLX, 7 Other Tickers A...  20221101T235646   \n\n                                             summary             label  \\\n0  E-rupee pilot sees trades worth Rs 275 crore o...  Somewhat-Bullish   \n1                                  Media Release ...           Neutral   \n2  NEW YORK, Nov. 01, 2022 ( GLOBE NEWSWIRE ) -- ...           Neutral   \n3  Pinnacle Bank ( OTCQB: PBNK ) , headquartered ...           Bullish   \n4  IBD stock screens are regularly updated to add...           Bullish   \n\n      score                                   ticker_sentiment  \\\n0  0.201554  [{'ticker': 'FRBA', 'relevance_score': '0.1228...   \n1  0.079027  [{'ticker': 'IMMP', 'relevance_score': '0.6154...   \n2  0.135679  [{'ticker': 'META', 'relevance_score': '0.0613...   \n3  0.479188  [{'ticker': 'CAIB', 'relevance_score': '0.1235...   \n4  0.414276  [{'ticker': 'ANET', 'relevance_score': '0.3782...   \n\n                                                text  \n0  E-rupee pilot sees trades worth Rs 275 crore o...  \n1  Immutep to Participate in Two Upcoming Investo...  \n2  ROSEN, GLOBAL INVESTOR COUNSEL, Encourages Com...  \n3  Michael Khan Joins Pinnacle Bank as Executive ...  \n4  ANET Stock, NBIX, WMB, MPLX, 7 Other Tickers A...  ",
      "text/html": "<div>\n<style scoped>\n    .dataframe tbody tr th:only-of-type {\n        vertical-align: middle;\n    }\n\n    .dataframe tbody tr th {\n        vertical-align: top;\n    }\n\n    .dataframe thead th {\n        text-align: right;\n    }\n</style>\n<table border=\"1\" class=\"dataframe\">\n  <thead>\n    <tr style=\"text-align: right;\">\n      <th></th>\n      <th>title</th>\n      <th>time_published</th>\n      <th>summary</th>\n      <th>label</th>\n      <th>score</th>\n      <th>ticker_sentiment</th>\n      <th>text</th>\n    </tr>\n  </thead>\n  <tbody>\n    <tr>\n      <th>0</th>\n      <td>E-rupee pilot sees trades worth Rs 275 crore o...</td>\n      <td>20221102T000000</td>\n      <td>E-rupee pilot sees trades worth Rs 275 crore o...</td>\n      <td>Somewhat-Bullish</td>\n      <td>0.201554</td>\n      <td>[{'ticker': 'FRBA', 'relevance_score': '0.1228...</td>\n      <td>E-rupee pilot sees trades worth Rs 275 crore o...</td>\n    </tr>\n    <tr>\n      <th>1</th>\n      <td>Immutep to Participate in Two Upcoming Investo...</td>\n      <td>20221101T235900</td>\n      <td>Media Release ...</td>\n      <td>Neutral</td>\n      <td>0.079027</td>\n      <td>[{'ticker': 'IMMP', 'relevance_score': '0.6154...</td>\n      <td>Immutep to Participate in Two Upcoming Investo...</td>\n    </tr>\n    <tr>\n      <th>2</th>\n      <td>ROSEN, GLOBAL INVESTOR COUNSEL, Encourages Com...</td>\n      <td>20221101T235800</td>\n      <td>NEW YORK, Nov. 01, 2022 ( GLOBE NEWSWIRE ) -- ...</td>\n      <td>Neutral</td>\n      <td>0.135679</td>\n      <td>[{'ticker': 'META', 'relevance_score': '0.0613...</td>\n      <td>ROSEN, GLOBAL INVESTOR COUNSEL, Encourages Com...</td>\n    </tr>\n    <tr>\n      <th>3</th>\n      <td>Michael Khan Joins Pinnacle Bank as Executive ...</td>\n      <td>20221101T235758</td>\n      <td>Pinnacle Bank ( OTCQB: PBNK ) , headquartered ...</td>\n      <td>Bullish</td>\n      <td>0.479188</td>\n      <td>[{'ticker': 'CAIB', 'relevance_score': '0.1235...</td>\n      <td>Michael Khan Joins Pinnacle Bank as Executive ...</td>\n    </tr>\n    <tr>\n      <th>4</th>\n      <td>ANET Stock, NBIX, WMB, MPLX, 7 Other Tickers A...</td>\n      <td>20221101T235646</td>\n      <td>IBD stock screens are regularly updated to add...</td>\n      <td>Bullish</td>\n      <td>0.414276</td>\n      <td>[{'ticker': 'ANET', 'relevance_score': '0.3782...</td>\n      <td>ANET Stock, NBIX, WMB, MPLX, 7 Other Tickers A...</td>\n    </tr>\n  </tbody>\n</table>\n</div>"
     },
     "execution_count": 5,
     "metadata": {},
     "output_type": "execute_result"
    }
   ],
   "source": [
    "data_df[\"text\"] = data_df[\"title\"].str.cat(data_df[\"summary\"])\n",
    "data_df.head()"
   ],
   "metadata": {
    "collapsed": false,
    "ExecuteTime": {
     "end_time": "2024-08-09T17:34:17.534416Z",
     "start_time": "2024-08-09T17:34:17.480778Z"
    }
   },
   "id": "cb5a9cda58577deb",
   "execution_count": 5
  },
  {
   "cell_type": "code",
   "outputs": [],
   "source": [
    "# Only 3 labels in finbert\n",
    "label_map = {\n",
    "    'Bearish': 0,\n",
    "    'Somewhat-Bearish': 0,\n",
    "    'Neutral': 1,\n",
    "    'Somewhat-Bullish': 2,\n",
    "    'Bullish': 2,\n",
    "}\n",
    "\n",
    "for key in list(label_map.keys()):\n",
    "    data_df.loc[data_df['label'] == key, 'label'] = label_map[key]"
   ],
   "metadata": {
    "collapsed": false,
    "ExecuteTime": {
     "end_time": "2024-08-09T17:34:17.575867Z",
     "start_time": "2024-08-09T17:34:17.534480Z"
    }
   },
   "id": "2b3b6ba76f7f7243",
   "execution_count": 6
  },
  {
   "cell_type": "code",
   "outputs": [
    {
     "data": {
      "text/plain": "<Figure size 640x480 with 1 Axes>",
      "image/png": "[encoded data removed]"
     },
     "metadata": {},
     "output_type": "display_data"
    }
   ],
   "source": [
    "# Length distribution of each summary\n",
    "\n",
    "text_len_dist = np.asarray([0 if sen is None else len(sen.split()) for sen in data_df['text']])\n",
    "\n",
    "_ = plt.hist(text_len_dist)"
   ],
   "metadata": {
    "collapsed": false,
    "ExecuteTime": {
     "end_time": "2024-08-09T17:34:21.633624Z",
     "start_time": "2024-08-09T17:34:21.439936Z"
    }
   },
   "id": "692e4cd477c3d42f",
   "execution_count": 7
  },
  {
   "cell_type": "code",
   "outputs": [
    {
     "data": {
      "text/plain": "<Figure size 640x480 with 1 Axes>",
      "image/png": "[encoded data removed]"
     },
     "metadata": {},
     "output_type": "display_data"
    }
   ],
   "source": [
    "_ = plt.hist(data_df['label'])"
   ],
   "metadata": {
    "collapsed": false,
    "ExecuteTime": {
     "end_time": "2024-08-09T17:34:22.525760Z",
     "start_time": "2024-08-09T17:34:22.438752Z"
    }
   },
   "id": "d5ce8f59d29b102b",
   "execution_count": 8
  },
  {
   "cell_type": "code",
   "outputs": [],
   "source": [
    "from datasets import Dataset, concatenate_datasets\n",
    "\n",
    "ds = Dataset.from_pandas(data_df[['text', 'label']])"
   ],
   "metadata": {
    "collapsed": false,
    "ExecuteTime": {
     "end_time": "2024-08-09T17:34:24.164498Z",
     "start_time": "2024-08-09T17:34:23.999700Z"
    }
   },
   "id": "cb98efad63f48cb4",
   "execution_count": 9
  },
  {
   "cell_type": "code",
   "outputs": [
    {
     "data": {
      "text/plain": "Dataset({\n    features: ['text', 'label'],\n    num_rows: 77583\n})"
     },
     "execution_count": 10,
     "metadata": {},
     "output_type": "execute_result"
    }
   ],
   "source": [
    "ds"
   ],
   "metadata": {
    "collapsed": false,
    "ExecuteTime": {
     "end_time": "2024-08-09T17:34:24.808984Z",
     "start_time": "2024-08-09T17:34:24.804183Z"
    }
   },
   "id": "bb54d43f12abf09c",
   "execution_count": 10
  },
  {
   "cell_type": "code",
   "outputs": [
    {
     "data": {
      "text/plain": "Filter:   0%|          | 0/77583 [00:00<?, ? examples/s]",
      "application/vnd.jupyter.widget-view+json": {
       "version_major": 2,
       "version_minor": 0,
       "model_id": "ef92adbbf9ca4135b80d47723c50411c"
      }
     },
     "metadata": {},
     "output_type": "display_data"
    },
    {
     "data": {
      "text/plain": "Filter:   0%|          | 0/77583 [00:00<?, ? examples/s]",
      "application/vnd.jupyter.widget-view+json": {
       "version_major": 2,
       "version_minor": 0,
       "model_id": "2b972a82073744158309467afb3b391d"
      }
     },
     "metadata": {},
     "output_type": "display_data"
    },
    {
     "data": {
      "text/plain": "Filter:   0%|          | 0/77583 [00:00<?, ? examples/s]",
      "application/vnd.jupyter.widget-view+json": {
       "version_major": 2,
       "version_minor": 0,
       "model_id": "cda705e5b85f47a5933a57044944a94c"
      }
     },
     "metadata": {},
     "output_type": "display_data"
    },
    {
     "name": "stdout",
     "output_type": "stream",
     "text": [
      "Bearish:3840\n",
      "Neutral:34760\n",
      "Bullish:38983\n"
     ]
    }
   ],
   "source": [
    "# Fix class imbalance\n",
    "ds_bearish = ds.filter(lambda example: example['label'] == 0)\n",
    "ds_neutral = ds.filter(lambda example: example['label'] == 1)\n",
    "ds_bullish = ds.filter(lambda example: example['label'] == 2)\n",
    "\n",
    "print(f'Bearish:{ds_bearish.shape[0]}\\nNeutral:{ds_neutral.shape[0]}\\nBullish:{ds_bullish.shape[0]}')"
   ],
   "metadata": {
    "collapsed": false,
    "ExecuteTime": {
     "end_time": "2024-08-09T17:34:25.932061Z",
     "start_time": "2024-08-09T17:34:25.468038Z"
    }
   },
   "id": "b08d68f968a1f2b1",
   "execution_count": 11
  },
  {
   "cell_type": "code",
   "outputs": [],
   "source": [
    "ds_neutral = ds_neutral.shuffle().select(range(7000))\n",
    "ds_bullish = ds_bullish.shuffle().select(range(7000))\n",
    "ds_sub = concatenate_datasets([ds_bearish, ds_neutral, ds_bullish])\n",
    "ds_sub = ds_sub.shuffle()"
   ],
   "metadata": {
    "collapsed": false,
    "ExecuteTime": {
     "end_time": "2024-08-09T17:34:44.843368Z",
     "start_time": "2024-08-09T17:34:44.819003Z"
    }
   },
   "id": "d86bc0522e0c4b88",
   "execution_count": 12
  },
  {
   "cell_type": "code",
   "outputs": [
    {
     "data": {
      "text/plain": "Text(0.5, 1.0, 'Dataset size: 17840')"
     },
     "execution_count": 13,
     "metadata": {},
     "output_type": "execute_result"
    },
    {
     "data": {
      "text/plain": "<Figure size 640x480 with 1 Axes>",
      "image/png": "[encoded data removed]"
     },
     "metadata": {},
     "output_type": "display_data"
    }
   ],
   "source": [
    "_ = plt.hist(ds_sub['label'])\n",
    "plt.title(f'Dataset size: {ds_sub.shape[0]}')"
   ],
   "metadata": {
    "collapsed": false,
    "ExecuteTime": {
     "end_time": "2024-08-09T17:34:46.396765Z",
     "start_time": "2024-08-09T17:34:46.251536Z"
    }
   },
   "id": "4ac3489dceb337d5",
   "execution_count": 13
  },
  {
   "cell_type": "markdown",
   "source": [
    "Loading Bert model"
   ],
   "metadata": {
    "collapsed": false
   },
   "id": "680f823b08d6f01f"
  },
  {
   "cell_type": "code",
   "outputs": [
    {
     "name": "stderr",
     "output_type": "stream",
     "text": [
      "E:\\Academics\\NEU\\DS5230 - USML\\Assignments\\venv\\Lib\\site-packages\\transformers\\tokenization_utils_base.py:1601: FutureWarning: `clean_up_tokenization_spaces` was not set. It will be set to `True` by default. This behavior will be depracted in transformers v4.45, and will be then set to `False` by default. For more details check this issue: https://github.com/huggingface/transformers/issues/31884\n",
      "  warnings.warn(\n"
     ]
    },
    {
     "data": {
      "text/plain": "Map:   0%|          | 0/17840 [00:00<?, ? examples/s]",
      "application/vnd.jupyter.widget-view+json": {
       "version_major": 2,
       "version_minor": 0,
       "model_id": "cbe5fef8ad5f460c9e57d1aefe8fe3fb"
      }
     },
     "metadata": {},
     "output_type": "display_data"
    }
   ],
   "source": [
    "# MODEL_NAME = \"google-bert/bert-base-uncased\"\n",
    "MODEL_NAME = \"ProsusAI/finbert\"\n",
    "tokenizer = AutoTokenizer.from_pretrained(MODEL_NAME)\n",
    "\n",
    "\n",
    "def tokenize(datapoint):\n",
    "    return tokenizer(datapoint['text'], padding='max_length', truncation=True)\n",
    "\n",
    "\n",
    "tokenized_df = ds_sub.map(tokenize, batched=True)"
   ],
   "metadata": {
    "collapsed": false,
    "ExecuteTime": {
     "end_time": "2024-08-08T23:49:12.493826Z",
     "start_time": "2024-08-08T23:49:09.525511Z"
    }
   },
   "id": "af6334be2fda7872",
   "execution_count": 14
  },
  {
   "cell_type": "code",
   "outputs": [
    {
     "data": {
      "text/plain": "Dataset({\n    features: ['text', 'label', 'input_ids', 'token_type_ids', 'attention_mask'],\n    num_rows: 12488\n})"
     },
     "execution_count": 15,
     "metadata": {},
     "output_type": "execute_result"
    }
   ],
   "source": [
    "# train test split\n",
    "ds = tokenized_df.train_test_split(test_size=0.3, train_size=0.7, shuffle=True)\n",
    "\n",
    "ds['train']"
   ],
   "metadata": {
    "collapsed": false,
    "ExecuteTime": {
     "end_time": "2024-08-08T23:49:12.504910Z",
     "start_time": "2024-08-08T23:49:12.494834Z"
    }
   },
   "id": "1e3e313b0626c3ae",
   "execution_count": 15
  },
  {
   "cell_type": "code",
   "outputs": [],
   "source": [
    "model = AutoModelForSequenceClassification.from_pretrained(MODEL_NAME, num_labels=3)"
   ],
   "metadata": {
    "collapsed": false,
    "ExecuteTime": {
     "end_time": "2024-08-08T23:49:13.045825Z",
     "start_time": "2024-08-08T23:49:12.505997Z"
    }
   },
   "id": "61772ec68076b80b",
   "execution_count": 16
  },
  {
   "cell_type": "code",
   "outputs": [],
   "source": [
    "training_args = TrainingArguments(\n",
    "    output_dir=\"test_trainer\",\n",
    "    eval_strategy=\"epoch\",\n",
    "    per_device_train_batch_size=16,\n",
    "    per_device_eval_batch_size=16,\n",
    "    num_train_epochs=5)\n",
    "\n",
    "metric = evaluate.load(\"accuracy\")"
   ],
   "metadata": {
    "collapsed": false,
    "ExecuteTime": {
     "end_time": "2024-08-08T23:49:14.996887Z",
     "start_time": "2024-08-08T23:49:13.046890Z"
    }
   },
   "id": "fe74b29d7f5778bb",
   "execution_count": 17
  },
  {
   "cell_type": "code",
   "outputs": [],
   "source": [
    "def compute_metrics(eval_pred):\n",
    "    logits, labels = eval_pred\n",
    "    y_pred = np.argmax(logits, axis=-1)\n",
    "    return metric.compute(predictions=y_pred, references=labels)"
   ],
   "metadata": {
    "collapsed": false,
    "ExecuteTime": {
     "end_time": "2024-08-08T23:49:15.000293Z",
     "start_time": "2024-08-08T23:49:14.997895Z"
    }
   },
   "id": "e121fa480ba10a41",
   "execution_count": 18
  },
  {
   "cell_type": "code",
   "outputs": [
    {
     "name": "stderr",
     "output_type": "stream",
     "text": [
      "E:\\Academics\\NEU\\DS5230 - USML\\Assignments\\venv\\Lib\\site-packages\\transformers\\models\\bert\\modeling_bert.py:439: UserWarning: 1Torch was not compiled with flash attention. (Triggered internally at ..\\aten\\src\\ATen\\native\\transformers\\cuda\\sdp_utils.cpp:455.)\n",
      "  attn_output = torch.nn.functional.scaled_dot_product_attention(\n"
     ]
    },
    {
     "data": {
      "text/plain": "<IPython.core.display.HTML object>",
      "text/html": "\n    <div>\n      \n      <progress value='3905' max='3905' style='width:300px; height:20px; vertical-align: middle;'></progress>\n      [3905/3905 43:44, Epoch 5/5]\n    </div>\n    <table border=\"1\" class=\"dataframe\">\n  <thead>\n <tr style=\"text-align: left;\">\n      <th>Epoch</th>\n      <th>Training Loss</th>\n      <th>Validation Loss</th>\n      <th>Accuracy</th>\n    </tr>\n  </thead>\n  <tbody>\n    <tr>\n      <td>1</td>\n      <td>0.781100</td>\n      <td>0.716288</td>\n      <td>0.660874</td>\n    </tr>\n    <tr>\n      <td>2</td>\n      <td>0.529000</td>\n      <td>0.688469</td>\n      <td>0.693572</td>\n    </tr>\n    <tr>\n      <td>3</td>\n      <td>0.335500</td>\n      <td>0.963678</td>\n      <td>0.680680</td>\n    </tr>\n    <tr>\n      <td>4</td>\n      <td>0.171600</td>\n      <td>1.410429</td>\n      <td>0.692825</td>\n    </tr>\n    <tr>\n      <td>5</td>\n      <td>0.106100</td>\n      <td>1.704914</td>\n      <td>0.686472</td>\n    </tr>\n  </tbody>\n</table><p>"
     },
     "metadata": {},
     "output_type": "display_data"
    },
    {
     "data": {
      "text/plain": "TrainOutput(global_step=3905, training_loss=0.3693568904940206, metrics={'train_runtime': 2625.2161, 'train_samples_per_second': 23.785, 'train_steps_per_second': 1.487, 'total_flos': 1.642880180293632e+16, 'train_loss': 0.3693568904940206, 'epoch': 5.0})"
     },
     "execution_count": 19,
     "metadata": {},
     "output_type": "execute_result"
    }
   ],
   "source": [
    "trainer = Trainer(\n",
    "    model=model,\n",
    "    args=training_args,\n",
    "    train_dataset=ds['train'],\n",
    "    eval_dataset=ds['test'],\n",
    "    compute_metrics=compute_metrics,\n",
    ")\n",
    "\n",
    "trainer.train()"
   ],
   "metadata": {
    "collapsed": false,
    "ExecuteTime": {
     "end_time": "2024-08-09T00:33:01.123179Z",
     "start_time": "2024-08-08T23:49:15.001296Z"
    }
   },
   "id": "cb6451d46ad54bbb",
   "execution_count": 19
  }
 ],
 "metadata": {
  "kernelspec": {
   "display_name": "Python 3",
   "language": "python",
   "name": "python3"
  },
  "language_info": {
   "codemirror_mode": {
    "name": "ipython",
    "version": 2
   },
   "file_extension": ".py",
   "mimetype": "text/x-python",
   "name": "python",
   "nbconvert_exporter": "python",
   "pygments_lexer": "ipython2",
   "version": "2.7.6"
  }
 },
 "nbformat": 4,
 "nbformat_minor": 5
}
