{
 "cells": [
  {
   "cell_type": "code",
   "execution_count": 1,
   "id": "initial_id",
   "metadata": {
    "collapsed": true,
    "ExecuteTime": {
     "end_time": "2024-08-15T05:55:59.025739Z",
     "start_time": "2024-08-15T05:55:55.850825Z"
    }
   },
   "outputs": [],
   "source": [
    "import evaluate\n",
    "import matplotlib.pyplot as plt\n",
    "import numpy as np\n",
    "import pandas as pd\n",
    "from datasets import Dataset\n",
    "from sklearn.metrics import accuracy_score, classification_report\n",
    "from transformers import AutoModelForSequenceClassification\n",
    "from transformers import AutoTokenizer\n",
    "from transformers import TrainingArguments, Trainer, EvalPrediction\n",
    "\n",
    "%matplotlib inline"
   ]
  },
  {
   "cell_type": "code",
   "outputs": [],
   "source": [
    "# Load split data\n",
    "train_df = pd.read_csv(\"./data/alpha_vantage_train.csv\")\n",
    "test_df = pd.read_csv(\"./data/alpha_vantage_test.csv\")"
   ],
   "metadata": {
    "collapsed": false,
    "ExecuteTime": {
     "end_time": "2024-08-15T05:55:59.083091Z",
     "start_time": "2024-08-15T05:55:59.026749Z"
    }
   },
   "id": "cb98efad63f48cb4",
   "execution_count": 2
  },
  {
   "cell_type": "code",
   "outputs": [
    {
     "data": {
      "text/plain": "Dataset({\n    features: ['text', 'label'],\n    num_rows: 16688\n})"
     },
     "execution_count": 3,
     "metadata": {},
     "output_type": "execute_result"
    }
   ],
   "source": [
    "ds_train = Dataset.from_pandas(train_df)\n",
    "ds_test = Dataset.from_pandas(test_df)\n",
    "\n",
    "ds_train"
   ],
   "metadata": {
    "collapsed": false,
    "ExecuteTime": {
     "end_time": "2024-08-15T05:55:59.115762Z",
     "start_time": "2024-08-15T05:55:59.084096Z"
    }
   },
   "id": "bb54d43f12abf09c",
   "execution_count": 3
  },
  {
   "cell_type": "code",
   "outputs": [
    {
     "data": {
      "text/plain": "Map:   0%|          | 0/16688 [00:00<?, ? examples/s]",
      "application/vnd.jupyter.widget-view+json": {
       "version_major": 2,
       "version_minor": 0,
       "model_id": "f91678a8c16d4297b0a3c9feaeb3c043"
      }
     },
     "metadata": {},
     "output_type": "display_data"
    },
    {
     "data": {
      "text/plain": "Map:   0%|          | 0/7152 [00:00<?, ? examples/s]",
      "application/vnd.jupyter.widget-view+json": {
       "version_major": 2,
       "version_minor": 0,
       "model_id": "16c6d1081cb5441ea41d6c2c0e4afbfb"
      }
     },
     "metadata": {},
     "output_type": "display_data"
    }
   ],
   "source": [
    "def condense_label(example):\n",
    "    l = example['label']\n",
    "    if l == 0 or l == 1:\n",
    "        example['label'] = 0\n",
    "    elif l == 2:\n",
    "        example['label'] = 1\n",
    "    elif l == 3 or l== 4:\n",
    "        example['label'] = 2\n",
    "    return example\n",
    "    \n",
    "ds_train_condensed = ds_train.map(condense_label)\n",
    "ds_test_condensed = ds_test.map(condense_label)\n"
   ],
   "metadata": {
    "collapsed": false,
    "ExecuteTime": {
     "end_time": "2024-08-15T05:57:20.007392Z",
     "start_time": "2024-08-15T05:57:19.633478Z"
    }
   },
   "id": "43944ad712e01907",
   "execution_count": 4
  },
  {
   "cell_type": "code",
   "outputs": [
    {
     "data": {
      "text/plain": "Text(0.5, 1.0, 'Dataset size: 16688')"
     },
     "execution_count": 5,
     "metadata": {},
     "output_type": "execute_result"
    },
    {
     "data": {
      "text/plain": "<Figure size 640x480 with 1 Axes>",
      "image/png": "[encoded data removed]"
     },
     "metadata": {},
     "output_type": "display_data"
    }
   ],
   "source": [
    "_ = plt.hist(ds_train_condensed['label'])\n",
    "plt.title(f'Dataset size: {ds_train_condensed.shape[0]}')"
   ],
   "metadata": {
    "collapsed": false,
    "ExecuteTime": {
     "end_time": "2024-08-15T05:57:30.345337Z",
     "start_time": "2024-08-15T05:57:30.229716Z"
    }
   },
   "id": "4ac3489dceb337d5",
   "execution_count": 5
  },
  {
   "cell_type": "markdown",
   "source": [
    "Loading Bert model"
   ],
   "metadata": {
    "collapsed": false
   },
   "id": "680f823b08d6f01f"
  },
  {
   "cell_type": "code",
   "outputs": [
    {
     "name": "stderr",
     "output_type": "stream",
     "text": [
      "E:\\Academics\\NEU\\DS5230 - USML\\Assignments\\venv\\Lib\\site-packages\\transformers\\tokenization_utils_base.py:1601: FutureWarning: `clean_up_tokenization_spaces` was not set. It will be set to `True` by default. This behavior will be depracted in transformers v4.45, and will be then set to `False` by default. For more details check this issue: https://github.com/huggingface/transformers/issues/31884\n",
      "  warnings.warn(\n"
     ]
    },
    {
     "data": {
      "text/plain": "Map:   0%|          | 0/16688 [00:00<?, ? examples/s]",
      "application/vnd.jupyter.widget-view+json": {
       "version_major": 2,
       "version_minor": 0,
       "model_id": "c010842b5b104c0d9f5e3d01a0c57ffd"
      }
     },
     "metadata": {},
     "output_type": "display_data"
    },
    {
     "data": {
      "text/plain": "Map:   0%|          | 0/16688 [00:00<?, ? examples/s]",
      "application/vnd.jupyter.widget-view+json": {
       "version_major": 2,
       "version_minor": 0,
       "model_id": "65dea2c49275419d8806f046c9830b51"
      }
     },
     "metadata": {},
     "output_type": "display_data"
    }
   ],
   "source": [
    "# MODEL_NAME = \"google-bert/bert-base-uncased\"\n",
    "MODEL_NAME = \"ProsusAI/finbert\"\n",
    "tokenizer = AutoTokenizer.from_pretrained(MODEL_NAME)\n",
    "\n",
    "\n",
    "def tokenize(datapoint):\n",
    "    return tokenizer(datapoint['text'], padding='max_length', truncation=True)\n",
    "\n",
    "\n",
    "tokenized_train_df = ds_train_condensed.map(tokenize, batched=True)\n",
    "tokenized_test_df = ds_train_condensed.map(tokenize, batched=True)"
   ],
   "metadata": {
    "collapsed": false,
    "ExecuteTime": {
     "end_time": "2024-08-15T05:58:27.751428Z",
     "start_time": "2024-08-15T05:58:22.582106Z"
    }
   },
   "id": "af6334be2fda7872",
   "execution_count": 6
  },
  {
   "cell_type": "code",
   "outputs": [],
   "source": [
    "model = AutoModelForSequenceClassification.from_pretrained(MODEL_NAME, num_labels=3)"
   ],
   "metadata": {
    "collapsed": false,
    "ExecuteTime": {
     "end_time": "2024-08-13T04:31:17.858946Z",
     "start_time": "2024-08-13T04:31:17.423763Z"
    }
   },
   "id": "61772ec68076b80b",
   "execution_count": 16
  },
  {
   "cell_type": "code",
   "outputs": [],
   "source": [
    "training_args = TrainingArguments(\n",
    "    output_dir=\"fin_bert\",\n",
    "    eval_strategy=\"epoch\",\n",
    "    per_device_train_batch_size=16,\n",
    "    per_device_eval_batch_size=16,\n",
    "    num_train_epochs=5)\n",
    "\n",
    "metric = evaluate.load(\"accuracy\")"
   ],
   "metadata": {
    "collapsed": false,
    "ExecuteTime": {
     "end_time": "2024-08-13T04:31:29.707403Z",
     "start_time": "2024-08-13T04:31:27.739068Z"
    }
   },
   "id": "fe74b29d7f5778bb",
   "execution_count": 17
  },
  {
   "cell_type": "code",
   "outputs": [],
   "source": [
    "def compute_metrics(eval_pred):\n",
    "    logits, labels = eval_pred\n",
    "    y_pred = np.argmax(logits, axis=-1)\n",
    "    return metric.compute(predictions=y_pred, references=labels)"
   ],
   "metadata": {
    "collapsed": false,
    "ExecuteTime": {
     "end_time": "2024-08-13T04:31:29.713006Z",
     "start_time": "2024-08-13T04:31:29.708415Z"
    }
   },
   "id": "e121fa480ba10a41",
   "execution_count": 18
  },
  {
   "cell_type": "code",
   "outputs": [
    {
     "name": "stderr",
     "output_type": "stream",
     "text": [
      "E:\\Academics\\NEU\\DS5230 - USML\\Assignments\\venv\\Lib\\site-packages\\transformers\\models\\bert\\modeling_bert.py:439: UserWarning: 1Torch was not compiled with flash attention. (Triggered internally at ..\\aten\\src\\ATen\\native\\transformers\\cuda\\sdp_utils.cpp:455.)\n",
      "  attn_output = torch.nn.functional.scaled_dot_product_attention(\n"
     ]
    },
    {
     "data": {
      "text/plain": "<IPython.core.display.HTML object>",
      "text/html": "\n    <div>\n      \n      <progress value='3030' max='3030' style='width:300px; height:20px; vertical-align: middle;'></progress>\n      [3030/3030 35:07, Epoch 5/5]\n    </div>\n    <table border=\"1\" class=\"dataframe\">\n  <thead>\n <tr style=\"text-align: left;\">\n      <th>Epoch</th>\n      <th>Training Loss</th>\n      <th>Validation Loss</th>\n      <th>Accuracy</th>\n    </tr>\n  </thead>\n  <tbody>\n    <tr>\n      <td>1</td>\n      <td>0.757000</td>\n      <td>0.677927</td>\n      <td>0.701590</td>\n    </tr>\n    <tr>\n      <td>2</td>\n      <td>0.520300</td>\n      <td>0.646478</td>\n      <td>0.735549</td>\n    </tr>\n    <tr>\n      <td>3</td>\n      <td>0.371000</td>\n      <td>0.805298</td>\n      <td>0.738680</td>\n    </tr>\n    <tr>\n      <td>4</td>\n      <td>0.224600</td>\n      <td>1.279175</td>\n      <td>0.732418</td>\n    </tr>\n    <tr>\n      <td>5</td>\n      <td>0.064800</td>\n      <td>1.418034</td>\n      <td>0.732177</td>\n    </tr>\n  </tbody>\n</table><p>"
     },
     "metadata": {},
     "output_type": "display_data"
    },
    {
     "data": {
      "text/plain": "TrainOutput(global_step=3030, training_loss=0.342402450282975, metrics={'train_runtime': 2108.5847, 'train_samples_per_second': 22.973, 'train_steps_per_second': 1.437, 'total_flos': 1.274521395474432e+16, 'train_loss': 0.342402450282975, 'epoch': 5.0})"
     },
     "execution_count": 19,
     "metadata": {},
     "output_type": "execute_result"
    }
   ],
   "source": [
    "trainer = Trainer(\n",
    "    model=model,\n",
    "    args=training_args,\n",
    "    train_dataset=tokenized_train_df,\n",
    "    eval_dataset=tokenized_test_df,\n",
    "    compute_metrics=compute_metrics,\n",
    ")\n",
    "\n",
    "trainer.train()"
   ],
   "metadata": {
    "collapsed": false,
    "ExecuteTime": {
     "end_time": "2024-08-13T05:06:43.480171Z",
     "start_time": "2024-08-13T04:31:33.596177Z"
    }
   },
   "id": "cb6451d46ad54bbb",
   "execution_count": 19
  },
  {
   "cell_type": "code",
   "outputs": [
    {
     "data": {
      "text/plain": "<IPython.core.display.HTML object>",
      "text/html": "\n    <div>\n      \n      <progress value='260' max='260' style='width:300px; height:20px; vertical-align: middle;'></progress>\n      [260/260 00:50]\n    </div>\n    "
     },
     "metadata": {},
     "output_type": "display_data"
    },
    {
     "name": "stdout",
     "output_type": "stream",
     "text": [
      "              precision    recall  f1-score   support\n",
      "\n",
      "           0       0.81      0.77      0.79      1167\n",
      "           1       0.64      0.69      0.66      1536\n",
      "           2       0.79      0.74      0.76      1449\n",
      "\n",
      "    accuracy                           0.73      4152\n",
      "   macro avg       0.74      0.74      0.74      4152\n",
      "weighted avg       0.74      0.73      0.73      4152\n",
      "\n",
      "{'eval_loss': 1.4180340766906738, 'eval_model_preparation_time': 0.0011, 'eval_accuracy': 0.7321772639691715, 'eval_runtime': 50.8162, 'eval_samples_per_second': 81.706, 'eval_steps_per_second': 5.116}\n"
     ]
    }
   ],
   "source": [
    "# Define the evaluation metric\n",
    "def eval_metrics(p: EvalPrediction):\n",
    "    preds = np.argmax(p.predictions, axis=1)\n",
    "    report = classification_report(p.label_ids, preds)\n",
    "    print(report)\n",
    "    acc = accuracy_score(p.label_ids, preds)\n",
    "    return {\"accuracy\": acc}\n",
    "\n",
    "\n",
    "# Define training arguments\n",
    "eval_args = TrainingArguments(\n",
    "    output_dir=\"./results_bert\",\n",
    "    do_train=False,\n",
    "    do_eval=True,\n",
    "    per_device_eval_batch_size=16,\n",
    ")\n",
    "\n",
    "# Initialize the Trainer\n",
    "trainer = Trainer(\n",
    "    model=model,\n",
    "    args=eval_args,\n",
    "    eval_dataset=tokenized_test_df,\n",
    "    compute_metrics=eval_metrics,\n",
    ")\n",
    "\n",
    "# Run evaluation\n",
    "eval_result = trainer.evaluate()\n",
    "\n",
    "# Print results\n",
    "print(eval_result)"
   ],
   "metadata": {
    "collapsed": false,
    "ExecuteTime": {
     "end_time": "2024-08-13T05:09:04.006005Z",
     "start_time": "2024-08-13T05:08:13.127654Z"
    }
   },
   "id": "9b8a0dd4a2797f75",
   "execution_count": 22
  }
 ],
 "metadata": {
  "kernelspec": {
   "display_name": "Python 3",
   "language": "python",
   "name": "python3"
  },
  "language_info": {
   "codemirror_mode": {
    "name": "ipython",
    "version": 2
   },
   "file_extension": ".py",
   "mimetype": "text/x-python",
   "name": "python",
   "nbconvert_exporter": "python",
   "pygments_lexer": "ipython2",
   "version": "2.7.6"
  }
 },
 "nbformat": 4,
 "nbformat_minor": 5
}
